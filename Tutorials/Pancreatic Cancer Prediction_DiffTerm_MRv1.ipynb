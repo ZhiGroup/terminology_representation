{
 "cells": [
  {
   "cell_type": "markdown",
   "metadata": {},
   "source": [
    "# Pancreatic Cancer Prediction"
   ]
  },
  {
   "cell_type": "markdown",
   "metadata": {},
   "source": [
    "### Background and Goal\n",
    "\n",
    "Pancreatic cancer (PC) is the fourth leading cause of cancer-related death in both men and women despite its low incidence rate. PC is known to be as a silent killer as it commonly get diagnosed in late stages.\n",
    "\n",
    "The 5-years survival rate for all stages of PC increased to 10% by the end of 2019,while it was 8.5% in 2017. The 5-years survival rates for patients with early-stage diagnosis can be as high as 20%. However, only a small portion of patients have surgically resectable disease at the time of diagnosis). Furthermore, identification of individuals at high risk for PC or with early-stage disease is difficult due to the lack of a reliable screening tools, the absence of sensitive and specific biomarkers, and the low prevalence.[2]\n",
    "\n",
    "Recently, numerous studies have been focused on early detection of PC through the identification and validation of promising biomarkers, imigaing utilities,\n",
    "\n",
    "\n",
    "### Task\n",
    "\n",
    "We want to demonstrate the feasibility of different deep learning architectures mainly Recurrent Neural Networks(RNN) for pancreatic cancer prediction and compare against other baseline models like Logistic Regression (LR) and Random Forrest (RF). \n",
    "\n",
    "### Dataset\n",
    "\n",
    "We will use the Cerner HealthFacts® database and we will extract patients >45 years old with at least two inpatient encounters and has reported pancreatic cancer as our cases, and will extract a similar number of control patients who are also older than 45 years old, but they didn't get diagnosed with any cancer disease and never died or transfered to hospice as appears in the dataset\n",
    "\n",
    "### Metrics\n",
    "We will use the ROC AUC for the models’ performance comparison.\n"
   ]
  },
  {
   "cell_type": "code",
   "execution_count": 1,
   "metadata": {},
   "outputs": [
    {
     "data": {
      "text/plain": [
       "'\\n### Notes from the class\\n\\n--- use argparse create automtic help versus sys.arg\\n'"
      ]
     },
     "execution_count": 1,
     "metadata": {},
     "output_type": "execute_result"
    }
   ],
   "source": [
    "'''\n",
    "### Notes from the class\n",
    "\n",
    "--- use argparse create automtic help versus sys.arg\n",
    "'''"
   ]
  },
  {
   "cell_type": "markdown",
   "metadata": {},
   "source": [
    "#### Required Tools and Packages\n",
    "---------------------------------\n",
    "We mostly use scikit-learn for baseline machine learning, plotly and matpoltlib for visualization within ipython notebooks, but we also use Tableau aside of it.\n",
    "\n",
    "For deep learning we rely on Pytorch framework (v1), GPU enabling accelerate the computational performance,and for the full set model trainings we might need to utilize the Pytorch DataParallel functionality for parallel GPU computing. "
   ]
  },
  {
   "cell_type": "code",
   "execution_count": 2,
   "metadata": {},
   "outputs": [
    {
     "data": {
      "text/html": [
       "        <script type=\"text/javascript\">\n",
       "        window.PlotlyConfig = {MathJaxConfig: 'local'};\n",
       "        if (window.MathJax) {MathJax.Hub.Config({SVG: {font: \"STIX-Web\"}});}\n",
       "        if (typeof require !== 'undefined') {\n",
       "        require.undef(\"plotly\");\n",
       "        requirejs.config({\n",
       "            paths: {\n",
       "                'plotly': ['https://cdn.plot.ly/plotly-latest.min']\n",
       "            }\n",
       "        });\n",
       "        require(['plotly'], function(Plotly) {\n",
       "            window._Plotly = Plotly;\n",
       "        });\n",
       "        }\n",
       "        </script>\n",
       "        "
      ]
     },
     "metadata": {},
     "output_type": "display_data"
    }
   ],
   "source": [
    "### Tools and Packages\n",
    "##Basics\n",
    "import pandas as pd\n",
    "import numpy as np\n",
    "import sys, random\n",
    "import math\n",
    "try:\n",
    "    import cPickle as pickle\n",
    "except:\n",
    "    import pickle\n",
    "import string\n",
    "import re\n",
    "import os\n",
    "import time\n",
    "from tqdm import tqdm\n",
    "\n",
    "## ML and Stats \n",
    "from sklearn import datasets, linear_model\n",
    "from sklearn.linear_model import LinearRegression\n",
    "import sklearn.metrics as m\n",
    "import sklearn.linear_model  as lm\n",
    "import lifelines#.estimation import KaplanMeierFitter\n",
    "from sklearn.metrics import roc_auc_score\n",
    "from sklearn.ensemble import RandomForestClassifier\n",
    "from sklearn.preprocessing import MultiLabelBinarizer\n",
    "from sklearn.tree import export_graphviz\n",
    "import statsmodels.formula.api as sm\n",
    "import patsy\n",
    "from scipy import stats\n",
    "\n",
    "## Visualization\n",
    "import matplotlib\n",
    "import matplotlib.pyplot as plt\n",
    "from matplotlib.pyplot import cm\n",
    "%matplotlib inline\n",
    "import chart_studio.plotly as py\n",
    "from plotly.offline import download_plotlyjs, init_notebook_mode, plot, iplot\n",
    "init_notebook_mode(connected=True)\n",
    "import plotly.tools as tls\n",
    "import plotly.graph_objs as go\n",
    "from plotly.graph_objs import *\n",
    "from IPython.display import HTML\n",
    "\n",
    "## DL Framework\n",
    "import torch\n",
    "import torch.nn as nn\n",
    "from torch.nn import Parameter\n",
    "import torch.nn.functional as F\n",
    "from torch.autograd import Variable\n",
    "from torch import optim\n",
    "\n",
    "\n",
    "\n",
    "###GPU enabling and device allocation\n",
    "use_cuda = torch.cuda.is_available()\n",
    "torch.cuda.set_device(7)\n",
    "\n"
   ]
  },
  {
   "cell_type": "markdown",
   "metadata": {},
   "source": [
    "# Baseline Analysis"
   ]
  },
  {
   "cell_type": "markdown",
   "metadata": {},
   "source": [
    "#### Model Definitions"
   ]
  },
  {
   "cell_type": "code",
   "execution_count": 3,
   "metadata": {},
   "outputs": [],
   "source": [
    "##### Data conversion to onehot matrices for Logestic Regression and may be Random Forest Basic test\n",
    "def run_LR_model(train_sl,test_sl,input_size_1):\n",
    "    pts_tr=[]\n",
    "    labels_tr=[]\n",
    "    features_tr=[]\n",
    "    for pt in train_sl:\n",
    "        pts_tr.append(pt[0])\n",
    "        labels_tr.append(pt[1])\n",
    "        x=[]\n",
    "        for v in pt[-1]:\n",
    "            x.extend(v[-1])\n",
    "        features_tr.append(x)\n",
    "\n",
    "    pts_t=[]\n",
    "    labels_t=[]\n",
    "    features_t=[]\n",
    "    for pt in test_sl:\n",
    "        pts_t.append(pt[0])\n",
    "        labels_t.append(pt[1])\n",
    "        x=[]\n",
    "        for v in pt[-1]:\n",
    "            x.extend(v[-1])\n",
    "        features_t.append(x)\n",
    "\n",
    "\n",
    "    mlb = MultiLabelBinarizer(classes=range(input_size_1[0])[1:])\n",
    "    nfeatures_tr = mlb.fit_transform(features_tr)\n",
    "    nfeatures_t= mlb.fit_transform(features_t)\n",
    "\n",
    "    EHR_LR= lm.LogisticRegression()\n",
    "    EHR_LR.fit(nfeatures_tr, labels_tr)\n",
    "    #labels,scores=evaluate(EHR_LR,nfeatures_t, labels_t)\n",
    "    #predictions = EHR_LR.predict(test_features)\n",
    "    pred_prob=EHR_LR.predict_proba(nfeatures_t)\n",
    "    auc_p=roc_auc_score(labels_t,pred_prob[:,1])\n",
    "    return auc_p,pts_t,labels_t,pred_prob[:,1]\n"
   ]
  },
  {
   "cell_type": "code",
   "execution_count": 4,
   "metadata": {},
   "outputs": [],
   "source": [
    "### DL RNN Model training \n",
    "import models as model \n",
    "from EHRDataloader import EHRdataloader\n",
    "from EHRDataloader import EHRdataFromLoadedPickles as EHRDataset\n",
    "import utils as ut \n",
    "from EHREmb import EHREmbeddings\n",
    "\n",
    "### for tracking computational timing\n",
    "def timeSince(since):\n",
    "    now = time.time()\n",
    "    s = now - since\n",
    "    m = math.floor(s / 60)\n",
    "    s -= m * 60\n",
    "    return '%dm %ds' % (m, s)\n",
    "\n",
    "def run_dl_model(ehr_model,train_sl,valid_sl,test_sl,bmodel_pth,bmodel_st,wmodel,packpadmode):\n",
    "    ## Data Loading\n",
    "    print (' creating the list of training minibatches')\n",
    "    train = EHRDataset(train_sl,sort= True, model='RNN')\n",
    "    train_mbs = list(tqdm(EHRdataloader(train, batch_size = 128, packPadMode = packpadmode)))\n",
    "    print (' creating the list of valid minibatches')\n",
    "    valid = EHRDataset(valid_sl,sort= True, model='RNN')\n",
    "    valid_mbs = list(tqdm(EHRdataloader(valid, batch_size = 128, packPadMode = packpadmode)))\n",
    "    print (' creating the list of test minibatches')\n",
    "    test = EHRDataset(test_sl,sort= True, model='RNN')\n",
    "    test_mbs = list(tqdm(EHRdataloader(test, batch_size = 128, packPadMode = packpadmode)))\n",
    "\n",
    "\n",
    "    ##Hyperparameters -- Fixed for testing purpose\n",
    "    epochs = 100\n",
    "    l2 = 0.0001\n",
    "    lr = 0.01\n",
    "    eps = 1e-4\n",
    "    w_model= wmodel\n",
    "    optimizer = optim.Adamax(ehr_model.parameters(), lr=lr, weight_decay=l2 ,eps=eps)   \n",
    "\n",
    "    ##Training epochs\n",
    "    bestValidAuc = 0.0\n",
    "    bestTestAuc = 0.0\n",
    "    bestValidEpoch = 0\n",
    "    train_auc_allep =[]\n",
    "    valid_auc_allep =[]\n",
    "    test_auc_allep=[]  \n",
    "    for ep in range(epochs):\n",
    "        start = time.time()\n",
    "        current_loss, train_loss = ut.trainbatches(train_mbs, model= ehr_model, optimizer = optimizer)\n",
    "        avg_loss = np.mean(train_loss)\n",
    "        train_time = timeSince(start)\n",
    "        eval_start = time.time()\n",
    "        Train_auc, y_real, y_hat  = ut.calculate_auc(ehr_model, train_mbs, which_model = w_model)\n",
    "        valid_auc, y_real, y_hat  = ut.calculate_auc(ehr_model, valid_mbs, which_model = w_model)\n",
    "        TestAuc, y_real, y_hat = ut.calculate_auc(ehr_model, test_mbs, which_model = w_model)\n",
    "        eval_time = timeSince(eval_start)\n",
    "        print (\"Epoch: \" ,str(ep) ,\" Train_auc :\" , str(Train_auc) , \" , Valid_auc : \" ,str(valid_auc) , \" ,& Test_auc : \" , str(TestAuc) ,\" Avg Loss: \" ,str(avg_loss), ' , Train Time :' , str(train_time) ,' ,Eval Time :' ,str(eval_time))\n",
    "        train_auc_allep.append(Train_auc)\n",
    "        valid_auc_allep.append(valid_auc)\n",
    "        test_auc_allep.append(TestAuc)\n",
    "        if valid_auc > bestValidAuc: \n",
    "            bestTrainAuc=Train_auc\n",
    "            bestValidAuc = valid_auc\n",
    "            bestValidEpoch = ep\n",
    "            bestTestAuc = TestAuc\n",
    "            ###uncomment the below lines to save the best model parameters\n",
    "            best_model = ehr_model\n",
    "            torch.save(best_model, bmodel_pth)\n",
    "            torch.save(best_model.state_dict(), bmodel_st)\n",
    "        if ep - bestValidEpoch >10: break\n",
    "    print( 'bestValidAuc %f has a TestAuc of %f at epoch %d ' % (bestValidAuc, bestTestAuc, bestValidEpoch))\n",
    "    return bestTrainAuc,bestValidAuc,bestTestAuc,bestValidEpoch"
   ]
  },
  {
   "cell_type": "markdown",
   "metadata": {},
   "source": [
    "### Run Models"
   ]
  },
  {
   "cell_type": "code",
   "execution_count": 5,
   "metadata": {},
   "outputs": [
    {
     "name": "stdout",
     "output_type": "stream",
     "text": [
      "20584\n"
     ]
    }
   ],
   "source": [
    "train_sl= pickle.load(open('../data/pdata/lr_pc_cid.combined.train', 'rb'), encoding='bytes')\n",
    "test_sl= pickle.load(open('../data/pdata/lr_pc_cid.combined.test', 'rb'), encoding='bytes')\n",
    "valid_sl= pickle.load(open('../data/pdata/lr_pc_cid.combined.valid', 'rb'), encoding='bytes')\n",
    "types_d=pickle.load(open('../data/pdata/lr_pc_cid.types', 'rb'), encoding='bytes')\n",
    "\n",
    "print (len(train_sl))"
   ]
  },
  {
   "cell_type": "code",
   "execution_count": 5,
   "metadata": {},
   "outputs": [
    {
     "name": "stderr",
     "output_type": "stream",
     "text": [
      "\r",
      "  0%|          | 0/161 [00:00<?, ?it/s]"
     ]
    },
    {
     "name": "stdout",
     "output_type": "stream",
     "text": [
      " creating the list of training minibatches\n"
     ]
    },
    {
     "name": "stderr",
     "output_type": "stream",
     "text": [
      "100%|██████████| 161/161 [00:13<00:00, 12.08it/s]\n",
      "  0%|          | 0/23 [00:00<?, ?it/s]"
     ]
    },
    {
     "name": "stdout",
     "output_type": "stream",
     "text": [
      " creating the list of valid minibatches\n"
     ]
    },
    {
     "name": "stderr",
     "output_type": "stream",
     "text": [
      "100%|██████████| 23/23 [00:02<00:00, 11.34it/s]\n",
      "  0%|          | 0/46 [00:00<?, ?it/s]"
     ]
    },
    {
     "name": "stdout",
     "output_type": "stream",
     "text": [
      " creating the list of test minibatches\n"
     ]
    },
    {
     "name": "stderr",
     "output_type": "stream",
     "text": [
      "100%|██████████| 46/46 [00:03<00:00, 12.19it/s]\n"
     ]
    },
    {
     "name": "stdout",
     "output_type": "stream",
     "text": [
      "Epoch:  0  Train_auc : 0.800438601644369  , Valid_auc :  0.7790773535336185  ,& Test_auc :  0.7798359018728506  Avg Loss:  0.5563209377229215  , Train Time : 0m 1s  ,Eval Time : 0m 0s\n",
      "Epoch:  1  Train_auc : 0.8234214434170852  , Valid_auc :  0.7914681478560944  ,& Test_auc :  0.7888791582866015  Avg Loss:  0.5104655368253588  , Train Time : 0m 1s  ,Eval Time : 0m 0s\n",
      "Epoch:  2  Train_auc : 0.831631578862309  , Valid_auc :  0.7918082566909216  ,& Test_auc :  0.7891491713859347  Avg Loss:  0.4934166925027966  , Train Time : 0m 0s  ,Eval Time : 0m 0s\n",
      "Epoch:  3  Train_auc : 0.8389963001841505  , Valid_auc :  0.7918814508447581  ,& Test_auc :  0.7897425454802935  Avg Loss:  0.48771229684352874  , Train Time : 0m 1s  ,Eval Time : 0m 0s\n",
      "Epoch:  4  Train_auc : 0.8431040102286909  , Valid_auc :  0.7936908103275975  ,& Test_auc :  0.7910396268169203  Avg Loss:  0.4763506753370166  , Train Time : 0m 1s  ,Eval Time : 0m 0s\n",
      "Epoch:  5  Train_auc : 0.8515708276673375  , Valid_auc :  0.7910404500171762  ,& Test_auc :  0.7915044809807477  Avg Loss:  0.4639540610834956  , Train Time : 0m 1s  ,Eval Time : 0m 0s\n",
      "Epoch:  6  Train_auc : 0.855334619435197  , Valid_auc :  0.782320342509603  ,& Test_auc :  0.7872733866262646  Avg Loss:  0.4600393174216151  , Train Time : 0m 1s  ,Eval Time : 0m 0s\n",
      "Epoch:  7  Train_auc : 0.8610746796224321  , Valid_auc :  0.7783966479029386  ,& Test_auc :  0.7815343048793439  Avg Loss:  0.4528162938542664  , Train Time : 0m 1s  ,Eval Time : 0m 0s\n",
      "Epoch:  8  Train_auc : 0.8755099916801066  , Valid_auc :  0.7899178956778364  ,& Test_auc :  0.7870859415200369  Avg Loss:  0.44174829386174674  , Train Time : 0m 1s  ,Eval Time : 0m 0s\n",
      "Epoch:  9  Train_auc : 0.8912787145660043  , Valid_auc :  0.7909411499484713  ,& Test_auc :  0.7891573554381148  Avg Loss:  0.4236888621002436  , Train Time : 0m 1s  ,Eval Time : 0m 0s\n",
      "Epoch:  10  Train_auc : 0.8919579102804893  , Valid_auc :  0.7803987519908809  ,& Test_auc :  0.779893432728546  Avg Loss:  0.4189273610711098  , Train Time : 0m 1s  ,Eval Time : 0m 0s\n",
      "Epoch:  11  Train_auc : 0.9019492731101268  , Valid_auc :  0.7820285418163081  ,& Test_auc :  0.7891151621024308  Avg Loss:  0.4041050490923226  , Train Time : 0m 1s  ,Eval Time : 0m 0s\n",
      "Epoch:  12  Train_auc : 0.8964284066641124  , Valid_auc :  0.7753059027669342  ,& Test_auc :  0.7778101974017635  Avg Loss:  0.40147238736972213  , Train Time : 0m 1s  ,Eval Time : 0m 0s\n",
      "Epoch:  13  Train_auc : 0.9180011606981571  , Valid_auc :  0.7771889443646358  ,& Test_auc :  0.773682949576054  Avg Loss:  0.38137913476675744  , Train Time : 0m 1s  ,Eval Time : 0m 0s\n",
      "Epoch:  14  Train_auc : 0.9212189039979797  , Valid_auc :  0.7815064235189408  ,& Test_auc :  0.7832267062475722  Avg Loss:  0.37580821802839637  , Train Time : 0m 1s  ,Eval Time : 0m 0s\n",
      "Epoch:  15  Train_auc : 0.9270085932374227  , Valid_auc :  0.7738034707691828  ,& Test_auc :  0.7747502106029427  Avg Loss:  0.3574136674404144  , Train Time : 0m 1s  ,Eval Time : 0m 0s\n",
      "bestValidAuc 0.793691 has a TestAuc of 0.791040 at epoch 4 \n"
     ]
    },
    {
     "name": "stderr",
     "output_type": "stream",
     "text": [
      "\r",
      "  0%|          | 0/161 [00:00<?, ?it/s]"
     ]
    },
    {
     "name": "stdout",
     "output_type": "stream",
     "text": [
      " creating the list of training minibatches\n"
     ]
    },
    {
     "name": "stderr",
     "output_type": "stream",
     "text": [
      "100%|██████████| 161/161 [00:13<00:00, 11.98it/s]\n",
      "  0%|          | 0/23 [00:00<?, ?it/s]"
     ]
    },
    {
     "name": "stdout",
     "output_type": "stream",
     "text": [
      " creating the list of valid minibatches\n"
     ]
    },
    {
     "name": "stderr",
     "output_type": "stream",
     "text": [
      "100%|██████████| 23/23 [00:02<00:00, 11.29it/s]\n",
      "  0%|          | 0/46 [00:00<?, ?it/s]"
     ]
    },
    {
     "name": "stdout",
     "output_type": "stream",
     "text": [
      " creating the list of test minibatches\n"
     ]
    },
    {
     "name": "stderr",
     "output_type": "stream",
     "text": [
      "100%|██████████| 46/46 [00:03<00:00, 12.05it/s]\n"
     ]
    },
    {
     "name": "stdout",
     "output_type": "stream",
     "text": [
      "Epoch:  0  Train_auc : 0.8048319699894098  , Valid_auc :  0.7815808375753412  ,& Test_auc :  0.780512753299446  Avg Loss:  0.5551479576155542  , Train Time : 0m 1s  ,Eval Time : 0m 0s\n",
      "Epoch:  1  Train_auc : 0.8271722863202592  , Valid_auc :  0.7929813149964084  ,& Test_auc :  0.7894410692470235  Avg Loss:  0.5042521202936769  , Train Time : 0m 0s  ,Eval Time : 0m 0s\n",
      "Epoch:  2  Train_auc : 0.8342389804988015  , Valid_auc :  0.7932575009368851  ,& Test_auc :  0.789332494154768  Avg Loss:  0.49169527385383843  , Train Time : 0m 1s  ,Eval Time : 0m 0s\n",
      "Epoch:  3  Train_auc : 0.838796113313988  , Valid_auc :  0.7997830037319259  ,& Test_auc :  0.7930614514410479  Avg Loss:  0.4844123447313905  , Train Time : 0m 0s  ,Eval Time : 0m 0s\n",
      "Epoch:  4  Train_auc : 0.8512734995247737  , Valid_auc :  0.7987424268448831  ,& Test_auc :  0.7957071433317312  Avg Loss:  0.47351533360779285  , Train Time : 0m 1s  ,Eval Time : 0m 0s\n",
      "Epoch:  5  Train_auc : 0.8552806377401126  , Valid_auc :  0.7950439262515225  ,& Test_auc :  0.7939024688921146  Avg Loss:  0.46795806884765623  , Train Time : 0m 1s  ,Eval Time : 0m 0s\n",
      "Epoch:  6  Train_auc : 0.8666925039151229  , Valid_auc :  0.7930852506948565  ,& Test_auc :  0.7923616240457395  Avg Loss:  0.4555173395201564  , Train Time : 0m 1s  ,Eval Time : 0m 0s\n",
      "Epoch:  7  Train_auc : 0.8750631071248965  , Valid_auc :  0.7897024608850441  ,& Test_auc :  0.7922382570369513  Avg Loss:  0.4459633054211736  , Train Time : 0m 1s  ,Eval Time : 0m 0s\n",
      "Epoch:  8  Train_auc : 0.8805431439960453  , Valid_auc :  0.788489145794947  ,& Test_auc :  0.7889616656570982  Avg Loss:  0.4360074456781149  , Train Time : 0m 0s  ,Eval Time : 0m 0s\n",
      "Epoch:  9  Train_auc : 0.8856098929643474  , Valid_auc :  0.7921610525124138  ,& Test_auc :  0.7916134198086557  Avg Loss:  0.4288064677268267  , Train Time : 0m 0s  ,Eval Time : 0m 0s\n",
      "Epoch:  10  Train_auc : 0.8957182219170282  , Valid_auc :  0.7875766586771181  ,& Test_auc :  0.7880542664494599  Avg Loss:  0.4196681138128042  , Train Time : 0m 1s  ,Eval Time : 0m 0s\n",
      "Epoch:  11  Train_auc : 0.9042447816100105  , Valid_auc :  0.785502824318416  ,& Test_auc :  0.7849215931427584  Avg Loss:  0.41010498553514485  , Train Time : 0m 1s  ,Eval Time : 0m 0s\n",
      "Epoch:  12  Train_auc : 0.9129261179126196  , Valid_auc :  0.7890766508697418  ,& Test_auc :  0.7867740381980634  Avg Loss:  0.3861057712696493  , Train Time : 0m 1s  ,Eval Time : 0m 0s\n",
      "Epoch:  13  Train_auc : 0.9201083405531187  , Valid_auc :  0.7903760910808533  ,& Test_auc :  0.7878931921780346  Avg Loss:  0.37733976151794196  , Train Time : 0m 1s  ,Eval Time : 0m 0s\n",
      "Epoch:  14  Train_auc : 0.9305293013027598  , Valid_auc :  0.7854042561912495  ,& Test_auc :  0.7846574604364731  Avg Loss:  0.36691058212891225  , Train Time : 0m 1s  ,Eval Time : 0m 0s\n",
      "bestValidAuc 0.799783 has a TestAuc of 0.793061 at epoch 3 \n"
     ]
    },
    {
     "name": "stderr",
     "output_type": "stream",
     "text": [
      "\r",
      "  0%|          | 0/161 [00:00<?, ?it/s]"
     ]
    },
    {
     "name": "stdout",
     "output_type": "stream",
     "text": [
      " creating the list of training minibatches\n"
     ]
    },
    {
     "name": "stderr",
     "output_type": "stream",
     "text": [
      "100%|██████████| 161/161 [00:13<00:00, 11.89it/s]\n",
      "  0%|          | 0/23 [00:00<?, ?it/s]"
     ]
    },
    {
     "name": "stdout",
     "output_type": "stream",
     "text": [
      " creating the list of valid minibatches\n"
     ]
    },
    {
     "name": "stderr",
     "output_type": "stream",
     "text": [
      "100%|██████████| 23/23 [00:02<00:00, 11.44it/s]\n",
      "  0%|          | 0/46 [00:00<?, ?it/s]"
     ]
    },
    {
     "name": "stdout",
     "output_type": "stream",
     "text": [
      " creating the list of test minibatches\n"
     ]
    },
    {
     "name": "stderr",
     "output_type": "stream",
     "text": [
      "100%|██████████| 46/46 [00:03<00:00, 12.08it/s]\n"
     ]
    },
    {
     "name": "stdout",
     "output_type": "stream",
     "text": [
      "Epoch:  0  Train_auc : 0.7929212205449147  , Valid_auc :  0.7649977261016209  ,& Test_auc :  0.7706842522346706  Avg Loss:  0.54786173440516  , Train Time : 0m 1s  ,Eval Time : 0m 0s\n",
      "Epoch:  1  Train_auc : 0.8152692705009208  , Valid_auc :  0.7852969047656226  ,& Test_auc :  0.7816498515716048  Avg Loss:  0.5076137389987707  , Train Time : 0m 1s  ,Eval Time : 0m 0s\n",
      "Epoch:  2  Train_auc : 0.8360373953693809  , Valid_auc :  0.790320951484963  ,& Test_auc :  0.7928067152391174  Avg Loss:  0.4915834244340658  , Train Time : 0m 1s  ,Eval Time : 0m 0s\n",
      "Epoch:  3  Train_auc : 0.8427868274907728  , Valid_auc :  0.7953206001530245  ,& Test_auc :  0.794863215995445  Avg Loss:  0.4814805280417204  , Train Time : 0m 0s  ,Eval Time : 0m 0s\n",
      "Epoch:  4  Train_auc : 0.8521020483963718  , Valid_auc :  0.801565037397333  ,& Test_auc :  0.797586322957491  Avg Loss:  0.47300838176161053  , Train Time : 0m 1s  ,Eval Time : 0m 0s\n",
      "Epoch:  5  Train_auc : 0.8595621163929821  , Valid_auc :  0.8003148812498048  ,& Test_auc :  0.7983433174728423  Avg Loss:  0.4620887218043208  , Train Time : 0m 1s  ,Eval Time : 0m 0s\n",
      "Epoch:  6  Train_auc : 0.8690342356976741  , Valid_auc :  0.7978533618562819  ,& Test_auc :  0.7938783410938355  Avg Loss:  0.45698212292045354  , Train Time : 0m 1s  ,Eval Time : 0m 0s\n",
      "Epoch:  7  Train_auc : 0.8731974345027139  , Valid_auc :  0.7926602366415789  ,& Test_auc :  0.7891873636294416  Avg Loss:  0.44354518614709376  , Train Time : 0m 1s  ,Eval Time : 0m 0s\n",
      "Epoch:  8  Train_auc : 0.8809409101166058  , Valid_auc :  0.7947531014802787  ,& Test_auc :  0.7946878347883568  Avg Loss:  0.4326621752232313  , Train Time : 0m 1s  ,Eval Time : 0m 0s\n",
      "Epoch:  9  Train_auc : 0.8884973559380056  , Valid_auc :  0.7896548846850504  ,& Test_auc :  0.7852778722143304  Avg Loss:  0.41947587085887794  , Train Time : 0m 1s  ,Eval Time : 0m 0s\n",
      "Epoch:  10  Train_auc : 0.8994887756494478  , Valid_auc :  0.7911729314356204  ,& Test_auc :  0.788673829510795  Avg Loss:  0.4093068252317607  , Train Time : 0m 1s  ,Eval Time : 0m 0s\n",
      "Epoch:  11  Train_auc : 0.912196033953113  , Valid_auc :  0.7886377299272352  ,& Test_auc :  0.7918077152696712  Avg Loss:  0.40060958517715334  , Train Time : 0m 0s  ,Eval Time : 0m 0s\n",
      "Epoch:  12  Train_auc : 0.9148644816538234  , Valid_auc :  0.7858497646076013  ,& Test_auc :  0.7897421817446411  Avg Loss:  0.38976736916229127  , Train Time : 0m 0s  ,Eval Time : 0m 0s\n",
      "Epoch:  13  Train_auc : 0.9220711990647708  , Valid_auc :  0.7854759864620093  ,& Test_auc :  0.7922839664839421  Avg Loss:  0.3715463378466666  , Train Time : 0m 0s  ,Eval Time : 0m 0s\n",
      "Epoch:  14  Train_auc : 0.9327026383549755  , Valid_auc :  0.7887336142687611  ,& Test_auc :  0.7868945559442408  Avg Loss:  0.3565445396117866  , Train Time : 0m 0s  ,Eval Time : 0m 0s\n",
      "Epoch:  15  Train_auc : 0.9376012801251593  , Valid_auc :  0.7745446835670342  ,& Test_auc :  0.7748191991316902  Avg Loss:  0.3514554094523191  , Train Time : 0m 1s  ,Eval Time : 0m 0s\n",
      "bestValidAuc 0.801565 has a TestAuc of 0.797586 at epoch 4 \n"
     ]
    },
    {
     "name": "stderr",
     "output_type": "stream",
     "text": [
      "\r",
      "  0%|          | 0/161 [00:00<?, ?it/s]"
     ]
    },
    {
     "name": "stdout",
     "output_type": "stream",
     "text": [
      " creating the list of training minibatches\n"
     ]
    },
    {
     "name": "stderr",
     "output_type": "stream",
     "text": [
      "100%|██████████| 161/161 [00:13<00:00, 11.71it/s]\n",
      "  0%|          | 0/23 [00:00<?, ?it/s]"
     ]
    },
    {
     "name": "stdout",
     "output_type": "stream",
     "text": [
      " creating the list of valid minibatches\n"
     ]
    },
    {
     "name": "stderr",
     "output_type": "stream",
     "text": [
      "100%|██████████| 23/23 [00:02<00:00, 11.32it/s]\n",
      "  0%|          | 0/46 [00:00<?, ?it/s]"
     ]
    },
    {
     "name": "stdout",
     "output_type": "stream",
     "text": [
      " creating the list of test minibatches\n"
     ]
    },
    {
     "name": "stderr",
     "output_type": "stream",
     "text": [
      "100%|██████████| 46/46 [00:03<00:00, 12.14it/s]\n"
     ]
    },
    {
     "name": "stdout",
     "output_type": "stream",
     "text": [
      "Epoch:  0  Train_auc : 0.7996613822310226  , Valid_auc :  0.7789187662003061  ,& Test_auc :  0.7813351596096292  Avg Loss:  0.5491439299657941  , Train Time : 0m 1s  ,Eval Time : 0m 0s\n",
      "Epoch:  1  Train_auc : 0.8175528265839755  , Valid_auc :  0.7861000886137222  ,& Test_auc :  0.7890046470866956  Avg Loss:  0.508198581263423  , Train Time : 0m 1s  ,Eval Time : 0m 0s\n",
      "Epoch:  2  Train_auc : 0.8285664804677431  , Valid_auc :  0.7832230704069205  ,& Test_auc :  0.7921444132386197  Avg Loss:  0.49686279408633716  , Train Time : 0m 1s  ,Eval Time : 0m 0s\n",
      "Epoch:  3  Train_auc : 0.8353220598296442  , Valid_auc :  0.7880329022360326  ,& Test_auc :  0.7909178966185679  Avg Loss:  0.48518967498093846  , Train Time : 0m 1s  ,Eval Time : 0m 0s\n",
      "Epoch:  4  Train_auc : 0.8478539532254288  , Valid_auc :  0.7974076094594172  ,& Test_auc :  0.7984544387146648  Avg Loss:  0.47958972677588463  , Train Time : 0m 1s  ,Eval Time : 0m 0s\n",
      "Epoch:  5  Train_auc : 0.8550759891631289  , Valid_auc :  0.7889024487836108  ,& Test_auc :  0.7939385999669243  Avg Loss:  0.46689402572810657  , Train Time : 0m 1s  ,Eval Time : 0m 0s\n",
      "Epoch:  6  Train_auc : 0.8595430202877874  , Valid_auc :  0.7858522044127292  ,& Test_auc :  0.7887163259595225  Avg Loss:  0.4574682265520096  , Train Time : 0m 1s  ,Eval Time : 0m 0s\n",
      "Epoch:  7  Train_auc : 0.8735047717409132  , Valid_auc :  0.7899862102214172  ,& Test_auc :  0.7952938183853339  Avg Loss:  0.45073127690702675  , Train Time : 0m 1s  ,Eval Time : 0m 0s\n",
      "Epoch:  8  Train_auc : 0.8781524226725975  , Valid_auc :  0.7964370549795448  ,& Test_auc :  0.7930158026166658  Avg Loss:  0.44127225009724497  , Train Time : 0m 1s  ,Eval Time : 0m 0s\n",
      "Epoch:  9  Train_auc : 0.8863565001114485  , Valid_auc :  0.7854969687861091  ,& Test_auc :  0.7886578251420873  Avg Loss:  0.42836937587708235  , Train Time : 0m 1s  ,Eval Time : 0m 0s\n",
      "Epoch:  10  Train_auc : 0.890373473911602  , Valid_auc :  0.7908479493925862  ,& Test_auc :  0.7933808113438965  Avg Loss:  0.42420582054182887  , Train Time : 0m 1s  ,Eval Time : 0m 0s\n",
      "Epoch:  11  Train_auc : 0.9002790728212323  , Valid_auc :  0.7915208476468568  ,& Test_auc :  0.7874391894611716  Avg Loss:  0.4049636460840702  , Train Time : 0m 1s  ,Eval Time : 0m 0s\n",
      "Epoch:  12  Train_auc : 0.9132091140613834  , Valid_auc :  0.7917028571093969  ,& Test_auc :  0.7834689541921018  Avg Loss:  0.40236912919208406  , Train Time : 0m 0s  ,Eval Time : 0m 0s\n",
      "Epoch:  13  Train_auc : 0.9179524091149577  , Valid_auc :  0.7923664841041815  ,& Test_auc :  0.7877886788005647  Avg Loss:  0.3792800628580153  , Train Time : 0m 1s  ,Eval Time : 0m 0s\n",
      "Epoch:  14  Train_auc : 0.9219690854679898  , Valid_auc :  0.780068890337591  ,& Test_auc :  0.7764438244233456  Avg Loss:  0.37547722114250065  , Train Time : 0m 0s  ,Eval Time : 0m 0s\n",
      "Epoch:  15  Train_auc : 0.9202273342740397  , Valid_auc :  0.7788882686362075  ,& Test_auc :  0.7776590046155629  Avg Loss:  0.3657022549770772  , Train Time : 0m 0s  ,Eval Time : 0m 0s\n",
      "bestValidAuc 0.797408 has a TestAuc of 0.798454 at epoch 4 \n"
     ]
    },
    {
     "name": "stderr",
     "output_type": "stream",
     "text": [
      "\r",
      "  0%|          | 0/161 [00:00<?, ?it/s]"
     ]
    },
    {
     "name": "stdout",
     "output_type": "stream",
     "text": [
      " creating the list of training minibatches\n"
     ]
    },
    {
     "name": "stderr",
     "output_type": "stream",
     "text": [
      "100%|██████████| 161/161 [00:14<00:00, 11.46it/s]\n",
      "  0%|          | 0/23 [00:00<?, ?it/s]"
     ]
    },
    {
     "name": "stdout",
     "output_type": "stream",
     "text": [
      " creating the list of valid minibatches\n"
     ]
    },
    {
     "name": "stderr",
     "output_type": "stream",
     "text": [
      "100%|██████████| 23/23 [00:02<00:00, 11.01it/s]\n",
      "  0%|          | 0/46 [00:00<?, ?it/s]"
     ]
    },
    {
     "name": "stdout",
     "output_type": "stream",
     "text": [
      " creating the list of test minibatches\n"
     ]
    },
    {
     "name": "stderr",
     "output_type": "stream",
     "text": [
      "100%|██████████| 46/46 [00:03<00:00, 11.88it/s]\n"
     ]
    },
    {
     "name": "stdout",
     "output_type": "stream",
     "text": [
      "Epoch:  0  Train_auc : 0.7973938932499759  , Valid_auc :  0.770863993551107  ,& Test_auc :  0.7731370429843395  Avg Loss:  0.5456335727125405  , Train Time : 0m 1s  ,Eval Time : 0m 0s\n",
      "Epoch:  1  Train_auc : 0.8217304168722398  , Valid_auc :  0.78252918982855  ,& Test_auc :  0.7841841797300306  Avg Loss:  0.5052922824397683  , Train Time : 0m 1s  ,Eval Time : 0m 0s\n",
      "Epoch:  2  Train_auc : 0.8336958618849107  , Valid_auc :  0.7904146400018737  ,& Test_auc :  0.791984612041978  Avg Loss:  0.49043327998369934  , Train Time : 0m 0s  ,Eval Time : 0m 0s\n",
      "Epoch:  3  Train_auc : 0.8372849133838444  , Valid_auc :  0.7917853225227195  ,& Test_auc :  0.7910212581664717  Avg Loss:  0.4939254616387188  , Train Time : 0m 0s  ,Eval Time : 0m 0s\n",
      "Epoch:  4  Train_auc : 0.8480666180023346  , Valid_auc :  0.7933868106086631  ,& Test_auc :  0.7947647648788494  Avg Loss:  0.47717134412378076  , Train Time : 0m 0s  ,Eval Time : 0m 0s\n",
      "Epoch:  5  Train_auc : 0.8562010234104469  , Valid_auc :  0.7937971858311733  ,& Test_auc :  0.7942449866315024  Avg Loss:  0.46806372534483665  , Train Time : 0m 0s  ,Eval Time : 0m 0s\n",
      "Epoch:  6  Train_auc : 0.8642986891416126  , Valid_auc :  0.7953254797632803  ,& Test_auc :  0.795524244921159  Avg Loss:  0.46109439600259067  , Train Time : 0m 0s  ,Eval Time : 0m 0s\n",
      "Epoch:  7  Train_auc : 0.8720245459710129  , Valid_auc :  0.7961047535211268  ,& Test_auc :  0.7970083470057524  Avg Loss:  0.4534410130232573  , Train Time : 0m 0s  ,Eval Time : 0m 0s\n",
      "Epoch:  8  Train_auc : 0.8728471409427306  , Valid_auc :  0.7943859108085318  ,& Test_auc :  0.7949329319954974  Avg Loss:  0.4445897702127695  , Train Time : 0m 0s  ,Eval Time : 0m 0s\n",
      "Epoch:  9  Train_auc : 0.8796272349048883  , Valid_auc :  0.7867080880515911  ,& Test_auc :  0.7900148622387589  Avg Loss:  0.42830346142873166  , Train Time : 0m 0s  ,Eval Time : 0m 0s\n",
      "Epoch:  10  Train_auc : 0.88648612756696  , Valid_auc :  0.7902623961618938  ,& Test_auc :  0.7913155203093014  Avg Loss:  0.4219456477090716  , Train Time : 0m 1s  ,Eval Time : 0m 0s\n",
      "Epoch:  11  Train_auc : 0.9005303710217575  , Valid_auc :  0.7857746186096624  ,& Test_auc :  0.7906392751087933  Avg Loss:  0.4119551479816437  , Train Time : 0m 0s  ,Eval Time : 0m 0s\n",
      "Epoch:  12  Train_auc : 0.9054751319681164  , Valid_auc :  0.779016846366447  ,& Test_auc :  0.7900986426840393  Avg Loss:  0.3989151959307492  , Train Time : 0m 1s  ,Eval Time : 0m 0s\n",
      "Epoch:  13  Train_auc : 0.9156640195161799  , Valid_auc :  0.7781585229224571  ,& Test_auc :  0.7871550512940017  Avg Loss:  0.39172078790143133  , Train Time : 0m 1s  ,Eval Time : 0m 0s\n",
      "Epoch:  14  Train_auc : 0.9204564776214716  , Valid_auc :  0.7764443158396053  ,& Test_auc :  0.7839495702342021  Avg Loss:  0.3748666054569185  , Train Time : 0m 1s  ,Eval Time : 0m 0s\n",
      "Epoch:  15  Train_auc : 0.9226967700207171  , Valid_auc :  0.7639178683520189  ,& Test_auc :  0.7742445574234325  Avg Loss:  0.3663275301456451  , Train Time : 0m 1s  ,Eval Time : 0m 0s\n",
      "Epoch:  16  Train_auc : 0.9312512203387837  , Valid_auc :  0.7722541945129759  ,& Test_auc :  0.7808680624092783  Avg Loss:  0.3567662734538317  , Train Time : 0m 1s  ,Eval Time : 0m 0s\n",
      "Epoch:  17  Train_auc : 0.937520766146845  , Valid_auc :  0.7686710967021643  ,& Test_auc :  0.7791115223210021  Avg Loss:  0.3382778626866638  , Train Time : 0m 1s  ,Eval Time : 0m 0s\n",
      "Epoch:  18  Train_auc : 0.9392986075915267  , Valid_auc :  0.7634250277161861  ,& Test_auc :  0.7751213422136565  Avg Loss:  0.33437262102961546  , Train Time : 0m 0s  ,Eval Time : 0m 0s\n",
      "bestValidAuc 0.796105 has a TestAuc of 0.797008 at epoch 7 \n"
     ]
    },
    {
     "name": "stderr",
     "output_type": "stream",
     "text": [
      "\r",
      "  0%|          | 0/161 [00:00<?, ?it/s]"
     ]
    },
    {
     "name": "stdout",
     "output_type": "stream",
     "text": [
      " creating the list of training minibatches\n"
     ]
    },
    {
     "name": "stderr",
     "output_type": "stream",
     "text": [
      "100%|██████████| 161/161 [00:13<00:00, 11.89it/s]\n",
      "  0%|          | 0/23 [00:00<?, ?it/s]"
     ]
    },
    {
     "name": "stdout",
     "output_type": "stream",
     "text": [
      " creating the list of valid minibatches\n"
     ]
    },
    {
     "name": "stderr",
     "output_type": "stream",
     "text": [
      "100%|██████████| 23/23 [00:02<00:00, 11.34it/s]\n",
      "  0%|          | 0/46 [00:00<?, ?it/s]"
     ]
    },
    {
     "name": "stdout",
     "output_type": "stream",
     "text": [
      " creating the list of test minibatches\n"
     ]
    },
    {
     "name": "stderr",
     "output_type": "stream",
     "text": [
      "100%|██████████| 46/46 [00:03<00:00, 12.03it/s]\n"
     ]
    },
    {
     "name": "stdout",
     "output_type": "stream",
     "text": [
      "Epoch:  0  Train_auc : 0.8007038203701764  , Valid_auc :  0.7779594348240217  ,& Test_auc :  0.7825241508348704  Avg Loss:  0.5558917533606291  , Train Time : 0m 1s  ,Eval Time : 0m 0s\n",
      "Epoch:  1  Train_auc : 0.8189933580355235  , Valid_auc :  0.7864914333562351  ,& Test_auc :  0.7924452832458024  Avg Loss:  0.5065062856301665  , Train Time : 0m 1s  ,Eval Time : 0m 0s\n",
      "Epoch:  2  Train_auc : 0.8299229186606158  , Valid_auc :  0.7901316226070391  ,& Test_auc :  0.7911257715439414  Avg Loss:  0.4925077432766557  , Train Time : 0m 1s  ,Eval Time : 0m 0s\n",
      "Epoch:  3  Train_auc : 0.841724772713962  , Valid_auc :  0.8007481906405172  ,& Test_auc :  0.7995856565937756  Avg Loss:  0.4807561669498682  , Train Time : 0m 1s  ,Eval Time : 0m 0s\n",
      "Epoch:  4  Train_auc : 0.8422353159106062  , Valid_auc :  0.7968318154492365  ,& Test_auc :  0.7978937402064176  Avg Loss:  0.4771275842562318  , Train Time : 0m 1s  ,Eval Time : 0m 0s\n",
      "Epoch:  5  Train_auc : 0.8490785033646675  , Valid_auc :  0.7932316390025296  ,& Test_auc :  0.7904629845625739  Avg Loss:  0.47418687492609024  , Train Time : 0m 1s  ,Eval Time : 0m 0s\n",
      "Epoch:  6  Train_auc : 0.8604331159262578  , Valid_auc :  0.7933507014927704  ,& Test_auc :  0.7985395528573375  Avg Loss:  0.45977560617029667  , Train Time : 0m 1s  ,Eval Time : 0m 0s\n",
      "Epoch:  7  Train_auc : 0.8681412399497699  , Valid_auc :  0.8007594137441054  ,& Test_auc :  0.8008629749599527  Avg Loss:  0.4482143895700574  , Train Time : 0m 1s  ,Eval Time : 0m 0s\n",
      "Epoch:  8  Train_auc : 0.878290681052082  , Valid_auc :  0.7957080412073326  ,& Test_auc :  0.7982807549406215  Avg Loss:  0.44249686133116484  , Train Time : 0m 1s  ,Eval Time : 0m 0s\n",
      "Epoch:  9  Train_auc : 0.8853027639391331  , Valid_auc :  0.8009389834015179  ,& Test_auc :  0.7999484222844829  Avg Loss:  0.43376747183501724  , Train Time : 0m 1s  ,Eval Time : 0m 0s\n",
      "Epoch:  10  Train_auc : 0.8772499036593562  , Valid_auc :  0.7933887624527654  ,& Test_auc :  0.7934824148361468  Avg Loss:  0.4255672777071595  , Train Time : 0m 0s  ,Eval Time : 0m 0s\n",
      "Epoch:  11  Train_auc : 0.8958227646653006  , Valid_auc :  0.7970294396645952  ,& Test_auc :  0.8014677461047548  Avg Loss:  0.4207357348874211  , Train Time : 0m 0s  ,Eval Time : 0m 0s\n",
      "Epoch:  12  Train_auc : 0.9064561918937668  , Valid_auc :  0.792549469488773  ,& Test_auc :  0.7938339047216282  Avg Loss:  0.4013219908811152  , Train Time : 0m 0s  ,Eval Time : 0m 0s\n",
      "Epoch:  13  Train_auc : 0.9105543538857099  , Valid_auc :  0.790574691218263  ,& Test_auc :  0.7954653803680714  Avg Loss:  0.3924453417770565  , Train Time : 0m 0s  ,Eval Time : 0m 0s\n",
      "Epoch:  14  Train_auc : 0.9197497531759  , Valid_auc :  0.7913188317822678  ,& Test_auc :  0.794872370009365  Avg Loss:  0.38278621388599277  , Train Time : 0m 1s  ,Eval Time : 0m 0s\n",
      "Epoch:  15  Train_auc : 0.9208424896232845  , Valid_auc :  0.7835163349832923  ,& Test_auc :  0.7886661910620936  Avg Loss:  0.3605001437477767  , Train Time : 0m 1s  ,Eval Time : 0m 0s\n",
      "Epoch:  16  Train_auc : 0.9212828303418232  , Valid_auc :  0.7642501698104368  ,& Test_auc :  0.7603553721573452  Avg Loss:  0.3529269804246724  , Train Time : 0m 1s  ,Eval Time : 0m 0s\n",
      "Epoch:  17  Train_auc : 0.9328991418382845  , Valid_auc :  0.7841282381093657  ,& Test_auc :  0.7808981918458227  Avg Loss:  0.3459647102281451  , Train Time : 0m 1s  ,Eval Time : 0m 0s\n",
      "Epoch:  18  Train_auc : 0.9459024244746312  , Valid_auc :  0.7708147094875237  ,& Test_auc :  0.7774356103023516  Avg Loss:  0.33534307358786464  , Train Time : 0m 1s  ,Eval Time : 0m 0s\n",
      "Epoch:  19  Train_auc : 0.9391034475777159  , Valid_auc :  0.7728804924893038  ,& Test_auc :  0.7772302209039365  Avg Loss:  0.3143679006025195  , Train Time : 0m 1s  ,Eval Time : 0m 0s\n",
      "Epoch:  20  Train_auc : 0.9536807063591805  , Valid_auc :  0.777242620077449  ,& Test_auc :  0.7786260564702026  Avg Loss:  0.30565477516502143  , Train Time : 0m 1s  ,Eval Time : 0m 0s\n",
      "bestValidAuc 0.800939 has a TestAuc of 0.799948 at epoch 9 \n"
     ]
    },
    {
     "name": "stderr",
     "output_type": "stream",
     "text": [
      "\r",
      "  0%|          | 0/161 [00:00<?, ?it/s]"
     ]
    },
    {
     "name": "stdout",
     "output_type": "stream",
     "text": [
      " creating the list of training minibatches\n"
     ]
    },
    {
     "name": "stderr",
     "output_type": "stream",
     "text": [
      "100%|██████████| 161/161 [00:13<00:00, 11.97it/s]\n",
      "  0%|          | 0/23 [00:00<?, ?it/s]"
     ]
    },
    {
     "name": "stdout",
     "output_type": "stream",
     "text": [
      " creating the list of valid minibatches\n"
     ]
    },
    {
     "name": "stderr",
     "output_type": "stream",
     "text": [
      "100%|██████████| 23/23 [00:02<00:00, 11.25it/s]\n",
      "  0%|          | 0/46 [00:00<?, ?it/s]"
     ]
    },
    {
     "name": "stdout",
     "output_type": "stream",
     "text": [
      " creating the list of test minibatches\n"
     ]
    },
    {
     "name": "stderr",
     "output_type": "stream",
     "text": [
      "100%|██████████| 46/46 [00:03<00:00, 12.11it/s]\n"
     ]
    },
    {
     "name": "stdout",
     "output_type": "stream",
     "text": [
      "Epoch:  0  Train_auc : 0.8015584404819663  , Valid_auc :  0.7773416761656413  ,& Test_auc :  0.7727596066223168  Avg Loss:  0.555058073811233  , Train Time : 0m 1s  ,Eval Time : 0m 0s\n",
      "Epoch:  1  Train_auc : 0.821303372040028  , Valid_auc :  0.7955836111458104  ,& Test_auc :  0.7895444307949273  Avg Loss:  0.5100586170330643  , Train Time : 0m 1s  ,Eval Time : 0m 0s\n",
      "Epoch:  2  Train_auc : 0.8314086422448104  , Valid_auc :  0.7967361750882233  ,& Test_auc :  0.7915340041912048  Avg Loss:  0.4941251758486032  , Train Time : 0m 1s  ,Eval Time : 0m 0s\n",
      "Epoch:  3  Train_auc : 0.8420656867747167  , Valid_auc :  0.8023033224290309  ,& Test_auc :  0.7979034398238161  Avg Loss:  0.48477391209453347  , Train Time : 0m 1s  ,Eval Time : 0m 0s\n",
      "Epoch:  4  Train_auc : 0.8423664752187929  , Valid_auc :  0.7987177848130914  ,& Test_auc :  0.7913183089493034  Avg Loss:  0.4773990230634808  , Train Time : 0m 1s  ,Eval Time : 0m 0s\n",
      "Epoch:  5  Train_auc : 0.8549104201804467  , Valid_auc :  0.8054589663814371  ,& Test_auc :  0.8011101333357906  Avg Loss:  0.46647440344095237  , Train Time : 0m 1s  ,Eval Time : 0m 0s\n",
      "Epoch:  6  Train_auc : 0.8625508700263855  , Valid_auc :  0.798883203600762  ,& Test_auc :  0.7952821788444555  Avg Loss:  0.4643951982259751  , Train Time : 0m 1s  ,Eval Time : 0m 0s\n",
      "Epoch:  7  Train_auc : 0.8673536892064064  , Valid_auc :  0.8071302328940382  ,& Test_auc :  0.8008221153216611  Avg Loss:  0.45253472533077  , Train Time : 0m 1s  ,Eval Time : 0m 0s\n",
      "Epoch:  8  Train_auc : 0.8818018955967941  , Valid_auc :  0.8018397594547328  ,& Test_auc :  0.7947038997796732  Avg Loss:  0.4413692614063621  , Train Time : 0m 1s  ,Eval Time : 0m 0s\n",
      "Epoch:  9  Train_auc : 0.8764237591519894  , Valid_auc :  0.8015301481840041  ,& Test_auc :  0.7978032912741757  Avg Loss:  0.43638638900592924  , Train Time : 0m 1s  ,Eval Time : 0m 0s\n",
      "Epoch:  10  Train_auc : 0.8816850484525992  , Valid_auc :  0.7952620448299552  ,& Test_auc :  0.7923846606370613  Avg Loss:  0.4249752220697701  , Train Time : 0m 1s  ,Eval Time : 0m 0s\n",
      "Epoch:  11  Train_auc : 0.8953405632218749  , Valid_auc :  0.8003060979513443  ,& Test_auc :  0.7938545164086003  Avg Loss:  0.4305737453512848  , Train Time : 0m 1s  ,Eval Time : 0m 0s\n",
      "Epoch:  12  Train_auc : 0.893998174448037  , Valid_auc :  0.7971036097404828  ,& Test_auc :  0.78758856356911  Avg Loss:  0.4036254666745663  , Train Time : 0m 1s  ,Eval Time : 0m 0s\n",
      "Epoch:  13  Train_auc : 0.906427136267457  , Valid_auc :  0.7993706766653134  ,& Test_auc :  0.7950214410042596  Avg Loss:  0.39736452270299194  , Train Time : 0m 1s  ,Eval Time : 0m 0s\n",
      "Epoch:  14  Train_auc : 0.9167805666056336  , Valid_auc :  0.7980565976234346  ,& Test_auc :  0.7873702009324243  Avg Loss:  0.38521844884380696  , Train Time : 0m 1s  ,Eval Time : 0m 0s\n",
      "Epoch:  15  Train_auc : 0.9181030016350767  , Valid_auc :  0.7972987941507135  ,& Test_auc :  0.7864239426325828  Avg Loss:  0.3830209843814373  , Train Time : 0m 1s  ,Eval Time : 0m 0s\n",
      "Epoch:  16  Train_auc : 0.9206157308102758  , Valid_auc :  0.7908245272633585  ,& Test_auc :  0.7824251541147959  Avg Loss:  0.3710675509646535  , Train Time : 0m 1s  ,Eval Time : 0m 0s\n",
      "Epoch:  17  Train_auc : 0.9264089943726277  , Valid_auc :  0.7846796340682676  ,& Test_auc :  0.7778041957634981  Avg Loss:  0.35713550401851535  , Train Time : 0m 1s  ,Eval Time : 0m 0s\n",
      "Epoch:  18  Train_auc : 0.9331596113250533  , Valid_auc :  0.7877498848411979  ,& Test_auc :  0.7807718543292059  Avg Loss:  0.34308540560305123  , Train Time : 0m 1s  ,Eval Time : 0m 0s\n",
      "bestValidAuc 0.807130 has a TestAuc of 0.800822 at epoch 7 \n"
     ]
    },
    {
     "name": "stderr",
     "output_type": "stream",
     "text": [
      "\r",
      "  0%|          | 0/161 [00:00<?, ?it/s]"
     ]
    },
    {
     "name": "stdout",
     "output_type": "stream",
     "text": [
      " creating the list of training minibatches\n"
     ]
    },
    {
     "name": "stderr",
     "output_type": "stream",
     "text": [
      "100%|██████████| 161/161 [00:13<00:00, 11.72it/s]\n",
      "  0%|          | 0/23 [00:00<?, ?it/s]"
     ]
    },
    {
     "name": "stdout",
     "output_type": "stream",
     "text": [
      " creating the list of valid minibatches\n"
     ]
    },
    {
     "name": "stderr",
     "output_type": "stream",
     "text": [
      "100%|██████████| 23/23 [00:02<00:00, 11.26it/s]\n",
      "  0%|          | 0/46 [00:00<?, ?it/s]"
     ]
    },
    {
     "name": "stdout",
     "output_type": "stream",
     "text": [
      " creating the list of test minibatches\n"
     ]
    },
    {
     "name": "stderr",
     "output_type": "stream",
     "text": [
      "100%|██████████| 46/46 [00:03<00:00, 12.11it/s]\n"
     ]
    },
    {
     "name": "stdout",
     "output_type": "stream",
     "text": [
      "Epoch:  0  Train_auc : 0.8022203941783135  , Valid_auc :  0.7808828093282534  ,& Test_auc :  0.776661338343509  Avg Loss:  0.5571917563676834  , Train Time : 0m 1s  ,Eval Time : 0m 0s\n",
      "Epoch:  1  Train_auc : 0.823698981411171  , Valid_auc :  0.7844488285031699  ,& Test_auc :  0.7836658564252934  Avg Loss:  0.5089067248627543  , Train Time : 0m 1s  ,Eval Time : 0m 0s\n",
      "Epoch:  2  Train_auc : 0.8350409078530333  , Valid_auc :  0.7918594925986071  ,& Test_auc :  0.7905948993591948  Avg Loss:  0.4955623609945178  , Train Time : 0m 1s  ,Eval Time : 0m 0s\n",
      "Epoch:  3  Train_auc : 0.8429730492185851  , Valid_auc :  0.796538062911839  ,& Test_auc :  0.792778465103444  Avg Loss:  0.4856203343719244  , Train Time : 0m 1s  ,Eval Time : 0m 0s\n",
      "Epoch:  4  Train_auc : 0.8511815090450249  , Valid_auc :  0.7955348150432529  ,& Test_auc :  0.7948241750354158  Avg Loss:  0.47629106473177674  , Train Time : 0m 1s  ,Eval Time : 0m 0s\n",
      "Epoch:  5  Train_auc : 0.8554247310406289  , Valid_auc :  0.7958959062021799  ,& Test_auc :  0.7926247261676763  Avg Loss:  0.4705677190795541  , Train Time : 0m 1s  ,Eval Time : 0m 0s\n",
      "Epoch:  6  Train_auc : 0.8667362335994228  , Valid_auc :  0.8002938989257051  ,& Test_auc :  0.79806748460307  Avg Loss:  0.4610022457316517  , Train Time : 0m 1s  ,Eval Time : 0m 0s\n",
      "Epoch:  7  Train_auc : 0.8694064362381495  , Valid_auc :  0.7995180408950375  ,& Test_auc :  0.795139170110435  Avg Loss:  0.44772038608789444  , Train Time : 0m 1s  ,Eval Time : 0m 0s\n",
      "Epoch:  8  Train_auc : 0.8823354711155396  , Valid_auc :  0.7968825633958964  ,& Test_auc :  0.7968618827830336  Avg Loss:  0.44112928975373505  , Train Time : 0m 1s  ,Eval Time : 0m 0s\n",
      "Epoch:  9  Train_auc : 0.88022447402252  , Valid_auc :  0.7962857870616158  ,& Test_auc :  0.7944831122386378  Avg Loss:  0.42696508094668384  , Train Time : 0m 1s  ,Eval Time : 0m 0s\n",
      "Epoch:  10  Train_auc : 0.8901566250451884  , Valid_auc :  0.7911992813310016  ,& Test_auc :  0.7922171603691092  Avg Loss:  0.41892938427627086  , Train Time : 0m 0s  ,Eval Time : 0m 0s\n",
      "Epoch:  11  Train_auc : 0.9031058020501502  , Valid_auc :  0.7934129165235315  ,& Test_auc :  0.7949660925624789  Avg Loss:  0.40728794522583484  , Train Time : 0m 0s  ,Eval Time : 0m 0s\n",
      "Epoch:  12  Train_auc : 0.9115472670791485  , Valid_auc :  0.7849777782548952  ,& Test_auc :  0.7873274619932616  Avg Loss:  0.393443140015006  , Train Time : 0m 1s  ,Eval Time : 0m 0s\n",
      "Epoch:  13  Train_auc : 0.9019983419702557  , Valid_auc :  0.7584890579619625  ,& Test_auc :  0.7741016093120207  Avg Loss:  0.38131483579054476  , Train Time : 0m 1s  ,Eval Time : 0m 0s\n",
      "Epoch:  14  Train_auc : 0.9235333450071413  , Valid_auc :  0.7817957844071077  ,& Test_auc :  0.785414333706607  Avg Loss:  0.3677931140176952  , Train Time : 0m 1s  ,Eval Time : 0m 0s\n",
      "Epoch:  15  Train_auc : 0.9282768383587966  , Valid_auc :  0.7758460756222479  ,& Test_auc :  0.7749751811039813  Avg Loss:  0.366875597089529  , Train Time : 0m 1s  ,Eval Time : 0m 0s\n",
      "Epoch:  16  Train_auc : 0.9365336035977538  , Valid_auc :  0.7831998922582055  ,& Test_auc :  0.786850968288556  Avg Loss:  0.33964812140911815  , Train Time : 0m 1s  ,Eval Time : 0m 0s\n",
      "Epoch:  17  Train_auc : 0.9414943523268887  , Valid_auc :  0.7759124383217264  ,& Test_auc :  0.7806124168682167  Avg Loss:  0.33411772893741726  , Train Time : 0m 1s  ,Eval Time : 0m 0s\n",
      "bestValidAuc 0.800294 has a TestAuc of 0.798067 at epoch 6 \n"
     ]
    },
    {
     "name": "stderr",
     "output_type": "stream",
     "text": [
      "\r",
      "  0%|          | 0/161 [00:00<?, ?it/s]"
     ]
    },
    {
     "name": "stdout",
     "output_type": "stream",
     "text": [
      " creating the list of training minibatches\n"
     ]
    },
    {
     "name": "stderr",
     "output_type": "stream",
     "text": [
      "100%|██████████| 161/161 [00:13<00:00, 11.67it/s]\n",
      "  0%|          | 0/23 [00:00<?, ?it/s]"
     ]
    },
    {
     "name": "stdout",
     "output_type": "stream",
     "text": [
      " creating the list of valid minibatches\n"
     ]
    },
    {
     "name": "stderr",
     "output_type": "stream",
     "text": [
      "100%|██████████| 23/23 [00:02<00:00, 11.32it/s]\n",
      "  0%|          | 0/46 [00:00<?, ?it/s]"
     ]
    },
    {
     "name": "stdout",
     "output_type": "stream",
     "text": [
      " creating the list of test minibatches\n"
     ]
    },
    {
     "name": "stderr",
     "output_type": "stream",
     "text": [
      "100%|██████████| 46/46 [00:03<00:00, 12.06it/s]\n"
     ]
    },
    {
     "name": "stdout",
     "output_type": "stream",
     "text": [
      "Epoch:  0  Train_auc : 0.80715961269331  , Valid_auc :  0.7847630754036413  ,& Test_auc :  0.7775087817911022  Avg Loss:  0.5587773390114308  , Train Time : 0m 1s  ,Eval Time : 0m 0s\n",
      "Epoch:  1  Train_auc : 0.8242107391835609  , Valid_auc :  0.7923847826426408  ,& Test_auc :  0.7835213321260543  Avg Loss:  0.5013631209731102  , Train Time : 0m 1s  ,Eval Time : 0m 0s\n",
      "Epoch:  2  Train_auc : 0.8322310934504196  , Valid_auc :  0.793764004481434  ,& Test_auc :  0.7851363790455285  Avg Loss:  0.491736869700253  , Train Time : 0m 1s  ,Eval Time : 0m 0s\n",
      "Epoch:  3  Train_auc : 0.8421844177506805  , Valid_auc :  0.7981229603229131  ,& Test_auc :  0.7893811134869785  Avg Loss:  0.48092851527035235  , Train Time : 0m 1s  ,Eval Time : 0m 0s\n",
      "Epoch:  4  Train_auc : 0.8526116744643917  , Valid_auc :  0.7994541180006871  ,& Test_auc :  0.7924146688283881  Avg Loss:  0.4718302240595222  , Train Time : 0m 1s  ,Eval Time : 0m 0s\n",
      "Epoch:  5  Train_auc : 0.8551109193700867  , Valid_auc :  0.7996244163986135  ,& Test_auc :  0.7901410178875495  Avg Loss:  0.4615567967295647  , Train Time : 0m 1s  ,Eval Time : 0m 0s\n",
      "Epoch:  6  Train_auc : 0.8630205092863834  , Valid_auc :  0.7984738043003029  ,& Test_auc :  0.7903456191920509  Avg Loss:  0.4569595869630575  , Train Time : 0m 1s  ,Eval Time : 0m 0s\n",
      "Epoch:  7  Train_auc : 0.8750444076158639  , Valid_auc :  0.802174012757253  ,& Test_auc :  0.7955146665489781  Avg Loss:  0.4478003581985831  , Train Time : 0m 0s  ,Eval Time : 0m 0s\n",
      "Epoch:  8  Train_auc : 0.8785588395469391  , Valid_auc :  0.7991847635145686  ,& Test_auc :  0.7954205196376027  Avg Loss:  0.44581851325929167  , Train Time : 0m 1s  ,Eval Time : 0m 0s\n",
      "Epoch:  9  Train_auc : 0.8840126415819793  , Valid_auc :  0.7959759318103744  ,& Test_auc :  0.7891705711668202  Avg Loss:  0.4264090728014708  , Train Time : 0m 1s  ,Eval Time : 0m 0s\n",
      "Epoch:  10  Train_auc : 0.9015468073250479  , Valid_auc :  0.7990149530776678  ,& Test_auc :  0.7940475387948323  Avg Loss:  0.41396338324993853  , Train Time : 0m 1s  ,Eval Time : 0m 0s\n",
      "Epoch:  11  Train_auc : 0.9022036399734545  , Valid_auc :  0.7995468305955467  ,& Test_auc :  0.7913251593040912  Avg Loss:  0.40617790818214417  , Train Time : 0m 1s  ,Eval Time : 0m 0s\n",
      "Epoch:  12  Train_auc : 0.9078840570553945  , Valid_auc :  0.7913534770150839  ,& Test_auc :  0.7857417564164182  Avg Loss:  0.39230269929394124  , Train Time : 0m 1s  ,Eval Time : 0m 0s\n",
      "Epoch:  13  Train_auc : 0.8991945459143988  , Valid_auc :  0.7901360142562693  ,& Test_auc :  0.7806041115708191  Avg Loss:  0.39639175981283187  , Train Time : 0m 1s  ,Eval Time : 0m 0s\n",
      "Epoch:  14  Train_auc : 0.9289133504113588  , Valid_auc :  0.7940631245901126  ,& Test_auc :  0.7822657166538065  Avg Loss:  0.36782344961538915  , Train Time : 0m 1s  ,Eval Time : 0m 0s\n",
      "Epoch:  15  Train_auc : 0.9166219727579484  , Valid_auc :  0.7802782256175635  ,& Test_auc :  0.7731021849843133  Avg Loss:  0.3535926423966885  , Train Time : 0m 1s  ,Eval Time : 0m 0s\n",
      "Epoch:  16  Train_auc : 0.9355982464223085  , Valid_auc :  0.7877230469847913  ,& Test_auc :  0.7787008647693892  Avg Loss:  0.34184440849348907  , Train Time : 0m 1s  ,Eval Time : 0m 0s\n",
      "Epoch:  17  Train_auc : 0.938368604464267  , Valid_auc :  0.7869891536023235  ,& Test_auc :  0.7823784140834564  Avg Loss:  0.338881411543116  , Train Time : 0m 1s  ,Eval Time : 0m 0s\n",
      "Epoch:  18  Train_auc : 0.9458959351699324  , Valid_auc :  0.7845605715780268  ,& Test_auc :  0.776132891063112  Avg Loss:  0.32179298666305844  , Train Time : 0m 1s  ,Eval Time : 0m 0s\n",
      "bestValidAuc 0.802174 has a TestAuc of 0.795515 at epoch 7 \n"
     ]
    },
    {
     "name": "stderr",
     "output_type": "stream",
     "text": [
      "\r",
      "  0%|          | 0/161 [00:00<?, ?it/s]"
     ]
    },
    {
     "name": "stdout",
     "output_type": "stream",
     "text": [
      " creating the list of training minibatches\n"
     ]
    },
    {
     "name": "stderr",
     "output_type": "stream",
     "text": [
      "100%|██████████| 161/161 [00:13<00:00, 11.68it/s]\n",
      "  0%|          | 0/23 [00:00<?, ?it/s]"
     ]
    },
    {
     "name": "stdout",
     "output_type": "stream",
     "text": [
      " creating the list of valid minibatches\n"
     ]
    },
    {
     "name": "stderr",
     "output_type": "stream",
     "text": [
      "100%|██████████| 23/23 [00:02<00:00, 11.25it/s]\n",
      "  0%|          | 0/46 [00:00<?, ?it/s]"
     ]
    },
    {
     "name": "stdout",
     "output_type": "stream",
     "text": [
      " creating the list of test minibatches\n"
     ]
    },
    {
     "name": "stderr",
     "output_type": "stream",
     "text": [
      "100%|██████████| 46/46 [00:03<00:00, 12.03it/s]\n"
     ]
    },
    {
     "name": "stdout",
     "output_type": "stream",
     "text": [
      "Epoch:  0  Train_auc : 0.8014349850542241  , Valid_auc :  0.7779809051091472  ,& Test_auc :  0.7724477033003433  Avg Loss:  0.5503262406215071  , Train Time : 0m 1s  ,Eval Time : 0m 0s\n",
      "Epoch:  1  Train_auc : 0.8166535100847414  , Valid_auc :  0.7892406057743355  ,& Test_auc :  0.7804773496959414  Avg Loss:  0.5103585094213486  , Train Time : 0m 1s  ,Eval Time : 0m 0s\n",
      "Epoch:  2  Train_auc : 0.8335782612080083  , Valid_auc :  0.7942822190905967  ,& Test_auc :  0.7878090479971017  Avg Loss:  0.4929770451039076  , Train Time : 0m 1s  ,Eval Time : 0m 0s\n",
      "Epoch:  3  Train_auc : 0.8439272199244596  , Valid_auc :  0.8013642414353082  ,& Test_auc :  0.78934395182782  Avg Loss:  0.48016500249505045  , Train Time : 0m 1s  ,Eval Time : 0m 0s\n",
      "Epoch:  4  Train_auc : 0.8487679090804885  , Valid_auc :  0.7979346073670404  ,& Test_auc :  0.7859818219470334  Avg Loss:  0.4719279197975993  , Train Time : 0m 1s  ,Eval Time : 0m 0s\n",
      "Epoch:  5  Train_auc : 0.8570204753575816  , Valid_auc :  0.805066889697386  ,& Test_auc :  0.7916590080104291  Avg Loss:  0.46927033998072143  , Train Time : 0m 1s  ,Eval Time : 0m 0s\n",
      "Epoch:  6  Train_auc : 0.8611937972796536  , Valid_auc :  0.7982459265013584  ,& Test_auc :  0.7866470944553592  Avg Loss:  0.46089430470019577  , Train Time : 0m 1s  ,Eval Time : 0m 0s\n",
      "Epoch:  7  Train_auc : 0.8782163985909612  , Valid_auc :  0.8002006983698198  ,& Test_auc :  0.791068968159551  Avg Loss:  0.4448740677908063  , Train Time : 0m 0s  ,Eval Time : 0m 0s\n",
      "Epoch:  8  Train_auc : 0.8741370352570914  , Valid_auc :  0.7977428386839887  ,& Test_auc :  0.7867226302258508  Avg Loss:  0.4360746675170958  , Train Time : 0m 0s  ,Eval Time : 0m 0s\n",
      "Epoch:  9  Train_auc : 0.8894689768750033  , Valid_auc :  0.8024272645295274  ,& Test_auc :  0.7892572008747116  Avg Loss:  0.42292075268924234  , Train Time : 0m 0s  ,Eval Time : 0m 0s\n",
      "Epoch:  10  Train_auc : 0.9008409355612242  , Valid_auc :  0.7972529258143093  ,& Test_auc :  0.7813244294078819  Avg Loss:  0.4121556766331196  , Train Time : 0m 0s  ,Eval Time : 0m 0s\n",
      "Epoch:  11  Train_auc : 0.8908821134466691  , Valid_auc :  0.7886970171918428  ,& Test_auc :  0.7820303190640645  Avg Loss:  0.40664106477051976  , Train Time : 0m 0s  ,Eval Time : 0m 0s\n",
      "Epoch:  12  Train_auc : 0.9118493097585867  , Valid_auc :  0.7887009208800474  ,& Test_auc :  0.7798295364989327  Avg Loss:  0.40267823338508607  , Train Time : 0m 0s  ,Eval Time : 0m 0s\n",
      "Epoch:  13  Train_auc : 0.9227197775555583  , Valid_auc :  0.7880912135785891  ,& Test_auc :  0.7810199826667839  Avg Loss:  0.37171264328062537  , Train Time : 0m 0s  ,Eval Time : 0m 0s\n",
      "Epoch:  14  Train_auc : 0.9225336202746225  , Valid_auc :  0.7954567412791607  ,& Test_auc :  0.7844332174067394  Avg Loss:  0.3627216977998614  , Train Time : 0m 0s  ,Eval Time : 0m 0s\n",
      "Epoch:  15  Train_auc : 0.9270158806918973  , Valid_auc :  0.7809460002810655  ,& Test_auc :  0.7764265469798545  Avg Loss:  0.35069316159933805  , Train Time : 0m 0s  ,Eval Time : 0m 0s\n",
      "Epoch:  16  Train_auc : 0.9304629458074246  , Valid_auc :  0.7730817764123544  ,& Test_auc :  0.7648556915172481  Avg Loss:  0.34366060541942717  , Train Time : 0m 0s  ,Eval Time : 0m 0s\n",
      "bestValidAuc 0.805067 has a TestAuc of 0.791659 at epoch 5 \n"
     ]
    },
    {
     "name": "stderr",
     "output_type": "stream",
     "text": [
      "\r",
      "  0%|          | 0/161 [00:00<?, ?it/s]"
     ]
    },
    {
     "name": "stdout",
     "output_type": "stream",
     "text": [
      " creating the list of training minibatches\n"
     ]
    },
    {
     "name": "stderr",
     "output_type": "stream",
     "text": [
      "100%|██████████| 161/161 [00:13<00:00, 11.67it/s]\n",
      "  0%|          | 0/23 [00:00<?, ?it/s]"
     ]
    },
    {
     "name": "stdout",
     "output_type": "stream",
     "text": [
      " creating the list of valid minibatches\n"
     ]
    },
    {
     "name": "stderr",
     "output_type": "stream",
     "text": [
      "100%|██████████| 23/23 [00:02<00:00, 11.26it/s]\n",
      "  0%|          | 0/46 [00:00<?, ?it/s]"
     ]
    },
    {
     "name": "stdout",
     "output_type": "stream",
     "text": [
      " creating the list of test minibatches\n"
     ]
    },
    {
     "name": "stderr",
     "output_type": "stream",
     "text": [
      "100%|██████████| 46/46 [00:03<00:00, 11.72it/s]\n"
     ]
    },
    {
     "name": "stdout",
     "output_type": "stream",
     "text": [
      "Epoch:  0  Train_auc : 0.7929076420838221  , Valid_auc :  0.7716593700227974  ,& Test_auc :  0.76123500621018  Avg Loss:  0.5665643893182277  , Train Time : 0m 1s  ,Eval Time : 0m 0s\n",
      "Epoch:  1  Train_auc : 0.8369960376969807  , Valid_auc :  0.7978062736173136  ,& Test_auc :  0.789239741563394  Avg Loss:  0.5021852750331164  , Train Time : 0m 1s  ,Eval Time : 0m 0s\n",
      "Epoch:  2  Train_auc : 0.858543186491324  , Valid_auc :  0.8018973388557509  ,& Test_auc :  0.7932515033194515  Avg Loss:  0.47013076171278956  , Train Time : 0m 1s  ,Eval Time : 0m 0s\n",
      "Epoch:  3  Train_auc : 0.8836555414403675  , Valid_auc :  0.8147748743012397  ,& Test_auc :  0.8073579600152672  Avg Loss:  0.44708150941878555  , Train Time : 0m 1s  ,Eval Time : 0m 0s\n",
      "Epoch:  4  Train_auc : 0.9022984363710487  , Valid_auc :  0.814143696714656  ,& Test_auc :  0.8067012959173825  Avg Loss:  0.41948736235499384  , Train Time : 0m 1s  ,Eval Time : 0m 0s\n",
      "Epoch:  5  Train_auc : 0.9122947814399698  , Valid_auc :  0.7990735084007371  ,& Test_auc :  0.7952105229209234  Avg Loss:  0.3938635464757681  , Train Time : 0m 1s  ,Eval Time : 0m 0s\n",
      "Epoch:  6  Train_auc : 0.9395416615493368  , Valid_auc :  0.8157432329564973  ,& Test_auc :  0.8115911155384475  Avg Loss:  0.36215436914935706  , Train Time : 0m 1s  ,Eval Time : 0m 0s\n",
      "Epoch:  7  Train_auc : 0.9510072912915425  , Valid_auc :  0.8124514478779551  ,& Test_auc :  0.807533219977138  Avg Loss:  0.33598412619903684  , Train Time : 0m 1s  ,Eval Time : 0m 0s\n",
      "Epoch:  8  Train_auc : 0.9624140215462564  , Valid_auc :  0.8079978275975142  ,& Test_auc :  0.8035147291115101  Avg Loss:  0.31197245940566065  , Train Time : 0m 1s  ,Eval Time : 0m 0s\n",
      "Epoch:  9  Train_auc : 0.9666216242490713  , Valid_auc :  0.7956328952093938  ,& Test_auc :  0.7946785595292194  Avg Loss:  0.28553388137370345  , Train Time : 0m 1s  ,Eval Time : 0m 0s\n",
      "Epoch:  10  Train_auc : 0.96420786564607  , Valid_auc :  0.7955711681396584  ,& Test_auc :  0.7906460042183636  Avg Loss:  0.27696861377917226  , Train Time : 0m 1s  ,Eval Time : 0m 0s\n",
      "Epoch:  11  Train_auc : 0.9796237468416444  , Valid_auc :  0.8070250772930265  ,& Test_auc :  0.8022483228149065  Avg Loss:  0.2425027304328978  , Train Time : 0m 1s  ,Eval Time : 0m 0s\n",
      "Epoch:  12  Train_auc : 0.9831214870317566  , Valid_auc :  0.8048046106461384  ,& Test_auc :  0.8023542305123774  Avg Loss:  0.2106432484462857  , Train Time : 0m 1s  ,Eval Time : 0m 0s\n",
      "Epoch:  13  Train_auc : 0.9795393511783957  , Valid_auc :  0.7952688762843134  ,& Test_auc :  0.7886119944498788  Avg Loss:  0.22722002132795752  , Train Time : 0m 1s  ,Eval Time : 0m 0s\n",
      "Epoch:  14  Train_auc : 0.9874209414056637  , Valid_auc :  0.79976324131039  ,& Test_auc :  0.7979082290099067  Avg Loss:  0.1928983409423381  , Train Time : 0m 1s  ,Eval Time : 0m 0s\n",
      "Epoch:  15  Train_auc : 0.9888694047804493  , Valid_auc :  0.7913908060335404  ,& Test_auc :  0.7878572429710511  Avg Loss:  0.17578327951487155  , Train Time : 0m 1s  ,Eval Time : 0m 0s\n",
      "Epoch:  16  Train_auc : 0.9904942493407803  , Valid_auc :  0.7959954502513975  ,& Test_auc :  0.792055358626379  Avg Loss:  0.1678097280906513  , Train Time : 0m 1s  ,Eval Time : 0m 0s\n",
      "Epoch:  17  Train_auc : 0.989525860662502  , Valid_auc :  0.7835258502232911  ,& Test_auc :  0.7809372328058519  Avg Loss:  0.16016088380711155  , Train Time : 0m 1s  ,Eval Time : 0m 0s\n",
      "bestValidAuc 0.815743 has a TestAuc of 0.811591 at epoch 6 \n"
     ]
    },
    {
     "name": "stderr",
     "output_type": "stream",
     "text": [
      "\r",
      "  0%|          | 0/161 [00:00<?, ?it/s]"
     ]
    },
    {
     "name": "stdout",
     "output_type": "stream",
     "text": [
      " creating the list of training minibatches\n"
     ]
    },
    {
     "name": "stderr",
     "output_type": "stream",
     "text": [
      "100%|██████████| 161/161 [00:13<00:00, 11.90it/s]\n",
      "  0%|          | 0/23 [00:00<?, ?it/s]"
     ]
    },
    {
     "name": "stdout",
     "output_type": "stream",
     "text": [
      " creating the list of valid minibatches\n"
     ]
    },
    {
     "name": "stderr",
     "output_type": "stream",
     "text": [
      "100%|██████████| 23/23 [00:02<00:00, 11.12it/s]\n",
      "  0%|          | 0/46 [00:00<?, ?it/s]"
     ]
    },
    {
     "name": "stdout",
     "output_type": "stream",
     "text": [
      " creating the list of test minibatches\n"
     ]
    },
    {
     "name": "stderr",
     "output_type": "stream",
     "text": [
      "100%|██████████| 46/46 [00:03<00:00, 11.95it/s]\n"
     ]
    },
    {
     "name": "stdout",
     "output_type": "stream",
     "text": [
      "Epoch:  0  Train_auc : 0.8030015795532786  , Valid_auc :  0.7736687935261235  ,& Test_auc :  0.7753589222173132  Avg Loss:  0.5777245286852122  , Train Time : 0m 1s  ,Eval Time : 0m 0s\n",
      "Epoch:  1  Train_auc : 0.8388710551162277  , Valid_auc :  0.800573012632335  ,& Test_auc :  0.7984819613790334  Avg Loss:  0.5043018249794842  , Train Time : 0m 1s  ,Eval Time : 0m 0s\n",
      "Epoch:  2  Train_auc : 0.8616927152513026  , Valid_auc :  0.8090425521532744  ,& Test_auc :  0.8082338354663601  Avg Loss:  0.4725433384999633  , Train Time : 0m 1s  ,Eval Time : 0m 0s\n",
      "Epoch:  3  Train_auc : 0.8860410029072184  , Valid_auc :  0.8164361376128166  ,& Test_auc :  0.81652537153172  Avg Loss:  0.44387589730322363  , Train Time : 0m 0s  ,Eval Time : 0m 0s\n",
      "Epoch:  4  Train_auc : 0.903788289512779  , Valid_auc :  0.8158852296149403  ,& Test_auc :  0.8103995175410306  Avg Loss:  0.42631018888205285  , Train Time : 0m 0s  ,Eval Time : 0m 0s\n",
      "Epoch:  5  Train_auc : 0.9214035095964325  , Valid_auc :  0.8125953963805003  ,& Test_auc :  0.8136192449138844  Avg Loss:  0.4073610186576843  , Train Time : 0m 0s  ,Eval Time : 0m 0s\n",
      "Epoch:  6  Train_auc : 0.937219199382801  , Valid_auc :  0.812067422550826  ,& Test_auc :  0.8120308719422563  Avg Loss:  0.3699140940792859  , Train Time : 0m 0s  ,Eval Time : 0m 0s\n",
      "Epoch:  7  Train_auc : 0.9473795121774008  , Valid_auc :  0.8107226019643359  ,& Test_auc :  0.8109931947484331  Avg Loss:  0.35797311272472143  , Train Time : 0m 0s  ,Eval Time : 0m 0s\n",
      "Epoch:  8  Train_auc : 0.9583730189761448  , Valid_auc :  0.8126398008338278  ,& Test_auc :  0.8114599282131316  Avg Loss:  0.31668546963483096  , Train Time : 0m 0s  ,Eval Time : 0m 0s\n",
      "Epoch:  9  Train_auc : 0.9407032272606162  , Valid_auc :  0.7944403184628839  ,& Test_auc :  0.7872069442470842  Avg Loss:  0.2920569134876132  , Train Time : 0m 0s  ,Eval Time : 0m 0s\n",
      "Epoch:  10  Train_auc : 0.9684808918432394  , Valid_auc :  0.8068203776427969  ,& Test_auc :  0.8066928087521588  Avg Loss:  0.27290756558068097  , Train Time : 0m 0s  ,Eval Time : 0m 0s\n",
      "Epoch:  11  Train_auc : 0.9795957868122317  , Valid_auc :  0.8045977151712939  ,& Test_auc :  0.7974850225782844  Avg Loss:  0.23273191414773464  , Train Time : 0m 1s  ,Eval Time : 0m 0s\n",
      "Epoch:  12  Train_auc : 0.9827156700091099  , Valid_auc :  0.8027061342556447  ,& Test_auc :  0.798825691570596  Avg Loss:  0.23159590009599923  , Train Time : 0m 1s  ,Eval Time : 0m 0s\n",
      "Epoch:  13  Train_auc : 0.9842484745151721  , Valid_auc :  0.7955423784391493  ,& Test_auc :  0.7899395689587024  Avg Loss:  0.2007977875182405  , Train Time : 0m 1s  ,Eval Time : 0m 0s\n",
      "Epoch:  14  Train_auc : 0.9864707564912157  , Valid_auc :  0.7881461091939665  ,& Test_auc :  0.7862821463507372  Avg Loss:  0.19821984593290837  , Train Time : 0m 0s  ,Eval Time : 0m 0s\n",
      "bestValidAuc 0.816436 has a TestAuc of 0.816525 at epoch 3 \n"
     ]
    },
    {
     "name": "stderr",
     "output_type": "stream",
     "text": [
      "\r",
      "  0%|          | 0/161 [00:00<?, ?it/s]"
     ]
    },
    {
     "name": "stdout",
     "output_type": "stream",
     "text": [
      " creating the list of training minibatches\n"
     ]
    },
    {
     "name": "stderr",
     "output_type": "stream",
     "text": [
      "100%|██████████| 161/161 [00:13<00:00, 11.96it/s]\n",
      "  0%|          | 0/23 [00:00<?, ?it/s]"
     ]
    },
    {
     "name": "stdout",
     "output_type": "stream",
     "text": [
      " creating the list of valid minibatches\n"
     ]
    },
    {
     "name": "stderr",
     "output_type": "stream",
     "text": [
      "100%|██████████| 23/23 [00:02<00:00, 11.00it/s]\n",
      "  0%|          | 0/46 [00:00<?, ?it/s]"
     ]
    },
    {
     "name": "stdout",
     "output_type": "stream",
     "text": [
      " creating the list of test minibatches\n"
     ]
    },
    {
     "name": "stderr",
     "output_type": "stream",
     "text": [
      "100%|██████████| 46/46 [00:03<00:00, 11.72it/s]\n"
     ]
    },
    {
     "name": "stdout",
     "output_type": "stream",
     "text": [
      "Epoch:  0  Train_auc : 0.8070100562806639  , Valid_auc :  0.7770376764467068  ,& Test_auc :  0.774659034199396  Avg Loss:  0.5682861749082804  , Train Time : 0m 1s  ,Eval Time : 0m 0s\n",
      "Epoch:  1  Train_auc : 0.8362842764801531  , Valid_auc :  0.7995336556478562  ,& Test_auc :  0.7906794678983888  Avg Loss:  0.49599648565053944  , Train Time : 0m 1s  ,Eval Time : 0m 0s\n",
      "Epoch:  2  Train_auc : 0.8650353813846665  , Valid_auc :  0.8149151630960934  ,& Test_auc :  0.8074213106414017  Avg Loss:  0.467995672672987  , Train Time : 0m 1s  ,Eval Time : 0m 0s\n",
      "Epoch:  3  Train_auc : 0.884465375930577  , Valid_auc :  0.8200904777333625  ,& Test_auc :  0.8122843350694031  Avg Loss:  0.4385520236566663  , Train Time : 0m 1s  ,Eval Time : 0m 0s\n",
      "Epoch:  4  Train_auc : 0.8999099756457238  , Valid_auc :  0.8222726394397426  ,& Test_auc :  0.8170384206694967  Avg Loss:  0.41780086886137724  , Train Time : 0m 1s  ,Eval Time : 0m 0s\n",
      "Epoch:  5  Train_auc : 0.9244192466411999  , Valid_auc :  0.8181449771243872  ,& Test_auc :  0.8122792427702689  Avg Loss:  0.39164143418893216  , Train Time : 0m 1s  ,Eval Time : 0m 0s\n",
      "Epoch:  6  Train_auc : 0.9331682670362864  , Valid_auc :  0.8186258627150933  ,& Test_auc :  0.813602937432133  Avg Loss:  0.3796084736473858  , Train Time : 0m 1s  ,Eval Time : 0m 0s\n",
      "Epoch:  7  Train_auc : 0.9531757254237069  , Valid_auc :  0.820597469238937  ,& Test_auc :  0.8138674944966795  Avg Loss:  0.3332392917945981  , Train Time : 0m 1s  ,Eval Time : 0m 0s\n",
      "Epoch:  8  Train_auc : 0.9615830137784547  , Valid_auc :  0.8211122681209206  ,& Test_auc :  0.8146323093285586  Avg Loss:  0.31299714716151356  , Train Time : 0m 1s  ,Eval Time : 0m 0s\n",
      "Epoch:  9  Train_auc : 0.9694289202660569  , Valid_auc :  0.809975045673152  ,& Test_auc :  0.8072887896186934  Avg Loss:  0.28609210602007806  , Train Time : 0m 1s  ,Eval Time : 0m 0s\n",
      "Epoch:  10  Train_auc : 0.9377394046534393  , Valid_auc :  0.7742777688860436  ,& Test_auc :  0.775650335097532  Avg Loss:  0.2714129897300154  , Train Time : 0m 1s  ,Eval Time : 0m 0s\n",
      "Epoch:  11  Train_auc : 0.9791092178535734  , Valid_auc :  0.8112266657037569  ,& Test_auc :  0.8024838416498661  Avg Loss:  0.25776822813786565  , Train Time : 0m 1s  ,Eval Time : 0m 0s\n",
      "Epoch:  12  Train_auc : 0.98138640856823  , Valid_auc :  0.8159389053277536  ,& Test_auc :  0.8105521046472322  Avg Loss:  0.21519248813856395  , Train Time : 0m 0s  ,Eval Time : 0m 0s\n",
      "Epoch:  13  Train_auc : 0.980019777853997  , Valid_auc :  0.7991879352612349  ,& Test_auc :  0.7936700418102007  Avg Loss:  0.19997341888956724  , Train Time : 0m 0s  ,Eval Time : 0m 0s\n",
      "Epoch:  14  Train_auc : 0.9880366668618911  , Valid_auc :  0.8022130496392993  ,& Test_auc :  0.7984801427007713  Avg Loss:  0.18651432178448887  , Train Time : 0m 0s  ,Eval Time : 0m 0s\n",
      "Epoch:  15  Train_auc : 0.9911396501048209  , Valid_auc :  0.8015499106055402  ,& Test_auc :  0.7955955977316475  Avg Loss:  0.1759110184502788  , Train Time : 0m 1s  ,Eval Time : 0m 0s\n",
      "bestValidAuc 0.822273 has a TestAuc of 0.817038 at epoch 4 \n"
     ]
    },
    {
     "name": "stderr",
     "output_type": "stream",
     "text": [
      "\r",
      "  0%|          | 0/161 [00:00<?, ?it/s]"
     ]
    },
    {
     "name": "stdout",
     "output_type": "stream",
     "text": [
      " creating the list of training minibatches\n"
     ]
    },
    {
     "name": "stderr",
     "output_type": "stream",
     "text": [
      "100%|██████████| 161/161 [00:13<00:00, 11.58it/s]\n",
      "  0%|          | 0/23 [00:00<?, ?it/s]"
     ]
    },
    {
     "name": "stdout",
     "output_type": "stream",
     "text": [
      " creating the list of valid minibatches\n"
     ]
    },
    {
     "name": "stderr",
     "output_type": "stream",
     "text": [
      "100%|██████████| 23/23 [00:02<00:00, 10.75it/s]\n",
      "  0%|          | 0/46 [00:00<?, ?it/s]"
     ]
    },
    {
     "name": "stdout",
     "output_type": "stream",
     "text": [
      " creating the list of test minibatches\n"
     ]
    },
    {
     "name": "stderr",
     "output_type": "stream",
     "text": [
      "100%|██████████| 46/46 [00:03<00:00, 11.61it/s]\n"
     ]
    },
    {
     "name": "stdout",
     "output_type": "stream",
     "text": [
      "Epoch:  0  Train_auc : 0.8092958531320334  , Valid_auc :  0.7728314524062334  ,& Test_auc :  0.7715170250109484  Avg Loss:  0.5648462845012545  , Train Time : 0m 1s  ,Eval Time : 0m 0s\n",
      "Epoch:  1  Train_auc : 0.8411390646297369  , Valid_auc :  0.7973763799537804  ,& Test_auc :  0.793440645858724  Avg Loss:  0.4964752262458205  , Train Time : 0m 1s  ,Eval Time : 0m 0s\n",
      "Epoch:  2  Train_auc : 0.8560035780112533  , Valid_auc :  0.801789987430124  ,& Test_auc :  0.7987590673235894  Avg Loss:  0.46739733777940273  , Train Time : 0m 1s  ,Eval Time : 0m 0s\n",
      "Epoch:  3  Train_auc : 0.8818041016629444  , Valid_auc :  0.8061157619218638  ,& Test_auc :  0.8070875831802814  Avg Loss:  0.4442200681194663  , Train Time : 0m 1s  ,Eval Time : 0m 0s\n",
      "Epoch:  4  Train_auc : 0.9058989346267047  , Valid_auc :  0.8129008599825115  ,& Test_auc :  0.813617426235622  Avg Loss:  0.41790843531489374  , Train Time : 0m 1s  ,Eval Time : 0m 0s\n",
      "Epoch:  5  Train_auc : 0.9141351462695724  , Valid_auc :  0.812118170497486  ,& Test_auc :  0.8146061203615824  Avg Loss:  0.39744903054088354  , Train Time : 0m 1s  ,Eval Time : 0m 0s\n",
      "Epoch:  6  Train_auc : 0.9391274317306061  , Valid_auc :  0.8109695102432779  ,& Test_auc :  0.8135743235608072  Avg Loss:  0.36634745365008714  , Train Time : 0m 1s  ,Eval Time : 0m 0s\n",
      "Epoch:  7  Train_auc : 0.9500039476190463  , Valid_auc :  0.8066505672058961  ,& Test_auc :  0.8084424984856473  Avg Loss:  0.3455201632343232  , Train Time : 0m 1s  ,Eval Time : 0m 0s\n",
      "Epoch:  8  Train_auc : 0.9559834676113745  , Valid_auc :  0.8000264962836888  ,& Test_auc :  0.794974034124224  Avg Loss:  0.3076837106607854  , Train Time : 0m 1s  ,Eval Time : 0m 0s\n",
      "Epoch:  9  Train_auc : 0.9687961758770325  , Valid_auc :  0.8087600227194653  ,& Test_auc :  0.8099519408206943  Avg Loss:  0.2938435761258006  , Train Time : 0m 1s  ,Eval Time : 0m 0s\n",
      "Epoch:  10  Train_auc : 0.972811830994948  , Valid_auc :  0.8003490385215952  ,& Test_auc :  0.8053103707824245  Avg Loss:  0.255066194711253  , Train Time : 0m 1s  ,Eval Time : 0m 0s\n",
      "Epoch:  11  Train_auc : 0.972559585921086  , Valid_auc :  0.7907088805002966  ,& Test_auc :  0.8003557455926151  Avg Loss:  0.25010436568409206  , Train Time : 0m 1s  ,Eval Time : 0m 0s\n",
      "Epoch:  12  Train_auc : 0.9838631317693821  , Valid_auc :  0.7975603412604229  ,& Test_auc :  0.8021696952913693  Avg Loss:  0.20688436953350903  , Train Time : 0m 1s  ,Eval Time : 0m 0s\n",
      "Epoch:  13  Train_auc : 0.9873657500922854  , Valid_auc :  0.7996405191124574  ,& Test_auc :  0.7995146675189397  Avg Loss:  0.1888838235521689  , Train Time : 0m 1s  ,Eval Time : 0m 0s\n",
      "Epoch:  14  Train_auc : 0.9817195790889239  , Valid_auc :  0.7827463324849318  ,& Test_auc :  0.7762552881101605  Avg Loss:  0.17801777390995993  , Train Time : 0m 1s  ,Eval Time : 0m 0s\n",
      "Epoch:  15  Train_auc : 0.9858172453356647  , Valid_auc :  0.7873497568002248  ,& Test_auc :  0.7880731200807785  Avg Loss:  0.186571517388802  , Train Time : 0m 1s  ,Eval Time : 0m 0s\n",
      "bestValidAuc 0.812901 has a TestAuc of 0.813617 at epoch 4 \n"
     ]
    },
    {
     "name": "stderr",
     "output_type": "stream",
     "text": [
      "\r",
      "  0%|          | 0/161 [00:00<?, ?it/s]"
     ]
    },
    {
     "name": "stdout",
     "output_type": "stream",
     "text": [
      " creating the list of training minibatches\n"
     ]
    },
    {
     "name": "stderr",
     "output_type": "stream",
     "text": [
      "100%|██████████| 161/161 [00:13<00:00, 11.62it/s]\n",
      "  0%|          | 0/23 [00:00<?, ?it/s]"
     ]
    },
    {
     "name": "stdout",
     "output_type": "stream",
     "text": [
      " creating the list of valid minibatches\n"
     ]
    },
    {
     "name": "stderr",
     "output_type": "stream",
     "text": [
      "100%|██████████| 23/23 [00:02<00:00, 10.86it/s]\n",
      "  0%|          | 0/46 [00:00<?, ?it/s]"
     ]
    },
    {
     "name": "stdout",
     "output_type": "stream",
     "text": [
      " creating the list of test minibatches\n"
     ]
    },
    {
     "name": "stderr",
     "output_type": "stream",
     "text": [
      "100%|██████████| 46/46 [00:03<00:00, 11.70it/s]\n"
     ]
    },
    {
     "name": "stdout",
     "output_type": "stream",
     "text": [
      "Epoch:  0  Train_auc : 0.8097968383611762  , Valid_auc :  0.7718218610443146  ,& Test_auc :  0.7733096961740344  Avg Loss:  0.5732414333149791  , Train Time : 0m 1s  ,Eval Time : 0m 0s\n",
      "Epoch:  1  Train_auc : 0.8426385054836807  , Valid_auc :  0.8014625655819618  ,& Test_auc :  0.7998110514530754  Avg Loss:  0.4956111235544085  , Train Time : 0m 1s  ,Eval Time : 0m 0s\n",
      "Epoch:  2  Train_auc : 0.8571453783613148  , Valid_auc :  0.798466972845945  ,& Test_auc :  0.7967206321046666  Avg Loss:  0.4677584681659937  , Train Time : 0m 1s  ,Eval Time : 0m 0s\n",
      "Epoch:  3  Train_auc : 0.8821846257653674  , Valid_auc :  0.810886068907904  ,& Test_auc :  0.8134994546390117  Avg Loss:  0.43965112026780845  , Train Time : 0m 1s  ,Eval Time : 0m 0s\n",
      "Epoch:  4  Train_auc : 0.8940707812903737  , Valid_auc :  0.8182889256269322  ,& Test_auc :  0.8152301088733556  Avg Loss:  0.4189248062670231  , Train Time : 0m 1s  ,Eval Time : 0m 0s\n",
      "Epoch:  5  Train_auc : 0.9124555119494769  , Valid_auc :  0.8206957933855907  ,& Test_auc :  0.8202030420910047  Avg Loss:  0.40804870817810296  , Train Time : 0m 1s  ,Eval Time : 0m 0s\n",
      "Epoch:  6  Train_auc : 0.9287054497458478  , Valid_auc :  0.8142788619187407  ,& Test_auc :  0.8148405479895846  Avg Loss:  0.3769754070788622  , Train Time : 0m 1s  ,Eval Time : 0m 0s\n",
      "Epoch:  7  Train_auc : 0.9436807076481181  , Valid_auc :  0.8127691105056059  ,& Test_auc :  0.8173956090801999  Avg Loss:  0.3574804509058595  , Train Time : 0m 1s  ,Eval Time : 0m 0s\n",
      "Epoch:  8  Train_auc : 0.9515776461468507  , Valid_auc :  0.8126583433527997  ,& Test_auc :  0.8123693279668583  Avg Loss:  0.3463430765084922  , Train Time : 0m 1s  ,Eval Time : 0m 0s\n",
      "Epoch:  9  Train_auc : 0.9579275373798577  , Valid_auc :  0.802743951235127  ,& Test_auc :  0.8017433971067012  Avg Loss:  0.29793081982061265  , Train Time : 0m 1s  ,Eval Time : 0m 0s\n",
      "Epoch:  10  Train_auc : 0.9657721351001257  , Valid_auc :  0.8085492235564161  ,& Test_auc :  0.8010549061392273  Avg Loss:  0.28146385839208965  , Train Time : 0m 0s  ,Eval Time : 0m 0s\n",
      "Epoch:  11  Train_auc : 0.9703209393959125  , Valid_auc :  0.8044039946441397  ,& Test_auc :  0.8033438339774688  Avg Loss:  0.283867041952908  , Train Time : 0m 0s  ,Eval Time : 0m 0s\n",
      "Epoch:  12  Train_auc : 0.9756695690862731  , Valid_auc :  0.8024824041254177  ,& Test_auc :  0.8017538848180132  Avg Loss:  0.24209911609068513  , Train Time : 0m 1s  ,Eval Time : 0m 0s\n",
      "Epoch:  13  Train_auc : 0.980221367683082  , Valid_auc :  0.8027966510258893  ,& Test_auc :  0.7993728106144853  Avg Loss:  0.22249425491318106  , Train Time : 0m 1s  ,Eval Time : 0m 0s\n",
      "Epoch:  14  Train_auc : 0.9854658165191681  , Valid_auc :  0.8065012511320696  ,& Test_auc :  0.801894286779858  Avg Loss:  0.21004415866918863  , Train Time : 0m 1s  ,Eval Time : 0m 0s\n",
      "Epoch:  15  Train_auc : 0.9870810931970939  , Valid_auc :  0.8015962669029699  ,& Test_auc :  0.8002999727925733  Avg Loss:  0.19998181266710163  , Train Time : 0m 1s  ,Eval Time : 0m 0s\n",
      "Epoch:  16  Train_auc : 0.9866588620507969  , Valid_auc :  0.7905005211423753  ,& Test_auc :  0.7845430049511698  Avg Loss:  0.16806442642118782  , Train Time : 0m 1s  ,Eval Time : 0m 0s\n",
      "bestValidAuc 0.820696 has a TestAuc of 0.820203 at epoch 5 \n"
     ]
    },
    {
     "name": "stderr",
     "output_type": "stream",
     "text": [
      "\r",
      "  0%|          | 0/161 [00:00<?, ?it/s]"
     ]
    },
    {
     "name": "stdout",
     "output_type": "stream",
     "text": [
      " creating the list of training minibatches\n"
     ]
    },
    {
     "name": "stderr",
     "output_type": "stream",
     "text": [
      "100%|██████████| 161/161 [00:14<00:00, 11.44it/s]\n",
      "  0%|          | 0/23 [00:00<?, ?it/s]"
     ]
    },
    {
     "name": "stdout",
     "output_type": "stream",
     "text": [
      " creating the list of valid minibatches\n"
     ]
    },
    {
     "name": "stderr",
     "output_type": "stream",
     "text": [
      "100%|██████████| 23/23 [00:02<00:00, 10.52it/s]\n",
      "  0%|          | 0/46 [00:00<?, ?it/s]"
     ]
    },
    {
     "name": "stdout",
     "output_type": "stream",
     "text": [
      " creating the list of test minibatches\n"
     ]
    },
    {
     "name": "stderr",
     "output_type": "stream",
     "text": [
      "100%|██████████| 46/46 [00:04<00:00, 11.06it/s]\n"
     ]
    },
    {
     "name": "stdout",
     "output_type": "stream",
     "text": [
      "Epoch:  0  Train_auc : 0.810736488690074  , Valid_auc :  0.7793098669623059  ,& Test_auc :  0.7789832448809058  Avg Loss:  0.5727189725264907  , Train Time : 0m 1s  ,Eval Time : 0m 0s\n",
      "Epoch:  1  Train_auc : 0.8422819655341477  , Valid_auc :  0.7998235044970489  ,& Test_auc :  0.7978239635837565  Avg Loss:  0.4963991468772292  , Train Time : 0m 1s  ,Eval Time : 0m 0s\n",
      "Epoch:  2  Train_auc : 0.8677413619546472  , Valid_auc :  0.8117980680647076  ,& Test_auc :  0.8072607819734551  Avg Loss:  0.46570931151509287  , Train Time : 0m 1s  ,Eval Time : 0m 0s\n",
      "Epoch:  3  Train_auc : 0.886774051423035  , Valid_auc :  0.8192594801068049  ,& Test_auc :  0.8143524147440004  Avg Loss:  0.44120924808084966  , Train Time : 0m 1s  ,Eval Time : 0m 0s\n",
      "Epoch:  4  Train_auc : 0.90595142412873  , Valid_auc :  0.8208882940101808  ,& Test_auc :  0.8145849630711317  Avg Loss:  0.4158889651298523  , Train Time : 0m 1s  ,Eval Time : 0m 0s\n",
      "Epoch:  5  Train_auc : 0.907232509050845  , Valid_auc :  0.8168230907060992  ,& Test_auc :  0.8084948764195997  Avg Loss:  0.40429280837997794  , Train Time : 0m 1s  ,Eval Time : 0m 0s\n",
      "Epoch:  6  Train_auc : 0.9352739546981889  , Valid_auc :  0.8172046762281003  ,& Test_auc :  0.8113865748565547  Avg Loss:  0.37121056569740174  , Train Time : 0m 1s  ,Eval Time : 0m 0s\n",
      "Epoch:  7  Train_auc : 0.9458262928839057  , Valid_auc :  0.827529931529309  ,& Test_auc :  0.8151557249324302  Avg Loss:  0.3528900757431984  , Train Time : 0m 1s  ,Eval Time : 0m 0s\n",
      "Epoch:  8  Train_auc : 0.9571937502036892  , Valid_auc :  0.8210585924081071  ,& Test_auc :  0.8075187917962576  Avg Loss:  0.31623591929674144  , Train Time : 0m 1s  ,Eval Time : 0m 0s\n",
      "Epoch:  9  Train_auc : 0.9607835453204266  , Valid_auc :  0.8176789743449611  ,& Test_auc :  0.8089774323851796  Avg Loss:  0.2898696469143033  , Train Time : 0m 1s  ,Eval Time : 0m 0s\n",
      "Epoch:  10  Train_auc : 0.971341212767069  , Valid_auc :  0.8101497357203086  ,& Test_auc :  0.7977926823176461  Avg Loss:  0.285060611134395  , Train Time : 0m 1s  ,Eval Time : 0m 0s\n",
      "Epoch:  11  Train_auc : 0.971364388855279  , Valid_auc :  0.8014998946004185  ,& Test_auc :  0.7897953477725072  Avg Loss:  0.247472236957401  , Train Time : 0m 1s  ,Eval Time : 0m 0s\n",
      "Epoch:  12  Train_auc : 0.9785997652963744  , Valid_auc :  0.8090420641922488  ,& Test_auc :  0.8025503446516552  Avg Loss:  0.21971083234529942  , Train Time : 0m 1s  ,Eval Time : 0m 0s\n",
      "Epoch:  13  Train_auc : 0.9866161982186824  , Valid_auc :  0.8064792928859187  ,& Test_auc :  0.7982361367005879  Avg Loss:  0.20299122266005723  , Train Time : 0m 1s  ,Eval Time : 0m 0s\n",
      "Epoch:  14  Train_auc : 0.9832494438259362  , Valid_auc :  0.794781403219762  ,& Test_auc :  0.7850471425654615  Avg Loss:  0.19143751782830803  , Train Time : 0m 1s  ,Eval Time : 0m 0s\n",
      "Epoch:  15  Train_auc : 0.990397083281119  , Valid_auc :  0.7994019061709503  ,& Test_auc :  0.79114511015613  Avg Loss:  0.17774892244488  , Train Time : 0m 1s  ,Eval Time : 0m 0s\n",
      "Epoch:  16  Train_auc : 0.9797562694491377  , Valid_auc :  0.7926070488897909  ,& Test_auc :  0.7842399525300725  Avg Loss:  0.16129042528336868  , Train Time : 0m 1s  ,Eval Time : 0m 0s\n",
      "Epoch:  17  Train_auc : 0.9933207852290695  , Valid_auc :  0.7983737722900596  ,& Test_auc :  0.7908839479576728  Avg Loss:  0.1791103227180429  , Train Time : 0m 1s  ,Eval Time : 0m 0s\n",
      "Epoch:  18  Train_auc : 0.9940007741358782  , Valid_auc :  0.796203809609319  ,& Test_auc :  0.7883451943488089  Avg Loss:  0.1356037633144297  , Train Time : 0m 1s  ,Eval Time : 0m 0s\n",
      "bestValidAuc 0.827530 has a TestAuc of 0.815156 at epoch 7 \n"
     ]
    },
    {
     "name": "stderr",
     "output_type": "stream",
     "text": [
      "\r",
      "  0%|          | 0/161 [00:00<?, ?it/s]"
     ]
    },
    {
     "name": "stdout",
     "output_type": "stream",
     "text": [
      " creating the list of training minibatches\n"
     ]
    },
    {
     "name": "stderr",
     "output_type": "stream",
     "text": [
      "100%|██████████| 161/161 [00:14<00:00, 11.19it/s]\n",
      "  0%|          | 0/23 [00:00<?, ?it/s]"
     ]
    },
    {
     "name": "stdout",
     "output_type": "stream",
     "text": [
      " creating the list of valid minibatches\n"
     ]
    },
    {
     "name": "stderr",
     "output_type": "stream",
     "text": [
      "100%|██████████| 23/23 [00:02<00:00, 10.74it/s]\n",
      "  0%|          | 0/46 [00:00<?, ?it/s]"
     ]
    },
    {
     "name": "stdout",
     "output_type": "stream",
     "text": [
      " creating the list of test minibatches\n"
     ]
    },
    {
     "name": "stderr",
     "output_type": "stream",
     "text": [
      "100%|██████████| 46/46 [00:04<00:00, 11.14it/s]\n"
     ]
    },
    {
     "name": "stdout",
     "output_type": "stream",
     "text": [
      "Epoch:  0  Train_auc : 0.8077958421711071  , Valid_auc :  0.7830869292807844  ,& Test_auc :  0.7724992325177733  Avg Loss:  0.563181666471064  , Train Time : 0m 1s  ,Eval Time : 0m 0s\n",
      "Epoch:  1  Train_auc : 0.8416950676614369  , Valid_auc :  0.8076074587770525  ,& Test_auc :  0.7973215840251182  Avg Loss:  0.5019972063601017  , Train Time : 0m 1s  ,Eval Time : 0m 0s\n",
      "Epoch:  2  Train_auc : 0.8625532743906169  , Valid_auc :  0.815617826972924  ,& Test_auc :  0.806083005930831  Avg Loss:  0.4703894833102822  , Train Time : 0m 1s  ,Eval Time : 0m 0s\n",
      "Epoch:  3  Train_auc : 0.8808811430750101  , Valid_auc :  0.8097945000936886  ,& Test_auc :  0.8031473561025385  Avg Loss:  0.4435119109228254  , Train Time : 0m 1s  ,Eval Time : 0m 0s\n",
      "Epoch:  4  Train_auc : 0.8954200163054562  , Valid_auc :  0.811363782751944  ,& Test_auc :  0.8027996854414078  Avg Loss:  0.43199363220483067  , Train Time : 0m 1s  ,Eval Time : 0m 0s\n",
      "Epoch:  5  Train_auc : 0.9128704605987514  , Valid_auc :  0.8144340335248742  ,& Test_auc :  0.8102574787687499  Avg Loss:  0.4004557708278298  , Train Time : 0m 1s  ,Eval Time : 0m 0s\n",
      "Epoch:  6  Train_auc : 0.9213790743154082  , Valid_auc :  0.8148087875925174  ,& Test_auc :  0.8081553291880403  Avg Loss:  0.38724508192390206  , Train Time : 0m 1s  ,Eval Time : 0m 0s\n",
      "Epoch:  7  Train_auc : 0.9454827414586746  , Valid_auc :  0.8104127467130946  ,& Test_auc :  0.8136115458425742  Avg Loss:  0.3481852852739394  , Train Time : 0m 1s  ,Eval Time : 0m 0s\n",
      "Epoch:  8  Train_auc : 0.9467612435482851  , Valid_auc :  0.7995761082570813  ,& Test_auc :  0.796626848928944  Avg Loss:  0.3333574269898236  , Train Time : 0m 1s  ,Eval Time : 0m 0s\n",
      "Epoch:  9  Train_auc : 0.9640695676069695  , Valid_auc :  0.8005998504887417  ,& Test_auc :  0.8060264450368755  Avg Loss:  0.29634113316424193  , Train Time : 0m 1s  ,Eval Time : 0m 0s\n",
      "Epoch:  10  Train_auc : 0.9569983522321815  , Valid_auc :  0.7826824095905812  ,& Test_auc :  0.7837065948183675  Avg Loss:  0.2829135224688798  , Train Time : 0m 1s  ,Eval Time : 0m 0s\n",
      "Epoch:  11  Train_auc : 0.976185357267158  , Valid_auc :  0.79638240334468  ,& Test_auc :  0.8010688493392378  Avg Loss:  0.2535107322968543  , Train Time : 0m 1s  ,Eval Time : 0m 0s\n",
      "Epoch:  12  Train_auc : 0.9778190657517074  , Valid_auc :  0.7889312384841198  ,& Test_auc :  0.783597534745242  Avg Loss:  0.2336689112242311  , Train Time : 0m 1s  ,Eval Time : 0m 0s\n",
      "Epoch:  13  Train_auc : 0.9691879038210285  , Valid_auc :  0.7822520279660223  ,& Test_auc :  0.7876739808248263  Avg Loss:  0.23066490800119938  , Train Time : 0m 1s  ,Eval Time : 0m 0s\n",
      "bestValidAuc 0.815618 has a TestAuc of 0.806083 at epoch 2 \n"
     ]
    },
    {
     "name": "stderr",
     "output_type": "stream",
     "text": [
      "\r",
      "  0%|          | 0/161 [00:00<?, ?it/s]"
     ]
    },
    {
     "name": "stdout",
     "output_type": "stream",
     "text": [
      " creating the list of training minibatches\n"
     ]
    },
    {
     "name": "stderr",
     "output_type": "stream",
     "text": [
      "100%|██████████| 161/161 [00:14<00:00, 11.19it/s]\n",
      "  0%|          | 0/23 [00:00<?, ?it/s]"
     ]
    },
    {
     "name": "stdout",
     "output_type": "stream",
     "text": [
      " creating the list of valid minibatches\n"
     ]
    },
    {
     "name": "stderr",
     "output_type": "stream",
     "text": [
      "100%|██████████| 23/23 [00:02<00:00, 10.46it/s]\n",
      "  0%|          | 0/46 [00:00<?, ?it/s]"
     ]
    },
    {
     "name": "stdout",
     "output_type": "stream",
     "text": [
      " creating the list of test minibatches\n"
     ]
    },
    {
     "name": "stderr",
     "output_type": "stream",
     "text": [
      "100%|██████████| 46/46 [00:04<00:00, 11.42it/s]\n"
     ]
    },
    {
     "name": "stdout",
     "output_type": "stream",
     "text": [
      "Epoch:  0  Train_auc : 0.8047368860595984  , Valid_auc :  0.771979472455576  ,& Test_auc :  0.7710173128470947  Avg Loss:  0.5641463169828057  , Train Time : 0m 1s  ,Eval Time : 0m 0s\n",
      "Epoch:  1  Train_auc : 0.8365190812377961  , Valid_auc :  0.800312441444677  ,& Test_auc :  0.7956764076690994  Avg Loss:  0.5021585861220956  , Train Time : 0m 1s  ,Eval Time : 0m 0s\n",
      "Epoch:  2  Train_auc : 0.8637610385973036  , Valid_auc :  0.8155085237031948  ,& Test_auc :  0.8099506677459107  Avg Loss:  0.46951510868966584  , Train Time : 0m 1s  ,Eval Time : 0m 0s\n",
      "Epoch:  3  Train_auc : 0.8840059143195833  , Valid_auc :  0.8235486575216264  ,& Test_auc :  0.8144255256101423  Avg Loss:  0.4420630171895027  , Train Time : 0m 1s  ,Eval Time : 0m 0s\n",
      "Epoch:  4  Train_auc : 0.9042724590646578  , Valid_auc :  0.8219774230192687  ,& Test_auc :  0.8189400306604906  Avg Loss:  0.41962146274745465  , Train Time : 0m 0s  ,Eval Time : 0m 0s\n",
      "Epoch:  5  Train_auc : 0.916131988114846  , Valid_auc :  0.8148649031104587  ,& Test_auc :  0.8118724044430068  Avg Loss:  0.3904396396130323  , Train Time : 0m 0s  ,Eval Time : 0m 0s\n",
      "Epoch:  6  Train_auc : 0.9283590378707989  , Valid_auc :  0.813024802083008  ,& Test_auc :  0.8053891801737881  Avg Loss:  0.3655045158229768  , Train Time : 0m 1s  ,Eval Time : 0m 0s\n",
      "Epoch:  7  Train_auc : 0.9482859277479327  , Valid_auc :  0.8040926755098217  ,& Test_auc :  0.8050490873387499  Avg Loss:  0.3463302648626268  , Train Time : 0m 0s  ,Eval Time : 0m 0s\n",
      "Epoch:  8  Train_auc : 0.9578983578172469  , Valid_auc :  0.8116199622903719  ,& Test_auc :  0.8145890247859173  Avg Loss:  0.3111143790185451  , Train Time : 0m 0s  ,Eval Time : 0m 0s\n",
      "Epoch:  9  Train_auc : 0.9694555368259713  , Valid_auc :  0.8049509989538115  ,& Test_auc :  0.8077811058242808  Avg Loss:  0.2921480633318424  , Train Time : 0m 0s  ,Eval Time : 0m 0s\n",
      "Epoch:  10  Train_auc : 0.9733872424513201  , Valid_auc :  0.8046284567159052  ,& Test_auc :  0.808201038635031  Avg Loss:  0.2702802937943488  , Train Time : 0m 1s  ,Eval Time : 0m 0s\n",
      "Epoch:  11  Train_auc : 0.9780918445918507  , Valid_auc :  0.798350350160832  ,& Test_auc :  0.8022549306792592  Avg Loss:  0.253061045659706  , Train Time : 0m 1s  ,Eval Time : 0m 0s\n",
      "Epoch:  12  Train_auc : 0.9786597355935033  , Valid_auc :  0.8056221893444927  ,& Test_auc :  0.803050723664205  Avg Loss:  0.22813114654272795  , Train Time : 0m 1s  ,Eval Time : 0m 0s\n",
      "Epoch:  13  Train_auc : 0.976661932002537  , Valid_auc :  0.8002436389400704  ,& Test_auc :  0.798211281431004  Avg Loss:  0.21927442548330872  , Train Time : 0m 1s  ,Eval Time : 0m 0s\n",
      "Epoch:  14  Train_auc : 0.9868441269903686  , Valid_auc :  0.7906215354767183  ,& Test_auc :  0.7934738064257055  Avg Loss:  0.20495102659333497  , Train Time : 0m 1s  ,Eval Time : 0m 0s\n",
      "bestValidAuc 0.823549 has a TestAuc of 0.814426 at epoch 3 \n"
     ]
    },
    {
     "name": "stderr",
     "output_type": "stream",
     "text": [
      "\r",
      "  0%|          | 0/161 [00:00<?, ?it/s]"
     ]
    },
    {
     "name": "stdout",
     "output_type": "stream",
     "text": [
      " creating the list of training minibatches\n"
     ]
    },
    {
     "name": "stderr",
     "output_type": "stream",
     "text": [
      "100%|██████████| 161/161 [00:14<00:00, 11.19it/s]\n",
      "  0%|          | 0/23 [00:00<?, ?it/s]"
     ]
    },
    {
     "name": "stdout",
     "output_type": "stream",
     "text": [
      " creating the list of valid minibatches\n"
     ]
    },
    {
     "name": "stderr",
     "output_type": "stream",
     "text": [
      "100%|██████████| 23/23 [00:02<00:00, 10.37it/s]\n",
      "  0%|          | 0/46 [00:00<?, ?it/s]"
     ]
    },
    {
     "name": "stdout",
     "output_type": "stream",
     "text": [
      " creating the list of test minibatches\n"
     ]
    },
    {
     "name": "stderr",
     "output_type": "stream",
     "text": [
      "100%|██████████| 46/46 [00:04<00:00, 11.34it/s]\n"
     ]
    },
    {
     "name": "stdout",
     "output_type": "stream",
     "text": [
      "Epoch:  0  Train_auc : 0.8046716013739004  , Valid_auc :  0.7689272762405921  ,& Test_auc :  0.772775489745807  Avg Loss:  0.5696775885298848  , Train Time : 0m 1s  ,Eval Time : 0m 0s\n",
      "Epoch:  1  Train_auc : 0.8384203235782477  , Valid_auc :  0.7946774675213141  ,& Test_auc :  0.7928983160009255  Avg Loss:  0.4999391961842775  , Train Time : 0m 1s  ,Eval Time : 0m 0s\n",
      "Epoch:  2  Train_auc : 0.8623984680362778  , Valid_auc :  0.8115921485119141  ,& Test_auc :  0.8048943178186336  Avg Loss:  0.4665122369304299  , Train Time : 0m 1s  ,Eval Time : 0m 0s\n",
      "Epoch:  3  Train_auc : 0.8829965770875907  , Valid_auc :  0.8165781342712596  ,& Test_auc :  0.8143936381179444  Avg Loss:  0.44241149667650465  , Train Time : 0m 1s  ,Eval Time : 0m 0s\n",
      "Epoch:  4  Train_auc : 0.9014321018001272  , Valid_auc :  0.8198982210892852  ,& Test_auc :  0.817452473087199  Avg Loss:  0.41976819932460785  , Train Time : 0m 1s  ,Eval Time : 0m 0s\n",
      "Epoch:  5  Train_auc : 0.9193193174465041  , Valid_auc :  0.8235793990662377  ,& Test_auc :  0.8136242159678012  Avg Loss:  0.3926932962611318  , Train Time : 0m 1s  ,Eval Time : 0m 0s\n",
      "Epoch:  6  Train_auc : 0.932079798955094  , Valid_auc :  0.8217305147403267  ,& Test_auc :  0.8187383392412086  Avg Loss:  0.38844598224386573  , Train Time : 0m 1s  ,Eval Time : 0m 0s\n",
      "Epoch:  7  Train_auc : 0.9426708399687589  , Valid_auc :  0.8142939887105336  ,& Test_auc :  0.8112975808669227  Avg Loss:  0.34802878256887193  , Train Time : 0m 1s  ,Eval Time : 0m 0s\n",
      "Epoch:  8  Train_auc : 0.9536018828720063  , Valid_auc :  0.811531153383717  ,& Test_auc :  0.808092584787993  Avg Loss:  0.3228275626897812  , Train Time : 0m 1s  ,Eval Time : 0m 0s\n",
      "Epoch:  9  Train_auc : 0.9630552580505972  , Valid_auc :  0.8133622271321944  ,& Test_auc :  0.8098674935267178  Avg Loss:  0.2916486755013466  , Train Time : 0m 1s  ,Eval Time : 0m 0s\n",
      "Epoch:  10  Train_auc : 0.9628601426538548  , Valid_auc :  0.802910101964336  ,& Test_auc :  0.8029008039527882  Avg Loss:  0.2782259969040751  , Train Time : 0m 1s  ,Eval Time : 0m 0s\n",
      "Epoch:  11  Train_auc : 0.9728825936651319  , Valid_auc :  0.8088102827050998  ,& Test_auc :  0.8041855788998402  Avg Loss:  0.25184554918669166  , Train Time : 0m 1s  ,Eval Time : 0m 0s\n",
      "Epoch:  12  Train_auc : 0.9805666492590697  , Valid_auc :  0.8082003314231285  ,& Test_auc :  0.812446015566916  Avg Loss:  0.22014905200339852  , Train Time : 0m 1s  ,Eval Time : 0m 0s\n",
      "Epoch:  13  Train_auc : 0.9857851160891002  , Valid_auc :  0.8053945555260611  ,& Test_auc :  0.8020258378408265  Avg Loss:  0.21007513476070017  , Train Time : 0m 1s  ,Eval Time : 0m 0s\n",
      "Epoch:  14  Train_auc : 0.978546209942164  , Valid_auc :  0.7991596335217513  ,& Test_auc :  0.7965121509532056  Avg Loss:  0.18509560722159224  , Train Time : 0m 1s  ,Eval Time : 0m 0s\n",
      "Epoch:  15  Train_auc : 0.9883745816641718  , Valid_auc :  0.7925492255082602  ,& Test_auc :  0.7946592815396396  Avg Loss:  0.16866650443989784  , Train Time : 0m 1s  ,Eval Time : 0m 0s\n",
      "Epoch:  16  Train_auc : 0.9889760197436674  , Valid_auc :  0.7960810874113863  ,& Test_auc :  0.7958544562709724  Avg Loss:  0.16954937365371733  , Train Time : 0m 1s  ,Eval Time : 0m 0s\n",
      "bestValidAuc 0.823579 has a TestAuc of 0.813624 at epoch 5 \n"
     ]
    },
    {
     "name": "stderr",
     "output_type": "stream",
     "text": [
      "\r",
      "  0%|          | 0/161 [00:00<?, ?it/s]"
     ]
    },
    {
     "name": "stdout",
     "output_type": "stream",
     "text": [
      " creating the list of training minibatches\n"
     ]
    },
    {
     "name": "stderr",
     "output_type": "stream",
     "text": [
      "100%|██████████| 161/161 [00:13<00:00, 11.54it/s]\n",
      "  0%|          | 0/23 [00:00<?, ?it/s]"
     ]
    },
    {
     "name": "stdout",
     "output_type": "stream",
     "text": [
      " creating the list of valid minibatches\n"
     ]
    },
    {
     "name": "stderr",
     "output_type": "stream",
     "text": [
      "100%|██████████| 23/23 [00:02<00:00, 11.09it/s]\n",
      "  0%|          | 0/46 [00:00<?, ?it/s]"
     ]
    },
    {
     "name": "stdout",
     "output_type": "stream",
     "text": [
      " creating the list of test minibatches\n"
     ]
    },
    {
     "name": "stderr",
     "output_type": "stream",
     "text": [
      "100%|██████████| 46/46 [00:03<00:00, 11.57it/s]\n"
     ]
    },
    {
     "name": "stdout",
     "output_type": "stream",
     "text": [
      "Epoch:  0  Train_auc : 0.7912452894414809  , Valid_auc :  0.769582607897942  ,& Test_auc :  0.7617897637027706  Avg Loss:  0.5706158248707651  , Train Time : 0m 1s  ,Eval Time : 0m 0s\n",
      "Epoch:  1  Train_auc : 0.8374674616397072  , Valid_auc :  0.8015474708004121  ,& Test_auc :  0.7911651762396231  Avg Loss:  0.5047374118119479  , Train Time : 0m 1s  ,Eval Time : 0m 0s\n",
      "Epoch:  2  Train_auc : 0.8569895309420508  , Valid_auc :  0.8060401279628993  ,& Test_auc :  0.7954150029802074  Avg Loss:  0.4694673141464591  , Train Time : 0m 1s  ,Eval Time : 0m 0s\n",
      "Epoch:  3  Train_auc : 0.8841155285412758  , Valid_auc :  0.8159945328846694  ,& Test_auc :  0.809023929926084  Avg Loss:  0.44781181067228315  , Train Time : 0m 1s  ,Eval Time : 0m 0s\n",
      "Epoch:  4  Train_auc : 0.8959648501977473  , Valid_auc :  0.8192223950688611  ,& Test_auc :  0.8082097682906897  Avg Loss:  0.4234210152179003  , Train Time : 0m 1s  ,Eval Time : 0m 0s\n",
      "Epoch:  5  Train_auc : 0.9152120634875499  , Valid_auc :  0.8224785589925361  ,& Test_auc :  0.8143116157283177  Avg Loss:  0.398772282525897  , Train Time : 0m 1s  ,Eval Time : 0m 0s\n",
      "Epoch:  6  Train_auc : 0.9318994270206695  , Valid_auc :  0.8189652396083819  ,& Test_auc :  0.8142954901143924  Avg Loss:  0.3839003532193601  , Train Time : 0m 1s  ,Eval Time : 0m 0s\n",
      "Epoch:  7  Train_auc : 0.9388018659413161  , Valid_auc :  0.8168470007963524  ,& Test_auc :  0.8073429256082993  Avg Loss:  0.3504401190206409  , Train Time : 0m 1s  ,Eval Time : 0m 0s\n",
      "Epoch:  8  Train_auc : 0.9484783314184183  , Valid_auc :  0.8152596635801506  ,& Test_auc :  0.8025580437229654  Avg Loss:  0.3197736136615277  , Train Time : 0m 1s  ,Eval Time : 0m 0s\n",
      "Epoch:  9  Train_auc : 0.9571550473757416  , Valid_auc :  0.8067308367946034  ,& Test_auc :  0.7925940511276534  Avg Loss:  0.30970264682546256  , Train Time : 0m 1s  ,Eval Time : 0m 0s\n",
      "Epoch:  10  Train_auc : 0.9703394455643163  , Valid_auc :  0.8144120752787234  ,& Test_auc :  0.8050224740135126  Avg Loss:  0.27051219977438445  , Train Time : 0m 1s  ,Eval Time : 0m 0s\n",
      "Epoch:  11  Train_auc : 0.9789543569672621  , Valid_auc :  0.8063031389556854  ,& Test_auc :  0.7977655840115386  Avg Loss:  0.24146560991648583  , Train Time : 0m 1s  ,Eval Time : 0m 0s\n",
      "Epoch:  12  Train_auc : 0.9835184302152814  , Valid_auc :  0.8013225207676212  ,& Test_auc :  0.7929288697957309  Avg Loss:  0.22582340775988996  , Train Time : 0m 1s  ,Eval Time : 0m 0s\n",
      "Epoch:  13  Train_auc : 0.9835033992207461  , Valid_auc :  0.7907718274725961  ,& Test_auc :  0.7839711518829141  Avg Loss:  0.20770468499977143  , Train Time : 0m 1s  ,Eval Time : 0m 0s\n",
      "Epoch:  14  Train_auc : 0.9869372626415349  , Valid_auc :  0.7962901787108461  ,& Test_auc :  0.7914581046850607  Avg Loss:  0.2068555927136913  , Train Time : 0m 1s  ,Eval Time : 0m 0s\n",
      "Epoch:  15  Train_auc : 0.9890174739574884  , Valid_auc :  0.7943741997439181  ,& Test_auc :  0.7907784039958544  Avg Loss:  0.16292229669634253  , Train Time : 0m 1s  ,Eval Time : 0m 0s\n"
     ]
    },
    {
     "name": "stderr",
     "output_type": "stream",
     "text": [
      "\r",
      "  0%|          | 0/161 [00:00<?, ?it/s]"
     ]
    },
    {
     "name": "stdout",
     "output_type": "stream",
     "text": [
      " creating the list of training minibatches\n"
     ]
    },
    {
     "name": "stderr",
     "output_type": "stream",
     "text": [
      "100%|██████████| 161/161 [00:13<00:00, 11.68it/s]\n",
      "  0%|          | 0/23 [00:00<?, ?it/s]"
     ]
    },
    {
     "name": "stdout",
     "output_type": "stream",
     "text": [
      " creating the list of valid minibatches\n"
     ]
    },
    {
     "name": "stderr",
     "output_type": "stream",
     "text": [
      "100%|██████████| 23/23 [00:02<00:00, 10.82it/s]\n",
      "  0%|          | 0/46 [00:00<?, ?it/s]"
     ]
    },
    {
     "name": "stdout",
     "output_type": "stream",
     "text": [
      " creating the list of test minibatches\n"
     ]
    },
    {
     "name": "stderr",
     "output_type": "stream",
     "text": [
      "100%|██████████| 46/46 [00:03<00:00, 11.64it/s]\n"
     ]
    },
    {
     "name": "stdout",
     "output_type": "stream",
     "text": [
      "Epoch:  0  Train_auc : 0.7965497779790239  , Valid_auc :  0.767552446051029  ,& Test_auc :  0.7631985392166505  Avg Loss:  0.5665282268077135  , Train Time : 0m 1s  ,Eval Time : 0m 0s\n",
      "Epoch:  1  Train_auc : 0.8104718549436054  , Valid_auc :  0.773491663673839  ,& Test_auc :  0.7707392535436863  Avg Loss:  0.5059265214949846  , Train Time : 0m 1s  ,Eval Time : 0m 0s\n",
      "Epoch:  2  Train_auc : 0.8450222764593913  , Valid_auc :  0.800203870116486  ,& Test_auc :  0.7944862608285623  Avg Loss:  0.48375177923589946  , Train Time : 0m 1s  ,Eval Time : 0m 0s\n",
      "Epoch:  3  Train_auc : 0.8552379937378061  , Valid_auc :  0.8035417675119452  ,& Test_auc :  0.7960208061693259  Avg Loss:  0.4692565301433206  , Train Time : 0m 1s  ,Eval Time : 0m 0s\n",
      "Epoch:  4  Train_auc : 0.869584507914835  , Valid_auc :  0.8062072546141595  ,& Test_auc :  0.7968504769727847  Avg Loss:  0.4502837171778083  , Train Time : 0m 1s  ,Eval Time : 0m 0s\n",
      "Epoch:  5  Train_auc : 0.8897422217156368  , Valid_auc :  0.8135283778614035  ,& Test_auc :  0.8087133383680358  Avg Loss:  0.442507453635335  , Train Time : 0m 1s  ,Eval Time : 0m 0s\n",
      "Epoch:  6  Train_auc : 0.8878648594215826  , Valid_auc :  0.8006610895974515  ,& Test_auc :  0.8014304029172977  Avg Loss:  0.41566577879711986  , Train Time : 0m 1s  ,Eval Time : 0m 0s\n",
      "Epoch:  7  Train_auc : 0.9053641792343776  , Valid_auc :  0.8089222697604697  ,& Test_auc :  0.8033974904186423  Avg Loss:  0.40303020775318144  , Train Time : 0m 1s  ,Eval Time : 0m 0s\n",
      "Epoch:  8  Train_auc : 0.9232772975675776  , Valid_auc :  0.8081051790231412  ,& Test_auc :  0.8044964009799842  Avg Loss:  0.3868073741905391  , Train Time : 0m 1s  ,Eval Time : 0m 0s\n",
      "Epoch:  9  Train_auc : 0.9317261591149948  , Valid_auc :  0.8031892156709659  ,& Test_auc :  0.7985061802045955  Avg Loss:  0.3666000271216035  , Train Time : 0m 1s  ,Eval Time : 0m 0s\n",
      "Epoch:  10  Train_auc : 0.9414415207606739  , Valid_auc :  0.8019153934136973  ,& Test_auc :  0.8001429638858525  Avg Loss:  0.3445570637471974  , Train Time : 0m 1s  ,Eval Time : 0m 0s\n",
      "Epoch:  11  Train_auc : 0.9529594664940838  , Valid_auc :  0.8009506944661315  ,& Test_auc :  0.8036109417582253  Avg Loss:  0.327912369184196  , Train Time : 0m 1s  ,Eval Time : 0m 0s\n",
      "Epoch:  12  Train_auc : 0.9600109264225578  , Valid_auc :  0.7999242684488304  ,& Test_auc :  0.8003356158477433  Avg Loss:  0.307032257784158  , Train Time : 0m 1s  ,Eval Time : 0m 0s\n",
      "Epoch:  13  Train_auc : 0.9652236525231452  , Valid_auc :  0.7888487730707973  ,& Test_auc :  0.7933085794461642  Avg Loss:  0.2853628874756396  , Train Time : 0m 1s  ,Eval Time : 0m 0s\n",
      "Epoch:  14  Train_auc : 0.9655677790128114  , Valid_auc :  0.7811592392492427  ,& Test_auc :  0.7818141035304487  Avg Loss:  0.27259652204811574  , Train Time : 0m 1s  ,Eval Time : 0m 0s\n",
      "Epoch:  15  Train_auc : 0.9739390217338959  , Valid_auc :  0.7850104716436088  ,& Test_auc :  0.7895275800354595  Avg Loss:  0.2581125065684319  , Train Time : 0m 1s  ,Eval Time : 0m 0s\n",
      "Epoch:  16  Train_auc : 0.9768527592032792  , Valid_auc :  0.7793781815058867  ,& Test_auc :  0.7851661991556788  Avg Loss:  0.22866498837247493  , Train Time : 0m 1s  ,Eval Time : 0m 0s\n",
      "bestValidAuc 0.813528 has a TestAuc of 0.808713 at epoch 5 \n"
     ]
    },
    {
     "name": "stderr",
     "output_type": "stream",
     "text": [
      "\r",
      "  0%|          | 0/161 [00:00<?, ?it/s]"
     ]
    },
    {
     "name": "stdout",
     "output_type": "stream",
     "text": [
      " creating the list of training minibatches\n"
     ]
    },
    {
     "name": "stderr",
     "output_type": "stream",
     "text": [
      "100%|██████████| 161/161 [00:13<00:00, 11.74it/s]\n",
      "  0%|          | 0/23 [00:00<?, ?it/s]"
     ]
    },
    {
     "name": "stdout",
     "output_type": "stream",
     "text": [
      " creating the list of valid minibatches\n"
     ]
    },
    {
     "name": "stderr",
     "output_type": "stream",
     "text": [
      "100%|██████████| 23/23 [00:02<00:00, 11.16it/s]\n",
      "  0%|          | 0/46 [00:00<?, ?it/s]"
     ]
    },
    {
     "name": "stdout",
     "output_type": "stream",
     "text": [
      " creating the list of test minibatches\n"
     ]
    },
    {
     "name": "stderr",
     "output_type": "stream",
     "text": [
      "100%|██████████| 46/46 [00:04<00:00, 11.16it/s]\n"
     ]
    },
    {
     "name": "stdout",
     "output_type": "stream",
     "text": [
      "Epoch:  0  Train_auc : 0.7926973767136958  , Valid_auc :  0.7699715128353268  ,& Test_auc :  0.7697313629995929  Avg Loss:  0.5678195631131531  , Train Time : 0m 1s  ,Eval Time : 0m 0s\n",
      "Epoch:  1  Train_auc : 0.8186555622120916  , Valid_auc :  0.7926351066487618  ,& Test_auc :  0.7869635564583037  Avg Loss:  0.5150262007489801  , Train Time : 0m 1s  ,Eval Time : 0m 0s\n",
      "Epoch:  2  Train_auc : 0.8411703808541695  , Valid_auc :  0.8034078222104244  ,& Test_auc :  0.7987067153125503  Avg Loss:  0.4892123647034168  , Train Time : 0m 1s  ,Eval Time : 0m 0s\n",
      "Epoch:  3  Train_auc : 0.8524864343539209  , Valid_auc :  0.805090311826614  ,& Test_auc :  0.8018471787857505  Avg Loss:  0.4655236525461078  , Train Time : 0m 1s  ,Eval Time : 0m 0s\n",
      "Epoch:  4  Train_auc : 0.8584994121899561  , Valid_auc :  0.8034702812216982  ,& Test_auc :  0.7992776370063498  Avg Loss:  0.46190295126289127  , Train Time : 0m 1s  ,Eval Time : 0m 0s\n",
      "Epoch:  5  Train_auc : 0.8846242523530273  , Valid_auc :  0.8098210939695825  ,& Test_auc :  0.8115133712104352  Avg Loss:  0.44211548361927266  , Train Time : 0m 0s  ,Eval Time : 0m 0s\n",
      "Epoch:  6  Train_auc : 0.8839613964004119  , Valid_auc :  0.8038889517816432  ,& Test_auc :  0.8039495532014729  Avg Loss:  0.43686026316136123  , Train Time : 0m 1s  ,Eval Time : 0m 0s\n",
      "Epoch:  7  Train_auc : 0.8999546274160998  , Valid_auc :  0.7974071214983917  ,& Test_auc :  0.801351389537901  Avg Loss:  0.4196905336342752  , Train Time : 0m 1s  ,Eval Time : 0m 0s\n",
      "Epoch:  8  Train_auc : 0.9165195716289501  , Valid_auc :  0.8059171617844539  ,& Test_auc :  0.8093174905544751  Avg Loss:  0.40073263822123406  , Train Time : 0m 1s  ,Eval Time : 0m 0s\n",
      "Epoch:  9  Train_auc : 0.9197247973624134  , Valid_auc :  0.7966715202523343  ,& Test_auc :  0.8006898116643637  Avg Loss:  0.37713203700259323  , Train Time : 0m 1s  ,Eval Time : 0m 0s\n",
      "Epoch:  10  Train_auc : 0.9371663678165866  , Valid_auc :  0.8008079658661503  ,& Test_auc :  0.8035077331843701  Avg Loss:  0.36259724637493496  , Train Time : 0m 1s  ,Eval Time : 0m 0s\n",
      "Epoch:  11  Train_auc : 0.9453599800742157  , Valid_auc :  0.7979429027044751  ,& Test_auc :  0.801839053081346  Avg Loss:  0.3496806207112968  , Train Time : 0m 1s  ,Eval Time : 0m 0s\n",
      "Epoch:  12  Train_auc : 0.9547189851960866  , Valid_auc :  0.798096610427532  ,& Test_auc :  0.8013878339285513  Avg Loss:  0.31519163511693477  , Train Time : 0m 1s  ,Eval Time : 0m 0s\n",
      "Epoch:  13  Train_auc : 0.9586075262866662  , Valid_auc :  0.7876676634083883  ,& Test_auc :  0.7936592581668483  Avg Loss:  0.3033404198475182  , Train Time : 0m 1s  ,Eval Time : 0m 0s\n",
      "Epoch:  14  Train_auc : 0.965316460982478  , Valid_auc :  0.7877384177570969  ,& Test_auc :  0.7962035132392586  Avg Loss:  0.2863706157542765  , Train Time : 0m 1s  ,Eval Time : 0m 0s\n",
      "Epoch:  15  Train_auc : 0.9728020697719134  , Valid_auc :  0.7940465339152432  ,& Test_auc :  0.7967811052874201  Avg Loss:  0.260241817124188  , Train Time : 0m 1s  ,Eval Time : 0m 0s\n",
      "Epoch:  16  Train_auc : 0.969313287697608  , Valid_auc :  0.7905002771618626  ,& Test_auc :  0.7946174242511528  Avg Loss:  0.25842457315884526  , Train Time : 0m 1s  ,Eval Time : 0m 0s\n",
      "bestValidAuc 0.809821 has a TestAuc of 0.811513 at epoch 5 \n"
     ]
    },
    {
     "name": "stderr",
     "output_type": "stream",
     "text": [
      "\r",
      "  0%|          | 0/161 [00:00<?, ?it/s]"
     ]
    },
    {
     "name": "stdout",
     "output_type": "stream",
     "text": [
      " creating the list of training minibatches\n"
     ]
    },
    {
     "name": "stderr",
     "output_type": "stream",
     "text": [
      "100%|██████████| 161/161 [00:14<00:00, 11.19it/s]\n",
      "  0%|          | 0/23 [00:00<?, ?it/s]"
     ]
    },
    {
     "name": "stdout",
     "output_type": "stream",
     "text": [
      " creating the list of valid minibatches\n"
     ]
    },
    {
     "name": "stderr",
     "output_type": "stream",
     "text": [
      "100%|██████████| 23/23 [00:02<00:00, 10.74it/s]\n",
      "  0%|          | 0/46 [00:00<?, ?it/s]"
     ]
    },
    {
     "name": "stdout",
     "output_type": "stream",
     "text": [
      " creating the list of test minibatches\n"
     ]
    },
    {
     "name": "stderr",
     "output_type": "stream",
     "text": [
      "100%|██████████| 46/46 [00:04<00:00, 11.23it/s]\n"
     ]
    },
    {
     "name": "stdout",
     "output_type": "stream",
     "text": [
      "Epoch:  0  Train_auc : 0.8006127916361201  , Valid_auc :  0.7635450661284782  ,& Test_auc :  0.7660701874090633  Avg Loss:  0.5786870887503027  , Train Time : 0m 1s  ,Eval Time : 0m 0s\n",
      "Epoch:  1  Train_auc : 0.828763767228472  , Valid_auc :  0.7829329775772149  ,& Test_auc :  0.7828853624409811  Avg Loss:  0.5073870589956642  , Train Time : 0m 1s  ,Eval Time : 0m 0s\n",
      "Epoch:  2  Train_auc : 0.8439609058109597  , Valid_auc :  0.7958161245744979  ,& Test_auc :  0.7953456450287244  Avg Loss:  0.4819113813340664  , Train Time : 0m 1s  ,Eval Time : 0m 0s\n",
      "Epoch:  3  Train_auc : 0.857927580013945  , Valid_auc :  0.7968147368133411  ,& Test_auc :  0.7980528993059072  Avg Loss:  0.47207569386810067  , Train Time : 0m 1s  ,Eval Time : 0m 0s\n",
      "Epoch:  4  Train_auc : 0.8697886954487803  , Valid_auc :  0.8000243004590737  ,& Test_auc :  0.8011499448361694  Avg Loss:  0.45512605477124457  , Train Time : 0m 1s  ,Eval Time : 0m 0s\n",
      "Epoch:  5  Train_auc : 0.885149633203578  , Valid_auc :  0.7960205802442147  ,& Test_auc :  0.8061630193371148  Avg Loss:  0.43685591574758287  , Train Time : 0m 1s  ,Eval Time : 0m 0s\n",
      "Epoch:  6  Train_auc : 0.8978013680445796  , Valid_auc :  0.8042668775959527  ,& Test_auc :  0.8075006073054449  Avg Loss:  0.4267157072201371  , Train Time : 0m 1s  ,Eval Time : 0m 0s\n",
      "Epoch:  7  Train_auc : 0.9114225722884003  , Valid_auc :  0.803719629305768  ,& Test_auc :  0.8120255331462642  Avg Loss:  0.4028707187622786  , Train Time : 0m 1s  ,Eval Time : 0m 0s\n",
      "Epoch:  8  Train_auc : 0.9193015301086437  , Valid_auc :  0.8008160172230723  ,& Test_auc :  0.7997560833328583  Avg Loss:  0.3852963228709996  , Train Time : 0m 1s  ,Eval Time : 0m 0s\n",
      "Epoch:  9  Train_auc : 0.9312547401297203  , Valid_auc :  0.7901177157178102  ,& Test_auc :  0.7982521003429897  Avg Loss:  0.376315547991544  , Train Time : 0m 1s  ,Eval Time : 0m 0s\n",
      "Epoch:  10  Train_auc : 0.9375950486079657  , Valid_auc :  0.7956165485150369  ,& Test_auc :  0.803962408793516  Avg Loss:  0.350655853189528  , Train Time : 0m 1s  ,Eval Time : 0m 0s\n",
      "Epoch:  11  Train_auc : 0.9497234153239383  , Valid_auc :  0.7932553051122702  ,& Test_auc :  0.7985922884154499  Avg Loss:  0.32996230041608215  , Train Time : 0m 1s  ,Eval Time : 0m 0s\n",
      "Epoch:  12  Train_auc : 0.959522136525393  , Valid_auc :  0.7887846061959338  ,& Test_auc :  0.7957152432999626  Avg Loss:  0.3241132595576346  , Train Time : 0m 1s  ,Eval Time : 0m 0s\n",
      "Epoch:  13  Train_auc : 0.9646053838940294  , Valid_auc :  0.7959783716155022  ,& Test_auc :  0.7955614006725416  Avg Loss:  0.28823691532015805  , Train Time : 0m 1s  ,Eval Time : 0m 0s\n",
      "Epoch:  14  Train_auc : 0.9667069767005605  , Valid_auc :  0.7931891863933044  ,& Test_auc :  0.7946105719780354  Avg Loss:  0.2702302196994424  , Train Time : 0m 1s  ,Eval Time : 0m 0s\n",
      "Epoch:  15  Train_auc : 0.9687965923030025  , Valid_auc :  0.7891991290871614  ,& Test_auc :  0.7894734895255426  Avg Loss:  0.2755522988270968  , Train Time : 0m 1s  ,Eval Time : 0m 0s\n",
      "Epoch:  16  Train_auc : 0.9760528148298568  , Valid_auc :  0.7806022317385466  ,& Test_auc :  0.7874077414192258  Avg Loss:  0.238139833137393  , Train Time : 0m 1s  ,Eval Time : 0m 0s\n",
      "Epoch:  17  Train_auc : 0.9817018115808717  , Valid_auc :  0.7862320820711408  ,& Test_auc :  0.7934654540528405  Avg Loss:  0.22213078446220608  , Train Time : 0m 1s  ,Eval Time : 0m 0s\n",
      "bestValidAuc 0.804267 has a TestAuc of 0.807501 at epoch 6 \n"
     ]
    },
    {
     "name": "stderr",
     "output_type": "stream",
     "text": [
      "\r",
      "  0%|          | 0/161 [00:00<?, ?it/s]"
     ]
    },
    {
     "name": "stdout",
     "output_type": "stream",
     "text": [
      " creating the list of training minibatches\n"
     ]
    },
    {
     "name": "stderr",
     "output_type": "stream",
     "text": [
      "100%|██████████| 161/161 [00:14<00:00, 11.31it/s]\n",
      "  0%|          | 0/23 [00:00<?, ?it/s]"
     ]
    },
    {
     "name": "stdout",
     "output_type": "stream",
     "text": [
      " creating the list of valid minibatches\n"
     ]
    },
    {
     "name": "stderr",
     "output_type": "stream",
     "text": [
      "100%|██████████| 23/23 [00:02<00:00, 10.53it/s]\n",
      "  0%|          | 0/46 [00:00<?, ?it/s]"
     ]
    },
    {
     "name": "stdout",
     "output_type": "stream",
     "text": [
      " creating the list of test minibatches\n"
     ]
    },
    {
     "name": "stderr",
     "output_type": "stream",
     "text": [
      "100%|██████████| 46/46 [00:04<00:00, 11.23it/s]\n"
     ]
    },
    {
     "name": "stdout",
     "output_type": "stream",
     "text": [
      "Epoch:  0  Train_auc : 0.8027503507570818  , Valid_auc :  0.7765777731801005  ,& Test_auc :  0.7642022456293716  Avg Loss:  0.5652159918099642  , Train Time : 0m 1s  ,Eval Time : 0m 0s\n",
      "Epoch:  1  Train_auc : 0.8252032607382898  , Valid_auc :  0.7925824068579994  ,& Test_auc :  0.7813599736775689  Avg Loss:  0.5106653463095426  , Train Time : 0m 1s  ,Eval Time : 0m 0s\n",
      "Epoch:  2  Train_auc : 0.8468186290299288  , Valid_auc :  0.8057178297055058  ,& Test_auc :  0.7908708074852049  Avg Loss:  0.4870738493278623  , Train Time : 0m 1s  ,Eval Time : 0m 0s\n",
      "Epoch:  3  Train_auc : 0.8590099058120801  , Valid_auc :  0.8063102143905563  ,& Test_auc :  0.793973856334393  Avg Loss:  0.47064618710428474  , Train Time : 0m 1s  ,Eval Time : 0m 0s\n",
      "Epoch:  4  Train_auc : 0.8694054893648129  , Valid_auc :  0.8119203023016146  ,& Test_auc :  0.8036566640053973  Avg Loss:  0.45285692475736145  , Train Time : 0m 1s  ,Eval Time : 0m 0s\n",
      "Epoch:  5  Train_auc : 0.8764404360205965  , Valid_auc :  0.8047160457199962  ,& Test_auc :  0.7928054528085164  Avg Loss:  0.44001163933426146  , Train Time : 0m 1s  ,Eval Time : 0m 0s\n",
      "Epoch:  6  Train_auc : 0.8887193357672638  , Valid_auc :  0.8088071109584336  ,& Test_auc :  0.802912980133623  Avg Loss:  0.42654436388984324  , Train Time : 0m 1s  ,Eval Time : 0m 0s\n",
      "Epoch:  7  Train_auc : 0.9130630229077017  , Valid_auc :  0.8129359931763529  ,& Test_auc :  0.8048948030541491  Avg Loss:  0.40309652052819733  , Train Time : 0m 1s  ,Eval Time : 0m 0s\n",
      "Epoch:  8  Train_auc : 0.9260540755099063  , Valid_auc :  0.8069975074950813  ,& Test_auc :  0.8006328104543615  Avg Loss:  0.38970277812331916  , Train Time : 0m 1s  ,Eval Time : 0m 0s\n",
      "Epoch:  9  Train_auc : 0.9269183229935261  , Valid_auc :  0.8074422839698947  ,& Test_auc :  0.802829418785343  Avg Loss:  0.37053187275305394  , Train Time : 0m 1s  ,Eval Time : 0m 0s\n",
      "Epoch:  10  Train_auc : 0.939968800573137  , Valid_auc :  0.8100031034321227  ,& Test_auc :  0.8027694462356705  Avg Loss:  0.347992967441678  , Train Time : 0m 1s  ,Eval Time : 0m 0s\n",
      "Epoch:  11  Train_auc : 0.9546469088011164  , Valid_auc :  0.8126717622810031  ,& Test_auc :  0.8038941892602686  Avg Loss:  0.32586181359365585  , Train Time : 0m 1s  ,Eval Time : 0m 0s\n",
      "Epoch:  12  Train_auc : 0.9616593981992335  , Valid_auc :  0.8035673854657881  ,& Test_auc :  0.7999623792013985  Avg Loss:  0.3203631334006786  , Train Time : 0m 1s  ,Eval Time : 0m 0s\n",
      "Epoch:  13  Train_auc : 0.966454166477168  , Valid_auc :  0.8018180451890946  ,& Test_auc :  0.7918540783577441  Avg Loss:  0.29221232547424736  , Train Time : 0m 1s  ,Eval Time : 0m 0s\n",
      "Epoch:  14  Train_auc : 0.9729025969840468  , Valid_auc :  0.8021635215952031  ,& Test_auc :  0.79495864319656  Avg Loss:  0.26528473747894166  , Train Time : 0m 1s  ,Eval Time : 0m 0s\n",
      "Epoch:  15  Train_auc : 0.9758819165862493  , Valid_auc :  0.8041670895662223  ,& Test_auc :  0.7963867054258724  Avg Loss:  0.25155649897642435  , Train Time : 0m 1s  ,Eval Time : 0m 0s\n",
      "Epoch:  16  Train_auc : 0.9712762899753686  , Valid_auc :  0.7883234830267638  ,& Test_auc :  0.777980044482774  Avg Loss:  0.24274745071306825  , Train Time : 0m 1s  ,Eval Time : 0m 0s\n",
      "Epoch:  17  Train_auc : 0.981419023645093  , Valid_auc :  0.792241566081634  ,& Test_auc :  0.7854761280751699  Avg Loss:  0.23632935672067107  , Train Time : 0m 1s  ,Eval Time : 0m 0s\n",
      "Epoch:  18  Train_auc : 0.9853856941795637  , Valid_auc :  0.792841270182068  ,& Test_auc :  0.7853801356119425  Avg Loss:  0.20237133990740402  , Train Time : 0m 1s  ,Eval Time : 0m 0s\n",
      "bestValidAuc 0.812936 has a TestAuc of 0.804895 at epoch 7 \n"
     ]
    },
    {
     "name": "stderr",
     "output_type": "stream",
     "text": [
      "\r",
      "  0%|          | 0/161 [00:00<?, ?it/s]"
     ]
    },
    {
     "name": "stdout",
     "output_type": "stream",
     "text": [
      " creating the list of training minibatches\n"
     ]
    },
    {
     "name": "stderr",
     "output_type": "stream",
     "text": [
      "100%|██████████| 161/161 [00:14<00:00, 11.20it/s]\n",
      "  0%|          | 0/23 [00:00<?, ?it/s]"
     ]
    },
    {
     "name": "stdout",
     "output_type": "stream",
     "text": [
      " creating the list of valid minibatches\n"
     ]
    },
    {
     "name": "stderr",
     "output_type": "stream",
     "text": [
      "100%|██████████| 23/23 [00:02<00:00, 10.64it/s]\n",
      "  0%|          | 0/46 [00:00<?, ?it/s]"
     ]
    },
    {
     "name": "stdout",
     "output_type": "stream",
     "text": [
      " creating the list of test minibatches\n"
     ]
    },
    {
     "name": "stderr",
     "output_type": "stream",
     "text": [
      "100%|██████████| 46/46 [00:04<00:00, 11.32it/s]\n"
     ]
    },
    {
     "name": "stdout",
     "output_type": "stream",
     "text": [
      "Epoch:  0  Train_auc : 0.7980842184442538  , Valid_auc :  0.7708151974485493  ,& Test_auc :  0.7669840259566532  Avg Loss:  0.5685695489868522  , Train Time : 0m 1s  ,Eval Time : 0m 0s\n",
      "Epoch:  1  Train_auc : 0.818917627998412  , Valid_auc :  0.784454440054964  ,& Test_auc :  0.7803687590193804  Avg Loss:  0.5039797063916921  , Train Time : 0m 1s  ,Eval Time : 0m 0s\n",
      "Epoch:  2  Train_auc : 0.8467358891556559  , Valid_auc :  0.8042219851815996  ,& Test_auc :  0.8002812221399007  Avg Loss:  0.47952767480164765  , Train Time : 0m 1s  ,Eval Time : 0m 0s\n",
      "Epoch:  3  Train_auc : 0.855178370462319  , Valid_auc :  0.7984128091721058  ,& Test_auc :  0.7935861874667923  Avg Loss:  0.46751206237822773  , Train Time : 0m 1s  ,Eval Time : 0m 0s\n",
      "Epoch:  4  Train_auc : 0.8718668940392122  , Valid_auc :  0.8109721940289185  ,& Test_auc :  0.8090943368812746  Avg Loss:  0.45607973933219914  , Train Time : 0m 1s  ,Eval Time : 0m 0s\n",
      "Epoch:  5  Train_auc : 0.8829573091101124  , Valid_auc :  0.8115941003560164  ,& Test_auc :  0.8081339271323212  Avg Loss:  0.4322466257959604  , Train Time : 0m 1s  ,Eval Time : 0m 0s\n",
      "Epoch:  6  Train_auc : 0.8952182331357421  , Valid_auc :  0.8073090706099122  ,& Test_auc :  0.8076816164669947  Avg Loss:  0.42204254157841203  , Train Time : 0m 1s  ,Eval Time : 0m 0s\n",
      "Epoch:  7  Train_auc : 0.9051148838444699  , Valid_auc :  0.8117170665344617  ,& Test_auc :  0.8087051520240462  Avg Loss:  0.42001778567209835  , Train Time : 0m 1s  ,Eval Time : 0m 0s\n",
      "Epoch:  8  Train_auc : 0.9175637647061203  , Valid_auc :  0.8087422121420318  ,& Test_auc :  0.8085730790076794  Avg Loss:  0.3858864766545594  , Train Time : 0m 1s  ,Eval Time : 0m 0s\n",
      "Epoch:  9  Train_auc : 0.9186312825950611  , Valid_auc :  0.8074452117360482  ,& Test_auc :  0.8054334038490856  Avg Loss:  0.39130070302635434  , Train Time : 0m 1s  ,Eval Time : 0m 0s\n",
      "Epoch:  10  Train_auc : 0.9363490178291094  , Valid_auc :  0.8067252252428095  ,& Test_auc :  0.8045634077215293  Avg Loss:  0.3609219678677619  , Train Time : 0m 1s  ,Eval Time : 0m 0s\n",
      "Epoch:  11  Train_auc : 0.9472941547684596  , Valid_auc :  0.8048817084881796  ,& Test_auc :  0.8053959285854883  Avg Loss:  0.34172096773982047  , Train Time : 0m 1s  ,Eval Time : 0m 0s\n",
      "Epoch:  12  Train_auc : 0.9474710911886316  , Valid_auc :  0.792060532541145  ,& Test_auc :  0.795531565996668  Avg Loss:  0.31944975247606633  , Train Time : 0m 1s  ,Eval Time : 0m 0s\n",
      "Epoch:  13  Train_auc : 0.9554305976893533  , Valid_auc :  0.8001021302426532  ,& Test_auc :  0.7963804595486063  Avg Loss:  0.3010597567539662  , Train Time : 0m 1s  ,Eval Time : 0m 0s\n",
      "Epoch:  14  Train_auc : 0.9610204123781112  , Valid_auc :  0.7757287209955966  ,& Test_auc :  0.7719808490487893  Avg Loss:  0.2997648824006319  , Train Time : 0m 1s  ,Eval Time : 0m 0s\n",
      "Epoch:  15  Train_auc : 0.9689060627585864  , Valid_auc :  0.7897146599106837  ,& Test_auc :  0.7909016730340253  Avg Loss:  0.28247402291744944  , Train Time : 0m 1s  ,Eval Time : 0m 0s\n",
      "Epoch:  16  Train_auc : 0.9650957502609379  , Valid_auc :  0.785461347631242  ,& Test_auc :  0.784221737617609  Avg Loss:  0.2610381652135402  , Train Time : 0m 1s  ,Eval Time : 0m 0s\n",
      "Epoch:  17  Train_auc : 0.9784223777480682  , Valid_auc :  0.7873224309827925  ,& Test_auc :  0.7928785235085725  Avg Loss:  0.2461008139885962  , Train Time : 0m 1s  ,Eval Time : 0m 0s\n",
      "Epoch:  18  Train_auc : 0.9813295664233281  , Valid_auc :  0.7832257541925611  ,& Test_auc :  0.786689465533612  Avg Loss:  0.23311980902217327  , Train Time : 0m 1s  ,Eval Time : 0m 0s\n",
      "bestValidAuc 0.811717 has a TestAuc of 0.808705 at epoch 7 \n"
     ]
    },
    {
     "name": "stderr",
     "output_type": "stream",
     "text": [
      "\r",
      "  0%|          | 0/161 [00:00<?, ?it/s]"
     ]
    },
    {
     "name": "stdout",
     "output_type": "stream",
     "text": [
      " creating the list of training minibatches\n"
     ]
    },
    {
     "name": "stderr",
     "output_type": "stream",
     "text": [
      "100%|██████████| 161/161 [00:14<00:00, 11.24it/s]\n",
      "  0%|          | 0/23 [00:00<?, ?it/s]"
     ]
    },
    {
     "name": "stdout",
     "output_type": "stream",
     "text": [
      " creating the list of valid minibatches\n"
     ]
    },
    {
     "name": "stderr",
     "output_type": "stream",
     "text": [
      "100%|██████████| 23/23 [00:02<00:00, 10.54it/s]\n",
      "  0%|          | 0/46 [00:00<?, ?it/s]"
     ]
    },
    {
     "name": "stdout",
     "output_type": "stream",
     "text": [
      " creating the list of test minibatches\n"
     ]
    },
    {
     "name": "stderr",
     "output_type": "stream",
     "text": [
      "100%|██████████| 46/46 [00:04<00:00, 11.28it/s]\n"
     ]
    },
    {
     "name": "stdout",
     "output_type": "stream",
     "text": [
      "Epoch:  0  Train_auc : 0.8011683088375219  , Valid_auc :  0.7680321117391711  ,& Test_auc :  0.7607094661666893  Avg Loss:  0.5692947344854473  , Train Time : 0m 1s  ,Eval Time : 0m 0s\n",
      "Epoch:  1  Train_auc : 0.798651217104542  , Valid_auc :  0.763048077823928  ,& Test_auc :  0.7559278529621043  Avg Loss:  0.5051467360928654  , Train Time : 0m 1s  ,Eval Time : 0m 0s\n",
      "Epoch:  2  Train_auc : 0.847995334799688  , Valid_auc :  0.8008899433184473  ,& Test_auc :  0.7923506559202004  Avg Loss:  0.4844028428196907  , Train Time : 0m 1s  ,Eval Time : 0m 0s\n",
      "Epoch:  3  Train_auc : 0.8619072192429093  , Valid_auc :  0.8078448518159956  ,& Test_auc :  0.8006656164699053  Avg Loss:  0.46622031107544903  , Train Time : 0m 0s  ,Eval Time : 0m 0s\n",
      "Epoch:  4  Train_auc : 0.8670383605555453  , Valid_auc :  0.8041856320851941  ,& Test_auc :  0.7950842884169054  Avg Loss:  0.45096272900700574  , Train Time : 0m 0s  ,Eval Time : 0m 0s\n",
      "Epoch:  5  Train_auc : 0.8881754586632133  , Valid_auc :  0.8042175935323693  ,& Test_auc :  0.7975853074651332  Avg Loss:  0.43679790794849394  , Train Time : 0m 0s  ,Eval Time : 0m 0s\n",
      "Epoch:  6  Train_auc : 0.895081308310852  , Valid_auc :  0.8052137659660848  ,& Test_auc :  0.7947086261871563  Avg Loss:  0.42196862623095516  , Train Time : 0m 0s  ,Eval Time : 0m 0s\n",
      "Epoch:  7  Train_auc : 0.9147271205731552  , Valid_auc :  0.8074313048468192  ,& Test_auc :  0.8005577386479968  Avg Loss:  0.3947014986537397  , Train Time : 0m 0s  ,Eval Time : 0m 0s\n",
      "Epoch:  8  Train_auc : 0.92553083627863  , Valid_auc :  0.796244066393929  ,& Test_auc :  0.797442076765106  Avg Loss:  0.3872742597013712  , Train Time : 0m 0s  ,Eval Time : 0m 0s\n",
      "Epoch:  9  Train_auc : 0.931783016132253  , Valid_auc :  0.8037367079416633  ,& Test_auc :  0.7979103356413163  Avg Loss:  0.36953587057068943  , Train Time : 0m 0s  ,Eval Time : 0m 0s\n",
      "Epoch:  10  Train_auc : 0.944981146462933  , Valid_auc :  0.8020993547203397  ,& Test_auc :  0.7984013950015275  Avg Loss:  0.3425327729433775  , Train Time : 0m 0s  ,Eval Time : 0m 0s\n",
      "Epoch:  11  Train_auc : 0.9507179644765447  , Valid_auc :  0.8045867360482183  ,& Test_auc :  0.7978806828841981  Avg Loss:  0.3251140099018812  , Train Time : 0m 0s  ,Eval Time : 0m 0s\n",
      "Epoch:  12  Train_auc : 0.9528999175803771  , Valid_auc :  0.7907911019331064  ,& Test_auc :  0.7851578915325188  Avg Loss:  0.30965628162957726  , Train Time : 0m 0s  ,Eval Time : 0m 0s\n",
      "Epoch:  13  Train_auc : 0.9532761336569914  , Valid_auc :  0.7784022594547328  ,& Test_auc :  0.7761485470937326  Avg Loss:  0.2824093920644373  , Train Time : 0m 0s  ,Eval Time : 0m 0s\n",
      "Epoch:  14  Train_auc : 0.9715959365669424  , Valid_auc :  0.7937901103963024  ,& Test_auc :  0.787741137858154  Avg Loss:  0.27569109243340795  , Train Time : 0m 0s  ,Eval Time : 0m 0s\n",
      "bestValidAuc 0.807845 has a TestAuc of 0.800666 at epoch 3 \n"
     ]
    },
    {
     "name": "stderr",
     "output_type": "stream",
     "text": [
      "\r",
      "  0%|          | 0/161 [00:00<?, ?it/s]"
     ]
    },
    {
     "name": "stdout",
     "output_type": "stream",
     "text": [
      " creating the list of training minibatches\n"
     ]
    },
    {
     "name": "stderr",
     "output_type": "stream",
     "text": [
      "100%|██████████| 161/161 [00:14<00:00, 11.35it/s]\n",
      "  0%|          | 0/23 [00:00<?, ?it/s]"
     ]
    },
    {
     "name": "stdout",
     "output_type": "stream",
     "text": [
      " creating the list of valid minibatches\n"
     ]
    },
    {
     "name": "stderr",
     "output_type": "stream",
     "text": [
      "100%|██████████| 23/23 [00:02<00:00, 11.11it/s]\n",
      "  0%|          | 0/46 [00:00<?, ?it/s]"
     ]
    },
    {
     "name": "stdout",
     "output_type": "stream",
     "text": [
      " creating the list of test minibatches\n"
     ]
    },
    {
     "name": "stderr",
     "output_type": "stream",
     "text": [
      "100%|██████████| 46/46 [00:03<00:00, 11.78it/s]\n"
     ]
    },
    {
     "name": "stdout",
     "output_type": "stream",
     "text": [
      "Epoch:  0  Train_auc : 0.8001179883496508  , Valid_auc :  0.7710052582680116  ,& Test_auc :  0.7674297269072029  Avg Loss:  0.5695151241496206  , Train Time : 0m 1s  ,Eval Time : 0m 0s\n",
      "Epoch:  1  Train_auc : 0.8251665855082195  , Valid_auc :  0.7925094566846755  ,& Test_auc :  0.7872683916526457  Avg Loss:  0.5182485911995172  , Train Time : 0m 1s  ,Eval Time : 0m 0s\n",
      "Epoch:  2  Train_auc : 0.8391356095434641  , Valid_auc :  0.7995512222447768  ,& Test_auc :  0.7966603718734684  Avg Loss:  0.49653961695730686  , Train Time : 0m 1s  ,Eval Time : 0m 0s\n",
      "Epoch:  3  Train_auc : 0.8567871826228061  , Valid_auc :  0.8036205732175761  ,& Test_auc :  0.8015904914219849  Avg Loss:  0.4727461729198694  , Train Time : 0m 1s  ,Eval Time : 0m 0s\n",
      "Epoch:  4  Train_auc : 0.8627420640785773  , Valid_auc :  0.8075193818119359  ,& Test_auc :  0.802924137817283  Avg Loss:  0.45751573536545037  , Train Time : 0m 1s  ,Eval Time : 0m 0s\n",
      "Epoch:  5  Train_auc : 0.8828440908207987  , Valid_auc :  0.8093297172168264  ,& Test_auc :  0.8033999160020466  Avg Loss:  0.44042150788009166  , Train Time : 0m 1s  ,Eval Time : 0m 0s\n",
      "Epoch:  6  Train_auc : 0.8945744782457735  , Valid_auc :  0.8131338613722245  ,& Test_auc :  0.8069724365191472  Avg Loss:  0.4301953912712634  , Train Time : 0m 1s  ,Eval Time : 0m 0s\n",
      "Epoch:  7  Train_auc : 0.9060601658388665  , Valid_auc :  0.8105166824115424  ,& Test_auc :  0.804630535742245  Avg Loss:  0.4096947017125785  , Train Time : 0m 1s  ,Eval Time : 0m 0s\n",
      "Epoch:  8  Train_auc : 0.9202491569778473  , Valid_auc :  0.8128147348614971  ,& Test_auc :  0.8052005478422677  Avg Loss:  0.38952039964497087  , Train Time : 0m 1s  ,Eval Time : 0m 0s\n",
      "Epoch:  9  Train_auc : 0.9347219077132035  , Valid_auc :  0.8029950071827863  ,& Test_auc :  0.8014212463399463  Avg Loss:  0.3702332487329841  , Train Time : 0m 1s  ,Eval Time : 0m 0s\n",
      "Epoch:  10  Train_auc : 0.9374476139847858  , Valid_auc :  0.7930030292620468  ,& Test_auc :  0.7936405205350497  Avg Loss:  0.34999934295192364  , Train Time : 0m 1s  ,Eval Time : 0m 0s\n",
      "Epoch:  11  Train_auc : 0.9316032936240435  , Valid_auc :  0.7925726476374879  ,& Test_auc :  0.7878810940205853  Avg Loss:  0.328899704106152  , Train Time : 0m 1s  ,Eval Time : 0m 0s\n",
      "Epoch:  12  Train_auc : 0.9553755253548241  , Valid_auc :  0.8013949829799195  ,& Test_auc :  0.7916556049956831  Avg Loss:  0.31241633100435134  , Train Time : 0m 1s  ,Eval Time : 0m 0s\n",
      "Epoch:  13  Train_auc : 0.9625118072874207  , Valid_auc :  0.7947396825520752  ,& Test_auc :  0.785290692223907  Avg Loss:  0.2859536425676197  , Train Time : 0m 1s  ,Eval Time : 0m 0s\n",
      "Epoch:  14  Train_auc : 0.9550116335039399  , Valid_auc :  0.7899976773055183  ,& Test_auc :  0.7793199973949234  Avg Loss:  0.289514564955607  , Train Time : 0m 1s  ,Eval Time : 0m 0s\n",
      "Epoch:  15  Train_auc : 0.9695291500310689  , Valid_auc :  0.7907540168951626  ,& Test_auc :  0.7864070063461752  Avg Loss:  0.24828876708634198  , Train Time : 0m 1s  ,Eval Time : 0m 0s\n",
      "Epoch:  16  Train_auc : 0.9743035332662827  , Valid_auc :  0.7880709631960277  ,& Test_auc :  0.7846973338836174  Avg Loss:  0.24485057287383824  , Train Time : 0m 1s  ,Eval Time : 0m 0s\n",
      "Epoch:  17  Train_auc : 0.9803026500664602  , Valid_auc :  0.7918333866837388  ,& Test_auc :  0.7824967839796038  Avg Loss:  0.22312213568948208  , Train Time : 0m 1s  ,Eval Time : 0m 0s\n",
      "bestValidAuc 0.813134 has a TestAuc of 0.806972 at epoch 6 \n"
     ]
    },
    {
     "name": "stderr",
     "output_type": "stream",
     "text": [
      "\r",
      "  0%|          | 0/161 [00:00<?, ?it/s]"
     ]
    },
    {
     "name": "stdout",
     "output_type": "stream",
     "text": [
      " creating the list of training minibatches\n"
     ]
    },
    {
     "name": "stderr",
     "output_type": "stream",
     "text": [
      "100%|██████████| 161/161 [00:13<00:00, 11.57it/s]\n",
      "  0%|          | 0/23 [00:00<?, ?it/s]"
     ]
    },
    {
     "name": "stdout",
     "output_type": "stream",
     "text": [
      " creating the list of valid minibatches\n"
     ]
    },
    {
     "name": "stderr",
     "output_type": "stream",
     "text": [
      "100%|██████████| 23/23 [00:02<00:00, 10.83it/s]\n",
      "  0%|          | 0/46 [00:00<?, ?it/s]"
     ]
    },
    {
     "name": "stdout",
     "output_type": "stream",
     "text": [
      " creating the list of test minibatches\n"
     ]
    },
    {
     "name": "stderr",
     "output_type": "stream",
     "text": [
      "100%|██████████| 46/46 [00:03<00:00, 11.76it/s]\n"
     ]
    },
    {
     "name": "stdout",
     "output_type": "stream",
     "text": [
      "Epoch:  0  Train_auc : 0.7986760588966321  , Valid_auc :  0.7671606133474907  ,& Test_auc :  0.770070884036617  Avg Loss:  0.5693292638286949  , Train Time : 0m 1s  ,Eval Time : 0m 0s\n",
      "Epoch:  1  Train_auc : 0.8223591457251253  , Valid_auc :  0.7830910769495019  ,& Test_auc :  0.7809808549914686  Avg Loss:  0.5098747933283447  , Train Time : 0m 1s  ,Eval Time : 0m 0s\n",
      "Epoch:  2  Train_auc : 0.8386669766462268  , Valid_auc :  0.7958175884575748  ,& Test_auc :  0.7951933183909311  Avg Loss:  0.492252372764051  , Train Time : 0m 1s  ,Eval Time : 0m 0s\n",
      "Epoch:  3  Train_auc : 0.849124994349744  , Valid_auc :  0.7973829674276256  ,& Test_auc :  0.7951242499034921  Avg Loss:  0.4711265770718455  , Train Time : 0m 1s  ,Eval Time : 0m 0s\n",
      "Epoch:  4  Train_auc : 0.8741711524419175  , Valid_auc :  0.8032921754473628  ,& Test_auc :  0.8069390847473373  Avg Loss:  0.45602816417813297  , Train Time : 0m 1s  ,Eval Time : 0m 0s\n",
      "Epoch:  5  Train_auc : 0.8852995267229617  , Valid_auc :  0.8077157861247306  ,& Test_auc :  0.8126199829990859  Avg Loss:  0.439474212191999  , Train Time : 0m 1s  ,Eval Time : 0m 0s\n",
      "Epoch:  6  Train_auc : 0.8944266123242672  , Valid_auc :  0.8059039868367635  ,& Test_auc :  0.8081575765705138  Avg Loss:  0.4279930401593447  , Train Time : 0m 1s  ,Eval Time : 0m 0s\n",
      "Epoch:  7  Train_auc : 0.9063252407985651  , Valid_auc :  0.8089696019799507  ,& Test_auc :  0.8097664054030356  Avg Loss:  0.4063394309021533  , Train Time : 0m 1s  ,Eval Time : 0m 0s\n",
      "Epoch:  8  Train_auc : 0.9173666018816922  , Valid_auc :  0.8008772563317823  ,& Test_auc :  0.8035072480676893  Avg Loss:  0.39809608748182657  , Train Time : 0m 1s  ,Eval Time : 0m 0s\n",
      "Epoch:  9  Train_auc : 0.9198454964468306  , Valid_auc :  0.805327704865557  ,& Test_auc :  0.8064466913162538  Avg Loss:  0.37994621843099596  , Train Time : 0m 1s  ,Eval Time : 0m 0s\n",
      "Epoch:  10  Train_auc : 0.9421473974819494  , Valid_auc :  0.7985118652602978  ,& Test_auc :  0.8081926262507065  Avg Loss:  0.34937726352363824  , Train Time : 0m 1s  ,Eval Time : 0m 0s\n",
      "Epoch:  11  Train_auc : 0.9476106285907382  , Valid_auc :  0.790740841947472  ,& Test_auc :  0.7963392852703173  Avg Loss:  0.3309276911430061  , Train Time : 0m 1s  ,Eval Time : 0m 0s\n",
      "Epoch:  12  Train_auc : 0.9598460316533511  , Valid_auc :  0.7998296040098685  ,& Test_auc :  0.806125786631858  Avg Loss:  0.31216433895751833  , Train Time : 0m 1s  ,Eval Time : 0m 0s\n",
      "Epoch:  13  Train_auc : 0.9556518537306159  , Valid_auc :  0.7920095406139721  ,& Test_auc :  0.7997103610856862  Avg Loss:  0.2964751611929387  , Train Time : 0m 1s  ,Eval Time : 0m 0s\n",
      "Epoch:  14  Train_auc : 0.9711047621353542  , Valid_auc :  0.7945515735767152  ,& Test_auc :  0.7980102090379905  Avg Loss:  0.26608998654410243  , Train Time : 0m 1s  ,Eval Time : 0m 0s\n",
      "Epoch:  15  Train_auc : 0.9688827776064317  , Valid_auc :  0.79334191819431  ,& Test_auc :  0.7991837062890164  Avg Loss:  0.2611607142724097  , Train Time : 0m 1s  ,Eval Time : 0m 0s\n",
      "Epoch:  16  Train_auc : 0.9688829907768688  , Valid_auc :  0.7895270388963492  ,& Test_auc :  0.7917110902160576  Avg Loss:  0.23808731259778143  , Train Time : 0m 1s  ,Eval Time : 0m 0s\n",
      "Epoch:  17  Train_auc : 0.9624525905229996  , Valid_auc :  0.7853305740763873  ,& Test_auc :  0.7831131247226497  Avg Loss:  0.22426162047777326  , Train Time : 0m 1s  ,Eval Time : 0m 0s\n",
      "Epoch:  18  Train_auc : 0.9738354308164121  , Valid_auc :  0.784456635879579  ,& Test_auc :  0.783060914039871  Avg Loss:  0.22069112558383497  , Train Time : 0m 1s  ,Eval Time : 0m 0s\n",
      "bestValidAuc 0.808970 has a TestAuc of 0.809766 at epoch 7 \n"
     ]
    },
    {
     "name": "stderr",
     "output_type": "stream",
     "text": [
      "\r",
      "  0%|          | 0/161 [00:00<?, ?it/s]"
     ]
    },
    {
     "name": "stdout",
     "output_type": "stream",
     "text": [
      " creating the list of training minibatches\n"
     ]
    },
    {
     "name": "stderr",
     "output_type": "stream",
     "text": [
      "100%|██████████| 161/161 [00:13<00:00, 11.60it/s]\n",
      "  0%|          | 0/23 [00:00<?, ?it/s]"
     ]
    },
    {
     "name": "stdout",
     "output_type": "stream",
     "text": [
      " creating the list of valid minibatches\n"
     ]
    },
    {
     "name": "stderr",
     "output_type": "stream",
     "text": [
      "100%|██████████| 23/23 [00:02<00:00, 11.01it/s]\n",
      "  0%|          | 0/46 [00:00<?, ?it/s]"
     ]
    },
    {
     "name": "stdout",
     "output_type": "stream",
     "text": [
      " creating the list of test minibatches\n"
     ]
    },
    {
     "name": "stderr",
     "output_type": "stream",
     "text": [
      "100%|██████████| 46/46 [00:03<00:00, 11.70it/s]\n"
     ]
    },
    {
     "name": "stdout",
     "output_type": "stream",
     "text": [
      "Epoch:  0  Train_auc : 0.7815365162495413  , Valid_auc :  0.7584819825270916  ,& Test_auc :  0.7536354340866509  Avg Loss:  0.5774710809811949  , Train Time : 0m 1s  ,Eval Time : 0m 0s\n",
      "Epoch:  1  Train_auc : 0.8193420800832154  , Valid_auc :  0.7880102120483433  ,& Test_auc :  0.7845547095794415  Avg Loss:  0.5144023846834899  , Train Time : 0m 1s  ,Eval Time : 0m 0s\n",
      "Epoch:  2  Train_auc : 0.8376240477193228  , Valid_auc :  0.7951964140720151  ,& Test_auc :  0.7902757512365322  Avg Loss:  0.4902926990762353  , Train Time : 0m 1s  ,Eval Time : 0m 0s\n",
      "Epoch:  3  Train_auc : 0.8584017107254762  , Valid_auc :  0.8092804331532432  ,& Test_auc :  0.8038548341695331  Avg Loss:  0.4716596573591232  , Train Time : 0m 1s  ,Eval Time : 0m 0s\n",
      "Epoch:  4  Train_auc : 0.865709589902416  , Valid_auc :  0.8052740291527435  ,& Test_auc :  0.8007126121483646  Avg Loss:  0.4539514347910881  , Train Time : 0m 1s  ,Eval Time : 0m 0s\n",
      "Epoch:  5  Train_auc : 0.8743237229853937  , Valid_auc :  0.8052201094594171  ,& Test_auc :  0.8033495851464063  Avg Loss:  0.4490730355493725  , Train Time : 0m 1s  ,Eval Time : 0m 0s\n",
      "Epoch:  6  Train_auc : 0.883433631015438  , Valid_auc :  0.7998352155616627  ,& Test_auc :  0.7973439619164  Avg Loss:  0.431620560772717  , Train Time : 0m 1s  ,Eval Time : 0m 0s\n",
      "Epoch:  7  Train_auc : 0.8988249480362358  , Valid_auc :  0.8036437513662908  ,& Test_auc :  0.8003369499186156  Avg Loss:  0.41555357370525603  , Train Time : 0m 1s  ,Eval Time : 0m 0s\n",
      "Epoch:  8  Train_auc : 0.9168118282980939  , Valid_auc :  0.8146641071484338  ,& Test_auc :  0.8110894398709395  Avg Loss:  0.4000080557540059  , Train Time : 0m 1s  ,Eval Time : 0m 0s\n",
      "Epoch:  9  Train_auc : 0.9221596846259389  , Valid_auc :  0.8083842927297711  ,& Test_auc :  0.8059269494322862  Avg Loss:  0.37775522181764243  , Train Time : 0m 1s  ,Eval Time : 0m 0s\n",
      "Epoch:  10  Train_auc : 0.9387273703097583  , Valid_auc :  0.8033687853283782  ,& Test_auc :  0.8058223461479735  Avg Loss:  0.3556514334864915  , Train Time : 0m 1s  ,Eval Time : 0m 0s\n",
      "Epoch:  11  Train_auc : 0.9434314320880183  , Valid_auc :  0.7987853674151338  ,& Test_auc :  0.7938227424883016  Avg Loss:  0.335008177626878  , Train Time : 0m 1s  ,Eval Time : 0m 0s\n",
      "Epoch:  12  Train_auc : 0.9480847394724615  , Valid_auc :  0.8035537225570719  ,& Test_auc :  0.7989825041456252  Avg Loss:  0.32659684419631957  , Train Time : 0m 1s  ,Eval Time : 0m 0s\n",
      "Epoch:  13  Train_auc : 0.9562331843847044  , Valid_auc :  0.8053640579619625  ,& Test_auc :  0.8002450809471757  Avg Loss:  0.2988959324546159  , Train Time : 0m 1s  ,Eval Time : 0m 0s\n",
      "Epoch:  14  Train_auc : 0.9608462223863603  , Valid_auc :  0.7935249035789014  ,& Test_auc :  0.7902811481596068  Avg Loss:  0.2800920267123729  , Train Time : 0m 1s  ,Eval Time : 0m 0s\n",
      "Epoch:  15  Train_auc : 0.9713757562927692  , Valid_auc :  0.7883398297211205  ,& Test_auc :  0.7885315142104623  Avg Loss:  0.2589163022115827  , Train Time : 0m 1s  ,Eval Time : 0m 0s\n",
      "Epoch:  16  Train_auc : 0.9707302117626196  , Valid_auc :  0.7908589285156615  ,& Test_auc :  0.7894368025765517  Avg Loss:  0.2492172432132065  , Train Time : 0m 1s  ,Eval Time : 0m 0s\n",
      "Epoch:  17  Train_auc : 0.9796075111862674  , Valid_auc :  0.7996622333780956  ,& Test_auc :  0.7879674447897802  Avg Loss:  0.22469456430990248  , Train Time : 0m 1s  ,Eval Time : 0m 0s\n",
      "Epoch:  18  Train_auc : 0.982864195271735  , Valid_auc :  0.7908584405546359  ,& Test_auc :  0.7880899973912852  Avg Loss:  0.224069648119621  , Train Time : 0m 1s  ,Eval Time : 0m 0s\n",
      "Epoch:  19  Train_auc : 0.9844504014509947  , Valid_auc :  0.7916030690796665  ,& Test_auc :  0.7876250736922559  Avg Loss:  0.19302946359384804  , Train Time : 0m 1s  ,Eval Time : 0m 0s\n",
      "bestValidAuc 0.814664 has a TestAuc of 0.811089 at epoch 8 \n"
     ]
    },
    {
     "name": "stderr",
     "output_type": "stream",
     "text": [
      "\r",
      "  0%|          | 0/161 [00:00<?, ?it/s]"
     ]
    },
    {
     "name": "stdout",
     "output_type": "stream",
     "text": [
      " creating the list of training minibatches\n"
     ]
    },
    {
     "name": "stderr",
     "output_type": "stream",
     "text": [
      "100%|██████████| 161/161 [00:14<00:00, 11.31it/s]\n",
      "  0%|          | 0/23 [00:00<?, ?it/s]"
     ]
    },
    {
     "name": "stdout",
     "output_type": "stream",
     "text": [
      " creating the list of valid minibatches\n"
     ]
    },
    {
     "name": "stderr",
     "output_type": "stream",
     "text": [
      "100%|██████████| 23/23 [00:02<00:00, 10.63it/s]\n",
      "  0%|          | 0/46 [00:00<?, ?it/s]"
     ]
    },
    {
     "name": "stdout",
     "output_type": "stream",
     "text": [
      " creating the list of test minibatches\n"
     ]
    },
    {
     "name": "stderr",
     "output_type": "stream",
     "text": [
      "100%|██████████| 46/46 [00:04<00:00, 11.34it/s]\n"
     ]
    },
    {
     "name": "stdout",
     "output_type": "stream",
     "text": [
      "Epoch:  0  Train_auc : 0.80471827082725  , Valid_auc :  0.7672089214890229  ,& Test_auc :  0.763351472250295  Avg Loss:  0.5700851967558265  , Train Time : 0m 1s  ,Eval Time : 0m 0s\n",
      "Epoch:  1  Train_auc : 0.8328850507766529  , Valid_auc :  0.7901128361075545  ,& Test_auc :  0.7827261835300704  Avg Loss:  0.5038638560101389  , Train Time : 0m 1s  ,Eval Time : 0m 0s\n",
      "Epoch:  2  Train_auc : 0.8478280158364416  , Valid_auc :  0.7983108253177602  ,& Test_auc :  0.7929927078473323  Avg Loss:  0.48830202259123323  , Train Time : 0m 1s  ,Eval Time : 0m 0s\n",
      "Epoch:  3  Train_auc : 0.8534698341969263  , Valid_auc :  0.7994214246119734  ,& Test_auc :  0.7939990824017981  Avg Loss:  0.4763740785419941  , Train Time : 0m 1s  ,Eval Time : 0m 0s\n",
      "Epoch:  4  Train_auc : 0.8674788400827407  , Valid_auc :  0.8077923960057461  ,& Test_auc :  0.8018550619318147  Avg Loss:  0.4535710858181119  , Train Time : 0m 1s  ,Eval Time : 0m 0s\n",
      "Epoch:  5  Train_auc : 0.8705081655035047  , Valid_auc :  0.7930930580712656  ,& Test_auc :  0.7836328059670322  Avg Loss:  0.43701784443110225  , Train Time : 0m 1s  ,Eval Time : 0m 0s\n",
      "Epoch:  6  Train_auc : 0.8995679659880719  , Valid_auc :  0.8087363566097249  ,& Test_auc :  0.8053754324057216  Avg Loss:  0.4173786454834044  , Train Time : 0m 1s  ,Eval Time : 0m 0s\n",
      "Epoch:  7  Train_auc : 0.9100069768205309  , Valid_auc :  0.808160562599544  ,& Test_auc :  0.802694010591795  Avg Loss:  0.40771908685564995  , Train Time : 0m 1s  ,Eval Time : 0m 0s\n",
      "Epoch:  8  Train_auc : 0.9207558036172008  , Valid_auc :  0.8113215741232316  ,& Test_auc :  0.8085285089126243  Avg Loss:  0.3935901211574674  , Train Time : 0m 1s  ,Eval Time : 0m 0s\n",
      "Epoch:  9  Train_auc : 0.933141853731905  , Valid_auc :  0.8044344922082384  ,& Test_auc :  0.8003856435054579  Avg Loss:  0.36454762816429137  , Train Time : 0m 1s  ,Eval Time : 0m 0s\n",
      "Epoch:  10  Train_auc : 0.9477304452486952  , Valid_auc :  0.8065339445207833  ,& Test_auc :  0.804124559044097  Avg Loss:  0.3425470493733883  , Train Time : 0m 1s  ,Eval Time : 0m 0s\n",
      "Epoch:  11  Train_auc : 0.9383037857790592  , Valid_auc :  0.7968803675712814  ,& Test_auc :  0.7926191680030621  Avg Loss:  0.32574072303250434  , Train Time : 0m 1s  ,Eval Time : 0m 0s\n",
      "Epoch:  12  Train_auc : 0.9608998124427346  , Valid_auc :  0.7945859748290185  ,& Test_auc :  0.7915750756266585  Avg Loss:  0.3058099917136132  , Train Time : 0m 1s  ,Eval Time : 0m 0s\n",
      "Epoch:  13  Train_auc : 0.9647122715171093  , Valid_auc :  0.7988505102120482  ,& Test_auc :  0.7919400046498434  Avg Loss:  0.2950233742594719  , Train Time : 0m 1s  ,Eval Time : 0m 0s\n",
      "Epoch:  14  Train_auc : 0.9666508137265857  , Valid_auc :  0.793753757299897  ,& Test_auc :  0.793030971425536  Avg Loss:  0.2613208854570985  , Train Time : 0m 1s  ,Eval Time : 0m 0s\n",
      "Epoch:  15  Train_auc : 0.9729440511978676  , Valid_auc :  0.7965922265856782  ,& Test_auc :  0.7886540061723821  Avg Loss:  0.2524840067140758  , Train Time : 0m 1s  ,Eval Time : 0m 0s\n",
      "Epoch:  16  Train_auc : 0.9801995003622063  , Valid_auc :  0.7930564609943475  ,& Test_auc :  0.7905639711845542  Avg Loss:  0.23659793734550477  , Train Time : 0m 1s  ,Eval Time : 0m 0s\n",
      "Epoch:  17  Train_auc : 0.98150686969495  , Valid_auc :  0.7893252670122732  ,& Test_auc :  0.7886236257402426  Avg Loss:  0.21227591710630805  , Train Time : 0m 1s  ,Eval Time : 0m 0s\n",
      "Epoch:  18  Train_auc : 0.980965367210419  , Valid_auc :  0.7854440250148341  ,& Test_auc :  0.7863100436495862  Avg Loss:  0.20384910807479173  , Train Time : 0m 1s  ,Eval Time : 0m 0s\n",
      "Epoch:  19  Train_auc : 0.9830679068902862  , Valid_auc :  0.7921278711626745  ,& Test_auc :  0.7960635570768275  Avg Loss:  0.19797953304369004  , Train Time : 0m 1s  ,Eval Time : 0m 0s\n",
      "bestValidAuc 0.811322 has a TestAuc of 0.808529 at epoch 8 \n"
     ]
    },
    {
     "name": "stderr",
     "output_type": "stream",
     "text": [
      "\r",
      "  0%|          | 0/161 [00:00<?, ?it/s]"
     ]
    },
    {
     "name": "stdout",
     "output_type": "stream",
     "text": [
      " creating the list of training minibatches\n"
     ]
    },
    {
     "name": "stderr",
     "output_type": "stream",
     "text": [
      "100%|██████████| 161/161 [00:14<00:00, 11.02it/s]\n",
      "  0%|          | 0/23 [00:00<?, ?it/s]"
     ]
    },
    {
     "name": "stdout",
     "output_type": "stream",
     "text": [
      " creating the list of valid minibatches\n"
     ]
    },
    {
     "name": "stderr",
     "output_type": "stream",
     "text": [
      "100%|██████████| 23/23 [00:02<00:00, 10.64it/s]\n",
      "  0%|          | 0/46 [00:00<?, ?it/s]"
     ]
    },
    {
     "name": "stdout",
     "output_type": "stream",
     "text": [
      " creating the list of test minibatches\n"
     ]
    },
    {
     "name": "stderr",
     "output_type": "stream",
     "text": [
      "100%|██████████| 46/46 [00:04<00:00, 11.13it/s]\n"
     ]
    },
    {
     "name": "stdout",
     "output_type": "stream",
     "text": [
      "Epoch:  0  Train_auc : 0.7354113900015709  , Valid_auc :  0.7276135680490928  ,& Test_auc :  0.710162458891809  Avg Loss:  0.6379256889224052  , Train Time : 0m 1s  ,Eval Time : 0m 0s\n",
      "Epoch:  1  Train_auc : 0.7694697469901013  , Valid_auc :  0.7568478010524344  ,& Test_auc :  0.7470691999804067  Avg Loss:  0.5843414159491658  , Train Time : 0m 1s  ,Eval Time : 0m 0s\n",
      "Epoch:  2  Train_auc : 0.763564812228724  , Valid_auc :  0.7553761105992942  ,& Test_auc :  0.7431094524226491  Avg Loss:  0.5621282553300262  , Train Time : 0m 1s  ,Eval Time : 0m 0s\n",
      "Epoch:  3  Train_auc : 0.7943703934765155  , Valid_auc :  0.7732018148246464  ,& Test_auc :  0.744181866371281  Avg Loss:  0.5377391595393419  , Train Time : 0m 1s  ,Eval Time : 0m 0s\n",
      "Epoch:  4  Train_auc : 0.8042614826031976  , Valid_auc :  0.7787870167234001  ,& Test_auc :  0.763444639676188  Avg Loss:  0.5228637943975627  , Train Time : 0m 1s  ,Eval Time : 0m 0s\n",
      "Epoch:  5  Train_auc : 0.8231560213875184  , Valid_auc :  0.7930808590456263  ,& Test_auc :  0.7803235501375648  Avg Loss:  0.5143416808918118  , Train Time : 0m 1s  ,Eval Time : 0m 0s\n",
      "Epoch:  6  Train_auc : 0.8335560443699646  , Valid_auc :  0.7978472623434621  ,& Test_auc :  0.7820463840553808  Avg Loss:  0.5023805882781744  , Train Time : 0m 1s  ,Eval Time : 0m 0s\n",
      "Epoch:  7  Train_auc : 0.8294420268439058  , Valid_auc :  0.7961384228318915  ,& Test_auc :  0.7744463700879318  Avg Loss:  0.48647470204159615  , Train Time : 0m 1s  ,Eval Time : 0m 0s\n",
      "Epoch:  8  Train_auc : 0.8412936051036024  , Valid_auc :  0.8003534301708254  ,& Test_auc :  0.7913124285562556  Avg Loss:  0.47933888295665383  , Train Time : 0m 1s  ,Eval Time : 0m 0s\n",
      "Epoch:  9  Train_auc : 0.8520215464201433  , Valid_auc :  0.7949741478248649  ,& Test_auc :  0.7805126320542287  Avg Loss:  0.49623884446918964  , Train Time : 0m 1s  ,Eval Time : 0m 0s\n",
      "Epoch:  10  Train_auc : 0.8428538004349588  , Valid_auc :  0.79837816393929  ,& Test_auc :  0.7803728363184714  Avg Loss:  0.4932729449123144  , Train Time : 0m 1s  ,Eval Time : 0m 0s\n",
      "Epoch:  11  Train_auc : 0.8577076144356695  , Valid_auc :  0.7983254641485273  ,& Test_auc :  0.7877529720840162  Avg Loss:  0.46730290837585925  , Train Time : 0m 1s  ,Eval Time : 0m 0s\n",
      "Epoch:  12  Train_auc : 0.8573498871469272  , Valid_auc :  0.7937039852752881  ,& Test_auc :  0.7856753140372378  Avg Loss:  0.4730811676941812  , Train Time : 0m 1s  ,Eval Time : 0m 0s\n",
      "Epoch:  13  Train_auc : 0.8516182181740001  , Valid_auc :  0.7993575017176229  ,& Test_auc :  0.7645862846440021  Avg Loss:  0.46283053215593095  , Train Time : 0m 1s  ,Eval Time : 0m 0s\n",
      "Epoch:  14  Train_auc : 0.8611034057266175  , Valid_auc :  0.7916145361637675  ,& Test_auc :  0.778541366685791  Avg Loss:  0.4629332760348916  , Train Time : 0m 1s  ,Eval Time : 0m 0s\n",
      "Epoch:  15  Train_auc : 0.8704529555940486  , Valid_auc :  0.79916914876175  ,& Test_auc :  0.7919849151550217  Avg Loss:  0.4559190537780523  , Train Time : 0m 1s  ,Eval Time : 0m 0s\n",
      "Epoch:  16  Train_auc : 0.8738503632720915  , Valid_auc :  0.8067266891258861  ,& Test_auc :  0.7906485503679308  Avg Loss:  0.45864309892058375  , Train Time : 0m 1s  ,Eval Time : 0m 0s\n",
      "Epoch:  17  Train_auc : 0.8737268732813305  , Valid_auc :  0.7992928468817339  ,& Test_auc :  0.7894021495322117  Avg Loss:  0.45789004769176245  , Train Time : 0m 1s  ,Eval Time : 0m 0s\n",
      "Epoch:  18  Train_auc : 0.8740820074091813  , Valid_auc :  0.8008472467287093  ,& Test_auc :  0.783231859169315  Avg Loss:  0.46066554486751554  , Train Time : 0m 1s  ,Eval Time : 0m 0s\n",
      "Epoch:  19  Train_auc : 0.8820359904750572  , Valid_auc :  0.8034363679304206  ,& Test_auc :  0.7927938026234554  Avg Loss:  0.4629394868388772  , Train Time : 0m 1s  ,Eval Time : 0m 0s\n",
      "Epoch:  20  Train_auc : 0.8769975730691505  , Valid_auc :  0.7926753634333719  ,& Test_auc :  0.7813654102913911  Avg Loss:  0.4314445491880179  , Train Time : 0m 1s  ,Eval Time : 0m 0s\n",
      "Epoch:  21  Train_auc : 0.8850647081899191  , Valid_auc :  0.7973905308235221  ,& Test_auc :  0.788977609403197  Avg Loss:  0.4286013224162161  , Train Time : 0m 1s  ,Eval Time : 0m 0s\n",
      "Epoch:  22  Train_auc : 0.8938392655351237  , Valid_auc :  0.8000045380375379  ,& Test_auc :  0.7919161084941005  Avg Loss:  0.44419234795495866  , Train Time : 0m 1s  ,Eval Time : 0m 0s\n",
      "Epoch:  23  Train_auc : 0.8781496157842916  , Valid_auc :  0.7841077437462916  ,& Test_auc :  0.7779342918818568  Avg Loss:  0.43033493617549534  , Train Time : 0m 1s  ,Eval Time : 0m 0s\n",
      "Epoch:  24  Train_auc : 0.8852275319194058  , Valid_auc :  0.7937254555604134  ,& Test_auc :  0.7846115084990473  Avg Loss:  0.4251051194965839  , Train Time : 0m 1s  ,Eval Time : 0m 0s\n",
      "Epoch:  25  Train_auc : 0.8782037449190039  , Valid_auc :  0.7899569325598825  ,& Test_auc :  0.7720054613695763  Avg Loss:  0.43749945871531964  , Train Time : 0m 1s  ,Eval Time : 0m 0s\n",
      "Epoch:  26  Train_auc : 0.9035928229279373  , Valid_auc :  0.7971280077917615  ,& Test_auc :  0.787897314515429  Avg Loss:  0.4228868248872459  , Train Time : 0m 1s  ,Eval Time : 0m 0s\n",
      "Epoch:  27  Train_auc : 0.896594927870511  , Valid_auc :  0.7939894424752506  ,& Test_auc :  0.7780221946645315  Avg Loss:  0.41710224468261003  , Train Time : 0m 1s  ,Eval Time : 0m 0s\n",
      "bestValidAuc 0.806727 has a TestAuc of 0.790649 at epoch 16 \n"
     ]
    },
    {
     "name": "stderr",
     "output_type": "stream",
     "text": [
      "\r",
      "  0%|          | 0/161 [00:00<?, ?it/s]"
     ]
    },
    {
     "name": "stdout",
     "output_type": "stream",
     "text": [
      " creating the list of training minibatches\n"
     ]
    },
    {
     "name": "stderr",
     "output_type": "stream",
     "text": [
      "100%|██████████| 161/161 [00:14<00:00, 11.10it/s]\n",
      "  0%|          | 0/23 [00:00<?, ?it/s]"
     ]
    },
    {
     "name": "stdout",
     "output_type": "stream",
     "text": [
      " creating the list of valid minibatches\n"
     ]
    },
    {
     "name": "stderr",
     "output_type": "stream",
     "text": [
      "100%|██████████| 23/23 [00:02<00:00, 10.69it/s]\n",
      "  0%|          | 0/46 [00:00<?, ?it/s]"
     ]
    },
    {
     "name": "stdout",
     "output_type": "stream",
     "text": [
      " creating the list of test minibatches\n"
     ]
    },
    {
     "name": "stderr",
     "output_type": "stream",
     "text": [
      "100%|██████████| 46/46 [00:04<00:00, 11.19it/s]\n"
     ]
    },
    {
     "name": "stdout",
     "output_type": "stream",
     "text": [
      "Epoch:  0  Train_auc : 0.7275710796060629  , Valid_auc :  0.7159922882639517  ,& Test_auc :  0.71236906122738  Avg Loss:  0.6361971829086542  , Train Time : 0m 1s  ,Eval Time : 0m 0s\n",
      "Epoch:  1  Train_auc : 0.7183895050822036  , Valid_auc :  0.7187409727210269  ,& Test_auc :  0.7077835671021956  Avg Loss:  0.5682652907446027  , Train Time : 0m 1s  ,Eval Time : 0m 0s\n",
      "Epoch:  2  Train_auc : 0.7822890155459847  , Valid_auc :  0.7608676239811373  ,& Test_auc :  0.7540260080691117  Avg Loss:  0.5655416199937463  , Train Time : 0m 1s  ,Eval Time : 0m 0s\n",
      "Epoch:  3  Train_auc : 0.8155010600177321  , Valid_auc :  0.7849929050466881  ,& Test_auc :  0.7777635179930328  Avg Loss:  0.531051566824317  , Train Time : 0m 1s  ,Eval Time : 0m 0s\n",
      "Epoch:  4  Train_auc : 0.8160228158889186  , Valid_auc :  0.7857597357983823  ,& Test_auc :  0.7748706677265116  Avg Loss:  0.524383831396699  , Train Time : 0m 1s  ,Eval Time : 0m 0s\n",
      "Epoch:  5  Train_auc : 0.793551395918341  , Valid_auc :  0.7675287799412884  ,& Test_auc :  0.7598189226925944  Avg Loss:  0.5190064648166299  , Train Time : 0m 1s  ,Eval Time : 0m 0s\n",
      "Epoch:  6  Train_auc : 0.8316969612150694  , Valid_auc :  0.7898486052122045  ,& Test_auc :  0.7819300492692065  Avg Loss:  0.496122039668262  , Train Time : 0m 1s  ,Eval Time : 0m 0s\n",
      "Epoch:  7  Train_auc : 0.8334696767417199  , Valid_auc :  0.7898386020111801  ,& Test_auc :  0.779862757688523  Avg Loss:  0.5164576581679285  , Train Time : 0m 1s  ,Eval Time : 0m 0s\n",
      "Epoch:  8  Train_auc : 0.8231498582919384  , Valid_auc :  0.7845522762405921  ,& Test_auc :  0.7757512111184774  Avg Loss:  0.4884765287861228  , Train Time : 0m 1s  ,Eval Time : 0m 0s\n",
      "Epoch:  9  Train_auc : 0.8359958815250138  , Valid_auc :  0.7952273995971393  ,& Test_auc :  0.7781245256280866  Avg Loss:  0.47861437331885104  , Train Time : 0m 1s  ,Eval Time : 0m 0s\n",
      "Epoch:  10  Train_auc : 0.8560849799549655  , Valid_auc :  0.8029581661253553  ,& Test_auc :  0.79193635644542  Avg Loss:  0.4738249255344272  , Train Time : 0m 1s  ,Eval Time : 0m 0s\n",
      "Epoch:  11  Train_auc : 0.8546710974051621  , Valid_auc :  0.7983518140439086  ,& Test_auc :  0.7881855750199933  Avg Loss:  0.46880335044115784  , Train Time : 0m 1s  ,Eval Time : 0m 0s\n",
      "Epoch:  12  Train_auc : 0.817024480063556  , Valid_auc :  0.7728985470472503  ,& Test_auc :  0.7633252131369678  Avg Loss:  0.5050272707827389  , Train Time : 0m 1s  ,Eval Time : 0m 0s\n",
      "Epoch:  13  Train_auc : 0.8621240500540146  , Valid_auc :  0.7960945063395897  ,& Test_auc :  0.7858309928964852  Avg Loss:  0.4791095288470387  , Train Time : 0m 1s  ,Eval Time : 0m 0s\n",
      "Epoch:  14  Train_auc : 0.8251561863779999  , Valid_auc :  0.7679703846694357  ,& Test_auc :  0.7563136022099609  Avg Loss:  0.4646638346835971  , Train Time : 0m 1s  ,Eval Time : 0m 0s\n",
      "Epoch:  15  Train_auc : 0.8719103665558363  , Valid_auc :  0.7986689887105337  ,& Test_auc :  0.7874941741672999  Avg Loss:  0.4604877336882055  , Train Time : 0m 1s  ,Eval Time : 0m 0s\n",
      "Epoch:  16  Train_auc : 0.8537496179302191  , Valid_auc :  0.7857253345460791  ,& Test_auc :  0.7794744698795356  Avg Loss:  0.45642791381105785  , Train Time : 0m 0s  ,Eval Time : 0m 0s\n",
      "Epoch:  17  Train_auc : 0.8247280966681988  , Valid_auc :  0.7805173265200962  ,& Test_auc :  0.7706518797616029  Avg Loss:  0.49154287641867994  , Train Time : 0m 0s  ,Eval Time : 0m 0s\n",
      "Epoch:  18  Train_auc : 0.8667683417120858  , Valid_auc :  0.7966771318041286  ,& Test_auc :  0.7830946702057338  Avg Loss:  0.482893200404942  , Train Time : 0m 0s  ,Eval Time : 0m 0s\n",
      "Epoch:  19  Train_auc : 0.8772365901130202  , Valid_auc :  0.7891888819056243  ,& Test_auc :  0.7788661220008177  Avg Loss:  0.45062682116404174  , Train Time : 0m 1s  ,Eval Time : 0m 0s\n",
      "Epoch:  20  Train_auc : 0.8675029747720351  , Valid_auc :  0.7888009528902907  ,& Test_auc :  0.7803770799010833  Avg Loss:  0.4494639126583934  , Train Time : 0m 1s  ,Eval Time : 0m 0s\n",
      "Epoch:  21  Train_auc : 0.8762578478940276  , Valid_auc :  0.7868998567346429  ,& Test_auc :  0.7887180233925672  Avg Loss:  0.4326288906857372  , Train Time : 0m 1s  ,Eval Time : 0m 0s\n",
      "bestValidAuc 0.802958 has a TestAuc of 0.791936 at epoch 10 \n"
     ]
    },
    {
     "name": "stderr",
     "output_type": "stream",
     "text": [
      "\r",
      "  0%|          | 0/161 [00:00<?, ?it/s]"
     ]
    },
    {
     "name": "stdout",
     "output_type": "stream",
     "text": [
      " creating the list of training minibatches\n"
     ]
    },
    {
     "name": "stderr",
     "output_type": "stream",
     "text": [
      "100%|██████████| 161/161 [00:13<00:00, 11.50it/s]\n",
      "  0%|          | 0/23 [00:00<?, ?it/s]"
     ]
    },
    {
     "name": "stdout",
     "output_type": "stream",
     "text": [
      " creating the list of valid minibatches\n"
     ]
    },
    {
     "name": "stderr",
     "output_type": "stream",
     "text": [
      "100%|██████████| 23/23 [00:02<00:00, 10.83it/s]\n",
      "  0%|          | 0/46 [00:00<?, ?it/s]"
     ]
    },
    {
     "name": "stdout",
     "output_type": "stream",
     "text": [
      " creating the list of test minibatches\n"
     ]
    },
    {
     "name": "stderr",
     "output_type": "stream",
     "text": [
      "100%|██████████| 46/46 [00:04<00:00, 11.21it/s]\n"
     ]
    },
    {
     "name": "stdout",
     "output_type": "stream",
     "text": [
      "Epoch:  0  Train_auc : 0.7421797878409631  , Valid_auc :  0.7287876022766309  ,& Test_auc :  0.7180898955690693  Avg Loss:  0.642205135524273  , Train Time : 0m 1s  ,Eval Time : 0m 0s\n",
      "Epoch:  1  Train_auc : 0.7858860371137748  , Valid_auc :  0.7683958866837388  ,& Test_auc :  0.7557418703869225  Avg Loss:  0.565887920372188  , Train Time : 0m 0s  ,Eval Time : 0m 0s\n",
      "Epoch:  2  Train_auc : 0.7849044538217593  , Valid_auc :  0.7663776798819525  ,& Test_auc :  0.7477233179287244  Avg Loss:  0.5420461770147085  , Train Time : 0m 0s  ,Eval Time : 0m 0s\n",
      "Epoch:  3  Train_auc : 0.798485992681971  , Valid_auc :  0.7735960873333124  ,& Test_auc :  0.759176747398199  Avg Loss:  0.5443946648389101  , Train Time : 0m 1s  ,Eval Time : 0m 0s\n",
      "Epoch:  4  Train_auc : 0.8276606889333342  , Valid_auc :  0.7926729236282439  ,& Test_auc :  0.7868156859302685  Avg Loss:  0.5183743003755809  , Train Time : 0m 1s  ,Eval Time : 0m 0s\n",
      "Epoch:  5  Train_auc : 0.8293715156755682  , Valid_auc :  0.790511256284938  ,& Test_auc :  0.7768373257766847  Avg Loss:  0.4975071473047138  , Train Time : 0m 1s  ,Eval Time : 0m 0s\n",
      "Epoch:  6  Train_auc : 0.836568880833706  , Valid_auc :  0.7946964980013117  ,& Test_auc :  0.7822591694120625  Avg Loss:  0.5055296343751252  , Train Time : 0m 1s  ,Eval Time : 0m 0s\n",
      "Epoch:  7  Train_auc : 0.8389388067677751  , Valid_auc :  0.7932008974579181  ,& Test_auc :  0.7840483244638415  Avg Loss:  0.49100085627287626  , Train Time : 0m 1s  ,Eval Time : 0m 0s\n",
      "Epoch:  8  Train_auc : 0.8226757709653265  , Valid_auc :  0.7831079116048842  ,& Test_auc :  0.7619678729272523  Avg Loss:  0.49683895772323017  , Train Time : 0m 1s  ,Eval Time : 0m 0s\n",
      "Epoch:  9  Train_auc : 0.809410815896574  , Valid_auc :  0.7674502182161705  ,& Test_auc :  0.7527308666559648  Avg Loss:  0.4824731259606778  , Train Time : 0m 1s  ,Eval Time : 0m 0s\n",
      "Epoch:  10  Train_auc : 0.8610532332695182  , Valid_auc :  0.8043571503856843  ,& Test_auc :  0.7981618133822711  Avg Loss:  0.4751506121829152  , Train Time : 0m 1s  ,Eval Time : 0m 0s\n",
      "Epoch:  11  Train_auc : 0.8515325248667519  , Valid_auc :  0.7963850871303209  ,& Test_auc :  0.7828803692838335  Avg Loss:  0.475252921320498  , Train Time : 0m 0s  ,Eval Time : 0m 0s\n",
      "Epoch:  12  Train_auc : 0.8524002470751798  , Valid_auc :  0.7923738035195652  ,& Test_auc :  0.7793491629472674  Avg Loss:  0.47595425928011537  , Train Time : 0m 1s  ,Eval Time : 0m 0s\n",
      "Epoch:  13  Train_auc : 0.8557539627192314  , Valid_auc :  0.7857614436619718  ,& Test_auc :  0.7801601115843986  Avg Loss:  0.4555606574751436  , Train Time : 0m 1s  ,Eval Time : 0m 0s\n",
      "Epoch:  14  Train_auc : 0.8586803423063609  , Valid_auc :  0.7891142238687112  ,& Test_auc :  0.776041775282174  Avg Loss:  0.45154358353465796  , Train Time : 0m 1s  ,Eval Time : 0m 0s\n",
      "Epoch:  15  Train_auc : 0.8763850466502703  , Valid_auc :  0.7985757881546486  ,& Test_auc :  0.7902391052684927  Avg Loss:  0.4621695127338171  , Train Time : 0m 1s  ,Eval Time : 0m 0s\n",
      "Epoch:  16  Train_auc : 0.8644795227108386  , Valid_auc :  0.7978379910839761  ,& Test_auc :  0.774325912964363  Avg Loss:  0.454406170360744  , Train Time : 0m 1s  ,Eval Time : 0m 0s\n",
      "Epoch:  17  Train_auc : 0.8529268719406218  , Valid_auc :  0.7848177270385059  ,& Test_auc :  0.7707109261825167  Avg Loss:  0.45799661949276926  , Train Time : 0m 1s  ,Eval Time : 0m 0s\n",
      "Epoch:  18  Train_auc : 0.8709836363019557  , Valid_auc :  0.7957775756534774  ,& Test_auc :  0.7835952310861098  Avg Loss:  0.44475219435989854  , Train Time : 0m 1s  ,Eval Time : 0m 0s\n",
      "Epoch:  19  Train_auc : 0.8829287716417002  , Valid_auc :  0.798446966443896  ,& Test_auc :  0.7900032833204893  Avg Loss:  0.4360626536421478  , Train Time : 0m 1s  ,Eval Time : 0m 0s\n",
      "Epoch:  20  Train_auc : 0.885994904255393  , Valid_auc :  0.7980429347147184  ,& Test_auc :  0.788619026672493  Avg Loss:  0.41927136005833743  , Train Time : 0m 1s  ,Eval Time : 0m 0s\n",
      "Epoch:  21  Train_auc : 0.886091713942601  , Valid_auc :  0.7872597279910059  ,& Test_auc :  0.7794741061438831  Avg Loss:  0.4333862922154367  , Train Time : 0m 1s  ,Eval Time : 0m 0s\n",
      "bestValidAuc 0.804357 has a TestAuc of 0.798162 at epoch 10 \n"
     ]
    },
    {
     "name": "stderr",
     "output_type": "stream",
     "text": [
      "\r",
      "  0%|          | 0/161 [00:00<?, ?it/s]"
     ]
    },
    {
     "name": "stdout",
     "output_type": "stream",
     "text": [
      " creating the list of training minibatches\n"
     ]
    },
    {
     "name": "stderr",
     "output_type": "stream",
     "text": [
      "100%|██████████| 161/161 [00:14<00:00, 11.35it/s]\n",
      "  0%|          | 0/23 [00:00<?, ?it/s]"
     ]
    },
    {
     "name": "stdout",
     "output_type": "stream",
     "text": [
      " creating the list of valid minibatches\n"
     ]
    },
    {
     "name": "stderr",
     "output_type": "stream",
     "text": [
      "100%|██████████| 23/23 [00:02<00:00, 11.01it/s]\n",
      "  0%|          | 0/46 [00:00<?, ?it/s]"
     ]
    },
    {
     "name": "stdout",
     "output_type": "stream",
     "text": [
      " creating the list of test minibatches\n"
     ]
    },
    {
     "name": "stderr",
     "output_type": "stream",
     "text": [
      "100%|██████████| 46/46 [00:03<00:00, 11.60it/s]\n"
     ]
    },
    {
     "name": "stdout",
     "output_type": "stream",
     "text": [
      "Epoch:  0  Train_auc : 0.7122521874055857  , Valid_auc :  0.6989917261328502  ,& Test_auc :  0.6971901299603236  Avg Loss:  0.6468173664063215  , Train Time : 0m 1s  ,Eval Time : 0m 0s\n",
      "Epoch:  1  Train_auc : 0.7291827167046299  , Valid_auc :  0.7200643230223915  ,& Test_auc :  0.7127531054537554  Avg Loss:  0.5790062705054879  , Train Time : 0m 1s  ,Eval Time : 0m 0s\n",
      "Epoch:  2  Train_auc : 0.7723507289077772  , Valid_auc :  0.7565642956965741  ,& Test_auc :  0.7449430438466356  Avg Loss:  0.5543022295460105  , Train Time : 0m 1s  ,Eval Time : 0m 0s\n",
      "Epoch:  3  Train_auc : 0.8075902037461882  , Valid_auc :  0.7847552680272323  ,& Test_auc :  0.7738837922788137  Avg Loss:  0.5290396768599749  , Train Time : 0m 1s  ,Eval Time : 0m 0s\n",
      "Epoch:  4  Train_auc : 0.8243022183346075  , Valid_auc :  0.793719112067081  ,& Test_auc :  0.7881450184947454  Avg Loss:  0.5094143941998481  , Train Time : 0m 1s  ,Eval Time : 0m 0s\n",
      "Epoch:  5  Train_auc : 0.8306961647328908  , Valid_auc :  0.7965878349364479  ,& Test_auc :  0.7886870452395005  Avg Loss:  0.5197090303525329  , Train Time : 0m 1s  ,Eval Time : 0m 0s\n",
      "Epoch:  6  Train_auc : 0.8349295965742749  , Valid_auc :  0.7986680127884825  ,& Test_auc :  0.7858295985764842  Avg Loss:  0.5029807018116117  , Train Time : 0m 1s  ,Eval Time : 0m 0s\n",
      "Epoch:  7  Train_auc : 0.7830851308144556  , Valid_auc :  0.7623334589019706  ,& Test_auc :  0.7395174416095158  Avg Loss:  0.5179590057581662  , Train Time : 0m 1s  ,Eval Time : 0m 0s\n",
      "Epoch:  8  Train_auc : 0.844335834029611  , Valid_auc :  0.79433150315418  ,& Test_auc :  0.7805884103151551  Avg Loss:  0.5046246018260717  , Train Time : 0m 1s  ,Eval Time : 0m 0s\n",
      "Epoch:  9  Train_auc : 0.8375315484301158  , Valid_auc :  0.7948555732956497  ,& Test_auc :  0.7765988364338968  Avg Loss:  0.4976225461810827  , Train Time : 0m 1s  ,Eval Time : 0m 0s\n",
      "Epoch:  10  Train_auc : 0.8437238877251176  , Valid_auc :  0.7900940496080697  ,& Test_auc :  0.7796667041718539  Avg Loss:  0.4755098279565573  , Train Time : 0m 1s  ,Eval Time : 0m 0s\n",
      "Epoch:  11  Train_auc : 0.8578443478924755  , Valid_auc :  0.7979316796008868  ,& Test_auc :  0.7915550402364379  Avg Loss:  0.4921961477957666  , Train Time : 0m 1s  ,Eval Time : 0m 0s\n",
      "Epoch:  12  Train_auc : 0.823920220448227  , Valid_auc :  0.773251830829768  ,& Test_auc :  0.7577416890040772  Avg Loss:  0.4727280117571354  , Train Time : 0m 1s  ,Eval Time : 0m 0s\n",
      "Epoch:  13  Train_auc : 0.8484617017555383  , Valid_auc :  0.7875073682114861  ,& Test_auc :  0.7733031489322904  Avg Loss:  0.4741464960388839  , Train Time : 0m 1s  ,Eval Time : 0m 0s\n",
      "Epoch:  14  Train_auc : 0.8520149866651534  , Valid_auc :  0.7807610630523718  ,& Test_auc :  0.7721932702114565  Avg Loss:  0.4659360026940703  , Train Time : 0m 1s  ,Eval Time : 0m 0s\n",
      "Epoch:  15  Train_auc : 0.8730962294439072  , Valid_auc :  0.801133679850723  ,& Test_auc :  0.796331738069592  Avg Loss:  0.45795154413208367  , Train Time : 0m 0s  ,Eval Time : 0m 0s\n",
      "Epoch:  16  Train_auc : 0.8639954643583124  , Valid_auc :  0.7964253439149309  ,& Test_auc :  0.7832904812319678  Avg Loss:  0.4616727726534009  , Train Time : 0m 0s  ,Eval Time : 0m 0s\n",
      "Epoch:  17  Train_auc : 0.8818798405401407  , Valid_auc :  0.8003173210549327  ,& Test_auc :  0.7905529485139459  Avg Loss:  0.4512020151130855  , Train Time : 0m 1s  ,Eval Time : 0m 0s\n",
      "Epoch:  18  Train_auc : 0.854864632489454  , Valid_auc :  0.7851309980169263  ,& Test_auc :  0.7692984800214555  Avg Loss:  0.4503091408405453  , Train Time : 0m 1s  ,Eval Time : 0m 0s\n",
      "Epoch:  19  Train_auc : 0.8770189183036412  , Valid_auc :  0.7960520537303646  ,& Test_auc :  0.784511541817233  Avg Loss:  0.44442741647362705  , Train Time : 0m 1s  ,Eval Time : 0m 0s\n",
      "Epoch:  20  Train_auc : 0.8726978792733567  , Valid_auc :  0.7856555561194216  ,& Test_auc :  0.7715610976475034  Avg Loss:  0.43944325726479294  , Train Time : 0m 1s  ,Eval Time : 0m 0s\n",
      "Epoch:  21  Train_auc : 0.8770468282513644  , Valid_auc :  0.7991559738140596  ,& Test_auc :  0.7888116853230726  Avg Loss:  0.4369359876960516  , Train Time : 0m 1s  ,Eval Time : 0m 0s\n",
      "Epoch:  22  Train_auc : 0.8944596458103181  , Valid_auc :  0.7976403668686175  ,& Test_auc :  0.7859886116792124  Avg Loss:  0.4210381519980728  , Train Time : 0m 1s  ,Eval Time : 0m 0s\n",
      "Epoch:  23  Train_auc : 0.893704669080888  , Valid_auc :  0.7871535964679428  ,& Test_auc :  0.7747503924707689  Avg Loss:  0.41987887406721713  , Train Time : 0m 1s  ,Eval Time : 0m 0s\n",
      "Epoch:  24  Train_auc : 0.8866783484185056  , Valid_auc :  0.7960535176134411  ,& Test_auc :  0.7802335255635842  Avg Loss:  0.43875679932534695  , Train Time : 0m 1s  ,Eval Time : 0m 0s\n",
      "Epoch:  25  Train_auc : 0.8982994873940697  , Valid_auc :  0.7913122443084226  ,& Test_auc :  0.7867522746815252  Avg Loss:  0.41776018775999546  , Train Time : 0m 1s  ,Eval Time : 0m 0s\n",
      "Epoch:  26  Train_auc : 0.8942514938267747  , Valid_auc :  0.7909801868305174  ,& Test_auc :  0.7746769178689746  Avg Loss:  0.4049868510104716  , Train Time : 0m 1s  ,Eval Time : 0m 0s\n",
      "bestValidAuc 0.801134 has a TestAuc of 0.796332 at epoch 15 \n"
     ]
    },
    {
     "name": "stderr",
     "output_type": "stream",
     "text": [
      "\r",
      "  0%|          | 0/161 [00:00<?, ?it/s]"
     ]
    },
    {
     "name": "stdout",
     "output_type": "stream",
     "text": [
      " creating the list of training minibatches\n"
     ]
    },
    {
     "name": "stderr",
     "output_type": "stream",
     "text": [
      "100%|██████████| 161/161 [00:14<00:00, 11.38it/s]\n",
      "  0%|          | 0/23 [00:00<?, ?it/s]"
     ]
    },
    {
     "name": "stdout",
     "output_type": "stream",
     "text": [
      " creating the list of valid minibatches\n"
     ]
    },
    {
     "name": "stderr",
     "output_type": "stream",
     "text": [
      "100%|██████████| 23/23 [00:02<00:00, 10.65it/s]\n",
      "  0%|          | 0/46 [00:00<?, ?it/s]"
     ]
    },
    {
     "name": "stdout",
     "output_type": "stream",
     "text": [
      " creating the list of test minibatches\n"
     ]
    },
    {
     "name": "stderr",
     "output_type": "stream",
     "text": [
      "100%|██████████| 46/46 [00:04<00:00, 11.39it/s]\n"
     ]
    },
    {
     "name": "stdout",
     "output_type": "stream",
     "text": [
      "Epoch:  0  Train_auc : 0.7211206984902478  , Valid_auc :  0.7144588707410762  ,& Test_auc :  0.7071872225000085  Avg Loss:  0.6305149031803012  , Train Time : 0m 1s  ,Eval Time : 0m 0s\n",
      "Epoch:  1  Train_auc : 0.7159868150808836  , Valid_auc :  0.7113717853127635  ,& Test_auc :  0.7083167429460745  Avg Loss:  0.594906260818243  , Train Time : 0m 1s  ,Eval Time : 0m 0s\n",
      "Epoch:  2  Train_auc : 0.747733644316955  , Valid_auc :  0.7414077382811279  ,& Test_auc :  0.7143508143071297  Avg Loss:  0.5531099367886783  , Train Time : 0m 1s  ,Eval Time : 0m 0s\n",
      "Epoch:  3  Train_auc : 0.7970251555745309  , Valid_auc :  0.7729114780144282  ,& Test_auc :  0.7546093188104196  Avg Loss:  0.5453012606129051  , Train Time : 0m 1s  ,Eval Time : 0m 0s\n",
      "Epoch:  4  Train_auc : 0.8117763339529517  , Valid_auc :  0.7818899608850443  ,& Test_auc :  0.7774303967579999  Avg Loss:  0.5185868328437209  , Train Time : 0m 1s  ,Eval Time : 0m 0s\n",
      "Epoch:  5  Train_auc : 0.8248590835218053  , Valid_auc :  0.7881422055057619  ,& Test_auc :  0.7717818851885387  Avg Loss:  0.5147838596254587  , Train Time : 0m 1s  ,Eval Time : 0m 0s\n",
      "Epoch:  6  Train_auc : 0.80474912576514  , Valid_auc :  0.7791871447643733  ,& Test_auc :  0.7725336055369296  Avg Loss:  0.5005842396058142  , Train Time : 0m 1s  ,Eval Time : 0m 0s\n",
      "Epoch:  7  Train_auc : 0.8022710456847418  , Valid_auc :  0.7722776166422035  ,& Test_auc :  0.7512664669192122  Avg Loss:  0.5255361013114452  , Train Time : 0m 1s  ,Eval Time : 0m 0s\n",
      "Epoch:  8  Train_auc : 0.8385816149692359  , Valid_auc :  0.7971763159332936  ,& Test_auc :  0.780525423424673  Avg Loss:  0.5047498112544417  , Train Time : 0m 1s  ,Eval Time : 0m 0s\n",
      "Epoch:  9  Train_auc : 0.8475912624301529  , Valid_auc :  0.8008692049748601  ,& Test_auc :  0.7885877454063825  Avg Loss:  0.49274211339652535  , Train Time : 0m 1s  ,Eval Time : 0m 0s\n",
      "Epoch:  10  Train_auc : 0.8521226945696463  , Valid_auc :  0.8025180252802848  ,& Test_auc :  0.789386387653939  Avg Loss:  0.48048806125298144  , Train Time : 0m 1s  ,Eval Time : 0m 0s\n",
      "Epoch:  11  Train_auc : 0.8550500410140872  , Valid_auc :  0.8005969227225884  ,& Test_auc :  0.7942513520054202  Avg Loss:  0.477481384575367  , Train Time : 0m 1s  ,Eval Time : 0m 0s\n",
      "Epoch:  12  Train_auc : 0.836185692969096  , Valid_auc :  0.7867998247243996  ,& Test_auc :  0.7740554148841599  Avg Loss:  0.4850355574861168  , Train Time : 0m 1s  ,Eval Time : 0m 0s\n",
      "Epoch:  13  Train_auc : 0.8555680534120935  , Valid_auc :  0.7998874273913993  ,& Test_auc :  0.7829466904177964  Avg Loss:  0.47849943386390803  , Train Time : 0m 1s  ,Eval Time : 0m 0s\n",
      "Epoch:  14  Train_auc : 0.8304456495243792  , Valid_auc :  0.7860615396927015  ,& Test_auc :  0.7640182508000972  Avg Loss:  0.4784193703904748  , Train Time : 0m 1s  ,Eval Time : 0m 0s\n",
      "Epoch:  15  Train_auc : 0.8460824592835811  , Valid_auc :  0.7930896423440866  ,& Test_auc :  0.7736613679273422  Avg Loss:  0.48810979761183265  , Train Time : 0m 1s  ,Eval Time : 0m 0s\n",
      "Epoch:  16  Train_auc : 0.8309754972475258  , Valid_auc :  0.7765077507729302  ,& Test_auc :  0.7644926833361058  Avg Loss:  0.45779667068272833  , Train Time : 0m 1s  ,Eval Time : 0m 0s\n",
      "Epoch:  17  Train_auc : 0.8731893601150891  , Valid_auc :  0.8027029625089785  ,& Test_auc :  0.790880856204627  Avg Loss:  0.45090904701501133  , Train Time : 0m 1s  ,Eval Time : 0m 0s\n",
      "Epoch:  18  Train_auc : 0.8287566985485965  , Valid_auc :  0.7719433633396833  ,& Test_auc :  0.7501643478922974  Avg Loss:  0.46083120387047527  , Train Time : 0m 1s  ,Eval Time : 0m 0s\n",
      "Epoch:  19  Train_auc : 0.885842016844122  , Valid_auc :  0.7986714285156615  ,& Test_auc :  0.79496748688248  Avg Loss:  0.4425924529321492  , Train Time : 0m 1s  ,Eval Time : 0m 0s\n",
      "Epoch:  20  Train_auc : 0.863019389673851  , Valid_auc :  0.7884657236657194  ,& Test_auc :  0.7785845299832148  Avg Loss:  0.4605028399266302  , Train Time : 0m 1s  ,Eval Time : 0m 0s\n",
      "Epoch:  21  Train_auc : 0.8738678262026085  , Valid_auc :  0.7980429347147187  ,& Test_auc :  0.7903790222494673  Avg Loss:  0.44700202280655504  , Train Time : 0m 1s  ,Eval Time : 0m 0s\n",
      "Epoch:  22  Train_auc : 0.8826565740381993  , Valid_auc :  0.8006198568907905  ,& Test_auc :  0.7866072047788074  Avg Loss:  0.4230498933233321  , Train Time : 0m 1s  ,Eval Time : 0m 0s\n",
      "Epoch:  23  Train_auc : 0.8791527228075322  , Valid_auc :  0.79164625363043  ,& Test_auc :  0.7823558624730049  Avg Loss:  0.43284309068694715  , Train Time : 0m 1s  ,Eval Time : 0m 0s\n",
      "Epoch:  24  Train_auc : 0.88194699001998  , Valid_auc :  0.7903829225352113  ,& Test_auc :  0.7801655676191852  Avg Loss:  0.42985085742548107  , Train Time : 0m 1s  ,Eval Time : 0m 0s\n",
      "Epoch:  25  Train_auc : 0.871070747666594  , Valid_auc :  0.7867949451141438  ,& Test_auc :  0.7799221072224806  Avg Loss:  0.4256587736774236  , Train Time : 0m 1s  ,Eval Time : 0m 0s\n",
      "Epoch:  26  Train_auc : 0.8886209531703801  , Valid_auc :  0.7940548292526779  ,& Test_auc :  0.779674888224034  Avg Loss:  0.42939659561961885  , Train Time : 0m 1s  ,Eval Time : 0m 0s\n",
      "Epoch:  27  Train_auc : 0.8942559959110763  , Valid_auc :  0.7916169759688954  ,& Test_auc :  0.7793962060916506  Avg Loss:  0.42725113667547704  , Train Time : 0m 1s  ,Eval Time : 0m 0s\n",
      "Epoch:  28  Train_auc : 0.8741675718021211  , Valid_auc :  0.7931794271727929  ,& Test_auc :  0.7741582308285849  Avg Loss:  0.44191269986331466  , Train Time : 0m 1s  ,Eval Time : 0m 0s\n",
      "bestValidAuc 0.802703 has a TestAuc of 0.790881 at epoch 17 \n"
     ]
    },
    {
     "name": "stderr",
     "output_type": "stream",
     "text": [
      "\r",
      "  0%|          | 0/161 [00:00<?, ?it/s]"
     ]
    },
    {
     "name": "stdout",
     "output_type": "stream",
     "text": [
      " creating the list of training minibatches\n"
     ]
    },
    {
     "name": "stderr",
     "output_type": "stream",
     "text": [
      "100%|██████████| 161/161 [00:14<00:00, 11.35it/s]\n",
      "  0%|          | 0/23 [00:00<?, ?it/s]"
     ]
    },
    {
     "name": "stdout",
     "output_type": "stream",
     "text": [
      " creating the list of valid minibatches\n"
     ]
    },
    {
     "name": "stderr",
     "output_type": "stream",
     "text": [
      "100%|██████████| 23/23 [00:02<00:00, 10.78it/s]\n",
      "  0%|          | 0/46 [00:00<?, ?it/s]"
     ]
    },
    {
     "name": "stdout",
     "output_type": "stream",
     "text": [
      " creating the list of test minibatches\n"
     ]
    },
    {
     "name": "stderr",
     "output_type": "stream",
     "text": [
      "100%|██████████| 46/46 [00:04<00:00, 11.45it/s]\n"
     ]
    },
    {
     "name": "stdout",
     "output_type": "stream",
     "text": [
      "Epoch:  0  Train_auc : 0.7314309078658265  , Valid_auc :  0.7249278305643172  ,& Test_auc :  0.7186538676981887  Avg Loss:  0.6327004246413708  , Train Time : 0m 1s  ,Eval Time : 0m 0s\n",
      "Epoch:  1  Train_auc : 0.7482042658319737  , Valid_auc :  0.7348612531619875  ,& Test_auc :  0.7222450904174085  Avg Loss:  0.5811378996819258  , Train Time : 0m 1s  ,Eval Time : 0m 0s\n",
      "Epoch:  2  Train_auc : 0.7937777049863688  , Valid_auc :  0.7738725172543018  ,& Test_auc :  0.7686242959896447  Avg Loss:  0.5552488459274172  , Train Time : 0m 1s  ,Eval Time : 0m 0s\n",
      "Epoch:  3  Train_auc : 0.8159423832770931  , Valid_auc :  0.7916662600324786  ,& Test_auc :  0.7807058969308954  Avg Loss:  0.5204123882576823  , Train Time : 0m 1s  ,Eval Time : 0m 0s\n",
      "Epoch:  4  Train_auc : 0.8306798471564196  , Valid_auc :  0.7942973458823898  ,& Test_auc :  0.7911756639509354  Avg Loss:  0.5124167051166296  , Train Time : 0m 1s  ,Eval Time : 0m 0s\n",
      "Epoch:  5  Train_auc : 0.830180735579291  , Valid_auc :  0.7939782193716625  ,& Test_auc :  0.7768846720341116  Avg Loss:  0.4951905105262995  , Train Time : 0m 1s  ,Eval Time : 0m 0s\n",
      "Epoch:  6  Train_auc : 0.852456146302508  , Valid_auc :  0.806165045985447  ,& Test_auc :  0.8001831530255289  Avg Loss:  0.4867450927384198  , Train Time : 0m 1s  ,Eval Time : 0m 0s\n",
      "Epoch:  7  Train_auc : 0.8320909977145378  , Valid_auc :  0.7947535894413041  ,& Test_auc :  0.7697647285052842  Avg Loss:  0.4830864853225648  , Train Time : 0m 1s  ,Eval Time : 0m 0s\n",
      "Epoch:  8  Train_auc : 0.8441483529595616  , Valid_auc :  0.7919590366478249  ,& Test_auc :  0.7861928492480614  Avg Loss:  0.4856478238478303  , Train Time : 0m 1s  ,Eval Time : 0m 0s\n",
      "Epoch:  9  Train_auc : 0.854667839839759  , Valid_auc :  0.8026722209643672  ,& Test_auc :  0.78739929978462  Avg Loss:  0.4704162904992699  , Train Time : 0m 1s  ,Eval Time : 0m 0s\n",
      "Epoch:  10  Train_auc : 0.8473508124541654  , Valid_auc :  0.7980121931701072  ,& Test_auc :  0.77950459931608  Avg Loss:  0.4875349953770638  , Train Time : 0m 1s  ,Eval Time : 0m 0s\n",
      "Epoch:  11  Train_auc : 0.85168661713098  , Valid_auc :  0.7965370869897879  ,& Test_auc :  0.779329157486383  Avg Loss:  0.4690717233344912  , Train Time : 0m 1s  ,Eval Time : 0m 0s\n",
      "Epoch:  12  Train_auc : 0.8352976617988855  , Valid_auc :  0.7858595238281127  ,& Test_auc :  0.7602006632598377  Avg Loss:  0.4596693951636553  , Train Time : 0m 1s  ,Eval Time : 0m 0s\n",
      "Epoch:  13  Train_auc : 0.8792014524160282  , Valid_auc :  0.8062967954623529  ,& Test_auc :  0.7953235234636171  Avg Loss:  0.4508540890179574  , Train Time : 0m 1s  ,Eval Time : 0m 0s\n",
      "Epoch:  14  Train_auc : 0.8811799498862485  , Valid_auc :  0.8073049229411948  ,& Test_auc :  0.7932639915768521  Avg Loss:  0.44423673525452617  , Train Time : 0m 1s  ,Eval Time : 0m 0s\n",
      "Epoch:  15  Train_auc : 0.8755243304386683  , Valid_auc :  0.7986650850223291  ,& Test_auc :  0.7797321159666857  Avg Loss:  0.4548962080851197  , Train Time : 0m 1s  ,Eval Time : 0m 0s\n",
      "Epoch:  16  Train_auc : 0.8700427800148431  , Valid_auc :  0.7859810261234814  ,& Test_auc :  0.7837730371975478  Avg Loss:  0.44116602423600854  , Train Time : 0m 1s  ,Eval Time : 0m 0s\n",
      "Epoch:  17  Train_auc : 0.8871332175967117  , Valid_auc :  0.7983127771618626  ,& Test_auc :  0.7978070498759176  Avg Loss:  0.43578497916460035  , Train Time : 0m 1s  ,Eval Time : 0m 0s\n",
      "Epoch:  18  Train_auc : 0.8926049159924456  , Valid_auc :  0.8002309519534055  ,& Test_auc :  0.7888750965718158  Avg Loss:  0.43246627869084475  , Train Time : 0m 1s  ,Eval Time : 0m 0s\n",
      "Epoch:  19  Train_auc : 0.8631467123861591  , Valid_auc :  0.7849397172949002  ,& Test_auc :  0.764898612324237  Avg Loss:  0.4428377004340291  , Train Time : 0m 1s  ,Eval Time : 0m 0s\n",
      "Epoch:  20  Train_auc : 0.8829942948179591  , Valid_auc :  0.7819309496111926  ,& Test_auc :  0.7746040494932678  Avg Loss:  0.43201806386932734  , Train Time : 0m 1s  ,Eval Time : 0m 0s\n",
      "Epoch:  21  Train_auc : 0.8888131396126785  , Valid_auc :  0.7870755227038506  ,& Test_auc :  0.7782332219655596  Avg Loss:  0.4151564476080239  , Train Time : 0m 1s  ,Eval Time : 0m 0s\n",
      "Epoch:  22  Train_auc : 0.8928908330532837  , Valid_auc :  0.7913007772243216  ,& Test_auc :  0.783144259499684  Avg Loss:  0.4430487792007625  , Train Time : 0m 1s  ,Eval Time : 0m 0s\n",
      "Epoch:  23  Train_auc : 0.903783809475521  , Valid_auc :  0.7955875148340151  ,& Test_auc :  0.78558274331369  Avg Loss:  0.41987064774148164  , Train Time : 0m 1s  ,Eval Time : 0m 0s\n",
      "Epoch:  24  Train_auc : 0.8863155835552585  , Valid_auc :  0.7777217978045656  ,& Test_auc :  0.7762643815014717  Avg Loss:  0.39895219504833224  , Train Time : 0m 0s  ,Eval Time : 0m 0s\n",
      "Epoch:  25  Train_auc : 0.90965284656031  , Valid_auc :  0.7994958386683738  ,& Test_auc :  0.7902822079433076  Avg Loss:  0.39904371956363316  , Train Time : 0m 0s  ,Eval Time : 0m 0s\n",
      "bestValidAuc 0.807305 has a TestAuc of 0.793264 at epoch 14 \n"
     ]
    },
    {
     "name": "stderr",
     "output_type": "stream",
     "text": [
      "\r",
      "  0%|          | 0/161 [00:00<?, ?it/s]"
     ]
    },
    {
     "name": "stdout",
     "output_type": "stream",
     "text": [
      " creating the list of training minibatches\n"
     ]
    },
    {
     "name": "stderr",
     "output_type": "stream",
     "text": [
      "100%|██████████| 161/161 [00:14<00:00, 11.29it/s]\n",
      "  0%|          | 0/23 [00:00<?, ?it/s]"
     ]
    },
    {
     "name": "stdout",
     "output_type": "stream",
     "text": [
      " creating the list of valid minibatches\n"
     ]
    },
    {
     "name": "stderr",
     "output_type": "stream",
     "text": [
      "100%|██████████| 23/23 [00:02<00:00, 10.67it/s]\n",
      "  0%|          | 0/46 [00:00<?, ?it/s]"
     ]
    },
    {
     "name": "stdout",
     "output_type": "stream",
     "text": [
      " creating the list of test minibatches\n"
     ]
    },
    {
     "name": "stderr",
     "output_type": "stream",
     "text": [
      "100%|██████████| 46/46 [00:04<00:00, 11.37it/s]\n"
     ]
    },
    {
     "name": "stdout",
     "output_type": "stream",
     "text": [
      "Epoch:  0  Train_auc : 0.7140026949635292  , Valid_auc :  0.7022366669529372  ,& Test_auc :  0.6948351234785544  Avg Loss:  0.6271987285465002  , Train Time : 0m 1s  ,Eval Time : 0m 0s\n",
      "Epoch:  1  Train_auc : 0.7588033374645081  , Valid_auc :  0.742682292479935  ,& Test_auc :  0.7411700139238007  Avg Loss:  0.5830608982592822  , Train Time : 0m 1s  ,Eval Time : 0m 0s\n",
      "Epoch:  2  Train_auc : 0.7899570022191409  , Valid_auc :  0.7649137968052215  ,& Test_auc :  0.7526597563359114  Avg Loss:  0.549807789735496  , Train Time : 0m 1s  ,Eval Time : 0m 0s\n",
      "Epoch:  3  Train_auc : 0.8087381509529231  , Valid_auc :  0.7804246139252365  ,& Test_auc :  0.7696521523208516  Avg Loss:  0.5317206116393208  , Train Time : 0m 1s  ,Eval Time : 0m 0s\n",
      "Epoch:  4  Train_auc : 0.7942761372842582  , Valid_auc :  0.7641125648012241  ,& Test_auc :  0.75003419115133  Avg Loss:  0.5285198135301471  , Train Time : 0m 1s  ,Eval Time : 0m 0s\n",
      "Epoch:  5  Train_auc : 0.8092162941220004  , Valid_auc :  0.7791737258361701  ,& Test_auc :  0.769830140300116  Avg Loss:  0.5389807216823101  , Train Time : 0m 1s  ,Eval Time : 0m 0s\n",
      "Epoch:  6  Train_auc : 0.8162119083878204  , Valid_auc :  0.7867744507510697  ,& Test_auc :  0.760978754443031  Avg Loss:  0.5076016603037715  , Train Time : 0m 1s  ,Eval Time : 0m 0s\n",
      "Epoch:  7  Train_auc : 0.8432376725370507  , Valid_auc :  0.8028161694669124  ,& Test_auc :  0.7870738169982885  Avg Loss:  0.49337820410728456  , Train Time : 0m 1s  ,Eval Time : 0m 0s\n",
      "Epoch:  8  Train_auc : 0.833791635268182  , Valid_auc :  0.7942534293900877  ,& Test_auc :  0.7829434774195332  Avg Loss:  0.49710916932672267  , Train Time : 0m 0s  ,Eval Time : 0m 0s\n",
      "Epoch:  9  Train_auc : 0.8441062376467243  , Valid_auc :  0.8004798120764499  ,& Test_auc :  0.7796026866970233  Avg Loss:  0.501547641865909  , Train Time : 0m 1s  ,Eval Time : 0m 0s\n",
      "Epoch:  10  Train_auc : 0.8371285424697429  , Valid_auc :  0.7855145353830298  ,& Test_auc :  0.7824513430817722  Avg Loss:  0.48937677089124915  , Train Time : 0m 1s  ,Eval Time : 0m 0s\n",
      "Epoch:  11  Train_auc : 0.8382551890661705  , Valid_auc :  0.784513239358546  ,& Test_auc :  0.7775821957702879  Avg Loss:  0.48310537617653604  , Train Time : 0m 1s  ,Eval Time : 0m 0s\n",
      "Epoch:  12  Train_auc : 0.8313128213678759  , Valid_auc :  0.7835231664376503  ,& Test_auc :  0.773962177311916  Avg Loss:  0.47195814009755854  , Train Time : 0m 1s  ,Eval Time : 0m 0s\n",
      "Epoch:  13  Train_auc : 0.865836658173825  , Valid_auc :  0.8058000511383153  ,& Test_auc :  0.7919837633254556  Avg Loss:  0.4656216774135828  , Train Time : 0m 1s  ,Eval Time : 0m 0s\n",
      "Epoch:  14  Train_auc : 0.8464607682374501  , Valid_auc :  0.7898061526029792  ,& Test_auc :  0.7776731903060083  Avg Loss:  0.472198199853301  , Train Time : 0m 1s  ,Eval Time : 0m 0s\n",
      "Epoch:  15  Train_auc : 0.8573630314481199  , Valid_auc :  0.795706577324256  ,& Test_auc :  0.7766545486113301  Avg Loss:  0.48482640106230973  , Train Time : 0m 0s  ,Eval Time : 0m 0s\n",
      "Epoch:  16  Train_auc : 0.8211674785177445  , Valid_auc :  0.7618098767215264  ,& Test_auc :  0.7513994729227906  Avg Loss:  0.4560706137679517  , Train Time : 0m 0s  ,Eval Time : 0m 0s\n",
      "Epoch:  17  Train_auc : 0.8686587758350843  , Valid_auc :  0.801435727725555  ,& Test_auc :  0.7919529064176063  Avg Loss:  0.4702299856580794  , Train Time : 0m 1s  ,Eval Time : 0m 0s\n",
      "Epoch:  18  Train_auc : 0.8623063299275529  , Valid_auc :  0.7931277033040818  ,& Test_auc :  0.7755166016226491  Avg Loss:  0.441264720261097  , Train Time : 0m 1s  ,Eval Time : 0m 0s\n",
      "Epoch:  19  Train_auc : 0.859466243595029  , Valid_auc :  0.7835758662284127  ,& Test_auc :  0.7731344362121637  Avg Loss:  0.46018203375861055  , Train Time : 0m 1s  ,Eval Time : 0m 0s\n",
      "Epoch:  20  Train_auc : 0.8786971297259031  , Valid_auc :  0.8016026103963024  ,& Test_auc :  0.7873158224523835  Avg Loss:  0.43248271383345127  , Train Time : 0m 1s  ,Eval Time : 0m 0s\n",
      "Epoch:  21  Train_auc : 0.8374052768652436  , Valid_auc :  0.7651738800318542  ,& Test_auc :  0.7470188225925428  Avg Loss:  0.4406604004092515  , Train Time : 0m 1s  ,Eval Time : 0m 0s\n",
      "Epoch:  22  Train_auc : 0.8900145713825843  , Valid_auc :  0.7978614132132038  ,& Test_auc :  0.7917564891652848  Avg Loss:  0.4337528626434505  , Train Time : 0m 1s  ,Eval Time : 0m 0s\n",
      "Epoch:  23  Train_auc : 0.8540474446898367  , Valid_auc :  0.7756177098622778  ,& Test_auc :  0.7649035833781537  Avg Loss:  0.4386180846020579  , Train Time : 0m 1s  ,Eval Time : 0m 0s\n",
      "Epoch:  24  Train_auc : 0.8847695092988916  , Valid_auc :  0.7987704846038537  ,& Test_auc :  0.7887241462760501  Avg Loss:  0.4369092500768602  , Train Time : 0m 1s  ,Eval Time : 0m 0s\n",
      "bestValidAuc 0.805800 has a TestAuc of 0.791984 at epoch 13 \n"
     ]
    },
    {
     "name": "stderr",
     "output_type": "stream",
     "text": [
      "\r",
      "  0%|          | 0/161 [00:00<?, ?it/s]"
     ]
    },
    {
     "name": "stdout",
     "output_type": "stream",
     "text": [
      " creating the list of training minibatches\n"
     ]
    },
    {
     "name": "stderr",
     "output_type": "stream",
     "text": [
      "100%|██████████| 161/161 [00:13<00:00, 11.53it/s]\n",
      "  0%|          | 0/23 [00:00<?, ?it/s]"
     ]
    },
    {
     "name": "stdout",
     "output_type": "stream",
     "text": [
      " creating the list of valid minibatches\n"
     ]
    },
    {
     "name": "stderr",
     "output_type": "stream",
     "text": [
      "100%|██████████| 23/23 [00:02<00:00, 10.82it/s]\n",
      "  0%|          | 0/46 [00:00<?, ?it/s]"
     ]
    },
    {
     "name": "stdout",
     "output_type": "stream",
     "text": [
      " creating the list of test minibatches\n"
     ]
    },
    {
     "name": "stderr",
     "output_type": "stream",
     "text": [
      "100%|██████████| 46/46 [00:03<00:00, 11.51it/s]\n"
     ]
    },
    {
     "name": "stdout",
     "output_type": "stream",
     "text": [
      "Epoch:  0  Train_auc : 0.7124074646898008  , Valid_auc :  0.7100786885949846  ,& Test_auc :  0.6941060153632239  Avg Loss:  0.6396268520504236  , Train Time : 0m 1s  ,Eval Time : 0m 0s\n",
      "Epoch:  1  Train_auc : 0.756796726758617  , Valid_auc :  0.7501515118984416  ,& Test_auc :  0.7409446796871098  Avg Loss:  0.5914774343371392  , Train Time : 0m 1s  ,Eval Time : 0m 0s\n",
      "Epoch:  2  Train_auc : 0.7864398827312153  , Valid_auc :  0.7735658337497268  ,& Test_auc :  0.7635218122571156  Avg Loss:  0.5602188194170594  , Train Time : 0m 1s  ,Eval Time : 0m 0s\n",
      "Epoch:  3  Train_auc : 0.7956843476045009  , Valid_auc :  0.7798795614596672  ,& Test_auc :  0.7683734396346735  Avg Loss:  0.5329167732968927  , Train Time : 0m 1s  ,Eval Time : 0m 0s\n",
      "Epoch:  4  Train_auc : 0.7787326119017597  , Valid_auc :  0.7655815714687236  ,& Test_auc :  0.7507512959901297  Avg Loss:  0.5351947052404284  , Train Time : 0m 1s  ,Eval Time : 0m 0s\n",
      "Epoch:  5  Train_auc : 0.8256848143734614  , Valid_auc :  0.7946491657818306  ,& Test_auc :  0.7796731301683805  Avg Loss:  0.5253392206504941  , Train Time : 0m 1s  ,Eval Time : 0m 0s\n",
      "Epoch:  6  Train_auc : 0.8379931112358627  , Valid_auc :  0.8044191214359326  ,& Test_auc :  0.7852488946073521  Avg Loss:  0.507544849999249  , Train Time : 0m 1s  ,Eval Time : 0m 0s\n",
      "Epoch:  7  Train_auc : 0.8319692530251801  , Valid_auc :  0.7928807950251398  ,& Test_auc :  0.780582105563846  Avg Loss:  0.5075941329821945  , Train Time : 0m 1s  ,Eval Time : 0m 0s\n",
      "Epoch:  8  Train_auc : 0.8445477443610626  , Valid_auc :  0.8040999949252052  ,& Test_auc :  0.7888596984291956  Avg Loss:  0.49316874323412774  , Train Time : 0m 1s  ,Eval Time : 0m 0s\n",
      "Epoch:  9  Train_auc : 0.8261418800531496  , Valid_auc :  0.7839628193216952  ,& Test_auc :  0.7755869844713975  Avg Loss:  0.4931528205052018  , Train Time : 0m 1s  ,Eval Time : 0m 0s\n",
      "Epoch:  10  Train_auc : 0.8458904315050465  , Valid_auc :  0.7963877709159615  ,& Test_auc :  0.7865769540970456  Avg Loss:  0.47439727112650876  , Train Time : 0m 1s  ,Eval Time : 0m 0s\n",
      "Epoch:  11  Train_auc : 0.8535756926955  , Valid_auc :  0.7975588773773461  ,& Test_auc :  0.7890620566971736  Avg Loss:  0.473890392202884  , Train Time : 0m 1s  ,Eval Time : 0m 0s\n",
      "Epoch:  12  Train_auc : 0.8524814333398838  , Valid_auc :  0.7985391910777302  ,& Test_auc :  0.7845266368468096  Avg Loss:  0.47340398458763955  , Train Time : 0m 1s  ,Eval Time : 0m 0s\n",
      "Epoch:  13  Train_auc : 0.8382817107059595  , Valid_auc :  0.7821720023578278  ,& Test_auc :  0.7688163484141368  Avg Loss:  0.4570286265574396  , Train Time : 0m 0s  ,Eval Time : 0m 0s\n",
      "Epoch:  14  Train_auc : 0.8661416545522751  , Valid_auc :  0.7994970585709378  ,& Test_auc :  0.7850898208820153  Avg Loss:  0.46749264802783724  , Train Time : 0m 0s  ,Eval Time : 0m 0s\n",
      "Epoch:  15  Train_auc : 0.8510051612231592  , Valid_auc :  0.7821163748009119  ,& Test_auc :  0.760203391277231  Avg Loss:  0.4713063985109329  , Train Time : 0m 1s  ,Eval Time : 0m 0s\n",
      "Epoch:  16  Train_auc : 0.8472646084479272  , Valid_auc :  0.7845200708129041  ,& Test_auc :  0.7794710750134461  Avg Loss:  0.4687896963208914  , Train Time : 0m 1s  ,Eval Time : 0m 0s\n",
      "Epoch:  17  Train_auc : 0.8707416691037255  , Valid_auc :  0.8002446148621217  ,& Test_auc :  0.7882269196391548  Avg Loss:  0.46619871705770494  , Train Time : 0m 1s  ,Eval Time : 0m 0s\n",
      "bestValidAuc 0.804419 has a TestAuc of 0.785249 at epoch 6 \n"
     ]
    },
    {
     "name": "stderr",
     "output_type": "stream",
     "text": [
      "\r",
      "  0%|          | 0/161 [00:00<?, ?it/s]"
     ]
    },
    {
     "name": "stdout",
     "output_type": "stream",
     "text": [
      " creating the list of training minibatches\n"
     ]
    },
    {
     "name": "stderr",
     "output_type": "stream",
     "text": [
      "100%|██████████| 161/161 [00:14<00:00, 11.19it/s]\n",
      "  0%|          | 0/23 [00:00<?, ?it/s]"
     ]
    },
    {
     "name": "stdout",
     "output_type": "stream",
     "text": [
      " creating the list of valid minibatches\n"
     ]
    },
    {
     "name": "stderr",
     "output_type": "stream",
     "text": [
      "100%|██████████| 23/23 [00:02<00:00, 10.51it/s]\n",
      "  0%|          | 0/46 [00:00<?, ?it/s]"
     ]
    },
    {
     "name": "stdout",
     "output_type": "stream",
     "text": [
      " creating the list of test minibatches\n"
     ]
    },
    {
     "name": "stderr",
     "output_type": "stream",
     "text": [
      "100%|██████████| 46/46 [00:04<00:00, 11.24it/s]\n"
     ]
    },
    {
     "name": "stdout",
     "output_type": "stream",
     "text": [
      "Epoch:  0  Train_auc : 0.7329955606573008  , Valid_auc :  0.7233502525686268  ,& Test_auc :  0.7194922177544706  Avg Loss:  0.6262966990470886  , Train Time : 0m 1s  ,Eval Time : 0m 0s\n",
      "Epoch:  1  Train_auc : 0.7445232665088829  , Valid_auc :  0.7375501623934293  ,& Test_auc :  0.7272169324281004  Avg Loss:  0.582455543242395  , Train Time : 0m 1s  ,Eval Time : 0m 0s\n",
      "Epoch:  2  Train_auc : 0.7971785586430346  , Valid_auc :  0.7727426434995783  ,& Test_auc :  0.7675324221836071  Avg Loss:  0.5488229975104332  , Train Time : 0m 1s  ,Eval Time : 0m 0s\n",
      "Epoch:  3  Train_auc : 0.7981094191130198  , Valid_auc :  0.7757240853658537  ,& Test_auc :  0.7599365305535524  Avg Loss:  0.5519089026376605  , Train Time : 0m 1s  ,Eval Time : 0m 0s\n",
      "Epoch:  4  Train_auc : 0.8172344814715977  , Valid_auc :  0.7869818341869399  ,& Test_auc :  0.777642818379029  Avg Loss:  0.5278684485703707  , Train Time : 0m 1s  ,Eval Time : 0m 0s\n",
      "Epoch:  5  Train_auc : 0.8232377877666093  , Valid_auc :  0.7876496088504418  ,& Test_auc :  0.781604566482875  Avg Loss:  0.5191391134634613  , Train Time : 0m 1s  ,Eval Time : 0m 0s\n",
      "Epoch:  6  Train_auc : 0.8299587550570727  , Valid_auc :  0.7945096089285157  ,& Test_auc :  0.7814861705280036  Avg Loss:  0.501987972855568  , Train Time : 0m 1s  ,Eval Time : 0m 0s\n",
      "Epoch:  7  Train_auc : 0.8320294064246785  , Valid_auc :  0.7905407779269854  ,& Test_auc :  0.7875259404142803  Avg Loss:  0.5004418866708874  , Train Time : 0m 1s  ,Eval Time : 0m 0s\n",
      "Epoch:  8  Train_auc : 0.847421581451119  , Valid_auc :  0.797187539036882  ,& Test_auc :  0.7865361550813629  Avg Loss:  0.48291203575208785  , Train Time : 0m 1s  ,Eval Time : 0m 0s\n",
      "Epoch:  9  Train_auc : 0.847925512440077  , Valid_auc :  0.7971262999281722  ,& Test_auc :  0.7879201692389244  Avg Loss:  0.48995546586811545  , Train Time : 0m 1s  ,Eval Time : 0m 0s\n",
      "Epoch:  10  Train_auc : 0.8448137937437112  , Valid_auc :  0.792359164688798  ,& Test_auc :  0.7849597853862655  Avg Loss:  0.5026713736355304  , Train Time : 0m 1s  ,Eval Time : 0m 0s\n",
      "Epoch:  11  Train_auc : 0.8568213781492886  , Valid_auc :  0.7961476940913775  ,& Test_auc :  0.7853142457795752  Avg Loss:  0.4678240045905113  , Train Time : 0m 1s  ,Eval Time : 0m 0s\n",
      "Epoch:  12  Train_auc : 0.8521880194162005  , Valid_auc :  0.7870816222166703  ,& Test_auc :  0.7799806686625246  Avg Loss:  0.4564254319295287  , Train Time : 0m 1s  ,Eval Time : 0m 0s\n",
      "Epoch:  13  Train_auc : 0.8743157587993858  , Valid_auc :  0.8066993633084538  ,& Test_auc :  0.8001573277942051  Avg Loss:  0.4596037126146257  , Train Time : 0m 1s  ,Eval Time : 0m 0s\n",
      "Epoch:  14  Train_auc : 0.8680981324670081  , Valid_auc :  0.8033085221417195  ,& Test_auc :  0.7907506994636598  Avg Loss:  0.4503177395090461  , Train Time : 0m 1s  ,Eval Time : 0m 0s\n",
      "Epoch:  15  Train_auc : 0.87168653660912  , Valid_auc :  0.7946818591705443  ,& Test_auc :  0.7821281639545727  Avg Loss:  0.4533100049942732  , Train Time : 0m 1s  ,Eval Time : 0m 0s\n",
      "Epoch:  16  Train_auc : 0.8706686589811063  , Valid_auc :  0.7988627092376878  ,& Test_auc :  0.7900748786214127  Avg Loss:  0.4645645828917623  , Train Time : 0m 1s  ,Eval Time : 0m 0s\n",
      "Epoch:  17  Train_auc : 0.8864852099936236  , Valid_auc :  0.8012078499266105  ,& Test_auc :  0.7957018085421621  Avg Loss:  0.4425092413555831  , Train Time : 0m 1s  ,Eval Time : 0m 0s\n",
      "Epoch:  18  Train_auc : 0.8847558592569512  , Valid_auc :  0.7957275596483557  ,& Test_auc :  0.7867457880623899  Avg Loss:  0.4371766853611916  , Train Time : 0m 1s  ,Eval Time : 0m 0s\n",
      "Epoch:  19  Train_auc : 0.8973123707032873  , Valid_auc :  0.8052179136348021  ,& Test_auc :  0.7992486555117834  Avg Loss:  0.4312664519995451  , Train Time : 0m 1s  ,Eval Time : 0m 0s\n",
      "Epoch:  20  Train_auc : 0.8894950814282766  , Valid_auc :  0.7929871705287155  ,& Test_auc :  0.7851927580716578  Avg Loss:  0.42650642888620494  , Train Time : 0m 1s  ,Eval Time : 0m 0s\n",
      "Epoch:  21  Train_auc : 0.8985204514765504  , Valid_auc :  0.8009184890384434  ,& Test_auc :  0.7947644011431969  Avg Loss:  0.41745389103889463  , Train Time : 0m 1s  ,Eval Time : 0m 0s\n",
      "Epoch:  22  Train_auc : 0.8973704614738549  , Valid_auc :  0.7939904183973017  ,& Test_auc :  0.7885357312080824  Avg Loss:  0.42000982714816926  , Train Time : 0m 1s  ,Eval Time : 0m 0s\n",
      "Epoch:  23  Train_auc : 0.8970922495220528  , Valid_auc :  0.7902272629680521  ,& Test_auc :  0.7859340513313453  Avg Loss:  0.4166843761689961  , Train Time : 0m 0s  ,Eval Time : 0m 0s\n",
      "Epoch:  24  Train_auc : 0.8994340870116644  , Valid_auc :  0.7897041687486337  ,& Test_auc :  0.7820868193354114  Avg Loss:  0.3976362971588969  , Train Time : 0m 1s  ,Eval Time : 0m 0s\n",
      "bestValidAuc 0.806699 has a TestAuc of 0.800157 at epoch 13 \n"
     ]
    },
    {
     "name": "stderr",
     "output_type": "stream",
     "text": [
      "\r",
      "  0%|          | 0/161 [00:00<?, ?it/s]"
     ]
    },
    {
     "name": "stdout",
     "output_type": "stream",
     "text": [
      " creating the list of training minibatches\n"
     ]
    },
    {
     "name": "stderr",
     "output_type": "stream",
     "text": [
      "100%|██████████| 161/161 [00:14<00:00, 11.16it/s]\n",
      "  0%|          | 0/23 [00:00<?, ?it/s]"
     ]
    },
    {
     "name": "stdout",
     "output_type": "stream",
     "text": [
      " creating the list of valid minibatches\n"
     ]
    },
    {
     "name": "stderr",
     "output_type": "stream",
     "text": [
      " 43%|████▎     | 10/23 [00:01<00:01,  7.21it/s]IOPub message rate exceeded.\n",
      "The notebook server will temporarily stop sending output\n",
      "to the client in order to avoid crashing it.\n",
      "To change this limit, set the config variable\n",
      "`--NotebookApp.iopub_msg_rate_limit`.\n",
      "\n",
      "Current values:\n",
      "NotebookApp.iopub_msg_rate_limit=1000.0 (msgs/sec)\n",
      "NotebookApp.rate_limit_window=3.0 (secs)\n",
      "\n"
     ]
    }
   ],
   "source": [
    "results=[]\n",
    "dlcalc_RNN=[]\n",
    "dlcalc_LR=[]\n",
    "for term in ['csr','cid','icd9','icd10','ccs','uml','phe']:\n",
    "    if term=='cid':\n",
    "        train_sl= pickle.load(open('../data/pdata/lr_pc_cid.combined.train', 'rb'), encoding='bytes')\n",
    "        test_sl= pickle.load(open('../data/pdata/lr_pc_cid.combined.test', 'rb'), encoding='bytes')\n",
    "        valid_sl= pickle.load(open('../data/pdata/lr_pc_cid.combined.valid', 'rb'), encoding='bytes')\n",
    "        types_d=pickle.load(open('../data/pdata/lr_pc_cid.types', 'rb'), encoding='bytes')\n",
    "    elif term=='icd9':\n",
    "        train_sl= pickle.load(open('../data/pdata/lr_pc_icd9_n.combined.train', 'rb'), encoding='bytes')\n",
    "        test_sl= pickle.load(open('../data/pdata/lr_pc_icd9_n.combined.test', 'rb'), encoding='bytes')\n",
    "        valid_sl= pickle.load(open('../data/pdata/lr_pc_icd9_n.combined.valid', 'rb'), encoding='bytes')\n",
    "        types_d=pickle.load(open('../data/pdata/lr_pc_icd9_n.types.valid', 'rb'), encoding='bytes')\n",
    "    elif term=='icd10':\n",
    "        train_sl= pickle.load(open('../data/pdata/lr_pc_icd10_n.combined.train', 'rb'), encoding='bytes')\n",
    "        test_sl= pickle.load(open('../data/pdata/lr_pc_icd10_n.combined.test', 'rb'), encoding='bytes')\n",
    "        valid_sl= pickle.load(open('../data/pdata/lr_pc_icd10_n.combined.valid', 'rb'), encoding='bytes')\n",
    "        types_d=pickle.load(open('../data/pdata/lr_pc_icd10_n.types.valid', 'rb'), encoding='bytes')\n",
    "    elif term=='ccs':\n",
    "        train_sl= pickle.load(open('../data/pdata/lr_pc_ccs_n.combinedtrain', 'rb'), encoding='bytes')\n",
    "        test_sl= pickle.load(open('../data/pdata/lr_pc_ccs_n.combinedtest', 'rb'), encoding='bytes')\n",
    "        valid_sl= pickle.load(open('../data/pdata/lr_pc_ccs_n.combinedvalid', 'rb'), encoding='bytes')\n",
    "        types_d=pickle.load(open('../data/pdata/lr_pc_ccs_n.types.valid', 'rb'), encoding='bytes')\n",
    "    elif term=='uml':\n",
    "        train_sl= pickle.load(open('../data/pdata/lr_pc_umls_n.combined.train', 'rb'), encoding='bytes')\n",
    "        test_sl= pickle.load(open('../data/pdata/lr_pc_umls_n.combined.test', 'rb'), encoding='bytes')\n",
    "        valid_sl= pickle.load(open('../data/pdata/lr_pc_umls_n.combined.valid', 'rb'), encoding='bytes')\n",
    "        types_d=pickle.load(open('../data/pdata/lr_pc_umls_n.types.valid', 'rb'), encoding='bytes')\n",
    "    elif term=='phe':\n",
    "        train_sl= pickle.load(open('../data/pdata/lr_pc_phe_v2.combined.train', 'rb'), encoding='bytes')\n",
    "        test_sl= pickle.load(open('../data/pdata/lr_pc_phe_v2.combined.test', 'rb'), encoding='bytes')\n",
    "        valid_sl= pickle.load(open('../data/pdata/lr_pc_phe_v2.combined.valid', 'rb'), encoding='bytes')\n",
    "        types_d=pickle.load(open('../data/pdata/lr_pc_phe_v2.types.valid', 'rb'), encoding='bytes')\n",
    "    elif term=='csr':\n",
    "        train_sl= pickle.load(open('../data/pdata/lr_pc_ccsr.combined.train', 'rb'), encoding='bytes')\n",
    "        test_sl= pickle.load(open('../data/pdata/lr_pc_ccsr.combined.test', 'rb'), encoding='bytes')\n",
    "        valid_sl= pickle.load(open('../data/pdata/lr_pc_ccsr.combined.valid', 'rb'), encoding='bytes')\n",
    "        types_d=pickle.load(open('../data/pdata/lr_pc_ccsr.types.train', 'rb'), encoding='bytes')\n",
    "\n",
    "    types_d_rev = dict(zip(types_d.values(),types_d.keys()))\n",
    "    input_size_1=[len(types_d_rev)+1]\n",
    "    for run in range(10):\n",
    "        LR_auc,pts_tsk,labelst,predprob=run_LR_model(train_sl,test_sl,input_size_1)\n",
    "        dlcalc_LR.append({'Term':term,'Run':run,'pt_sk':pts_tsk,'label':labelst,'lR_prob':predprob})\n",
    "        ehr_model = model.EHR_RNN(input_size_1, embed_dim=64, hidden_size=64, n_layers=1, dropout_r=0., cell_type='GRU', bii=True , time=True)\n",
    "        if use_cuda: ehr_model = ehr_model.cuda()    \n",
    "        bestTrainAuc,bestValidAuc,bestTestAuc,bestValidEpoch=run_dl_model(ehr_model,train_sl,valid_sl,test_sl,term+str(run)+'Panc_BiGRU.pth',term+str(run)+'panc_BiGRU.st',wmodel='RNN',packpadmode=True)\n",
    "        results.append([term,run,LR_auc,bestTrainAuc,bestValidAuc,bestTestAuc,bestValidEpoch])\n",
    "        \n",
    "        best_ehr_model=torch.load(term+str(run)+'Panc_BiGRU.pth')\n",
    "        best_ehr_model.load_state_dict(torch.load(term+str(run)+'panc_BiGRU.st'))\n",
    "\n",
    "        for pt in test_sl: #### I do that loop to get the result per Pt_sk (current dataloader don't dump the pt_sk)\n",
    "            test_dlg = EHRDataset([pt],sort= True, model='RNN')\n",
    "            sample, label_tensor, seq_l, mtd = list(EHRdataloader(test_dlg, batch_size =1, packPadMode = True))[0]\n",
    "            output = best_ehr_model(sample, seq_l, mtd)\n",
    "            y_hat=output.cpu().data.view(-1).numpy()  \n",
    "            y_real=label_tensor.cpu().data.view(-1).numpy()\n",
    "            dlcalc_RNN.append([term,run,pt[0],y_real[0],y_hat[0]]) \n",
    "\n",
    "\n"
   ]
  },
  {
   "cell_type": "markdown",
   "metadata": {},
   "source": [
    "#### Create Summary descripton for TEST AUC "
   ]
  },
  {
   "cell_type": "code",
   "execution_count": 6,
   "metadata": {},
   "outputs": [],
   "source": [
    "df=pd.DataFrame(results)\n",
    "df.columns=['Term','Run','LR_auc','bestTrainAuc','bestValidAuc','bestTestAuc','bestValidEpoch']\n",
    "df.to_csv('PC_Term_results_r4.csv')\n",
    "LR_sum=df[['Term','LR_auc']].groupby(['Term']).describe()\n",
    "RNN_sum=df[['Term','bestTestAuc']].groupby(['Term']).describe()\n",
    "LR_sum.to_csv('PC_Term_results_r4_LR_sum.csv')\n",
    "RNN_sum.to_csv('PC_Term_resultsh_r4_RNN_sum.csv')"
   ]
  },
  {
   "cell_type": "code",
   "execution_count": 7,
   "metadata": {},
   "outputs": [
    {
     "data": {
      "text/html": [
       "<div>\n",
       "<style scoped>\n",
       "    .dataframe tbody tr th:only-of-type {\n",
       "        vertical-align: middle;\n",
       "    }\n",
       "\n",
       "    .dataframe tbody tr th {\n",
       "        vertical-align: top;\n",
       "    }\n",
       "\n",
       "    .dataframe thead tr th {\n",
       "        text-align: left;\n",
       "    }\n",
       "\n",
       "    .dataframe thead tr:last-of-type th {\n",
       "        text-align: right;\n",
       "    }\n",
       "</style>\n",
       "<table border=\"1\" class=\"dataframe\">\n",
       "  <thead>\n",
       "    <tr>\n",
       "      <th></th>\n",
       "      <th colspan=\"8\" halign=\"left\">LR_auc</th>\n",
       "    </tr>\n",
       "    <tr>\n",
       "      <th></th>\n",
       "      <th>count</th>\n",
       "      <th>mean</th>\n",
       "      <th>std</th>\n",
       "      <th>min</th>\n",
       "      <th>25%</th>\n",
       "      <th>50%</th>\n",
       "      <th>75%</th>\n",
       "      <th>max</th>\n",
       "    </tr>\n",
       "    <tr>\n",
       "      <th>Term</th>\n",
       "      <th></th>\n",
       "      <th></th>\n",
       "      <th></th>\n",
       "      <th></th>\n",
       "      <th></th>\n",
       "      <th></th>\n",
       "      <th></th>\n",
       "      <th></th>\n",
       "    </tr>\n",
       "  </thead>\n",
       "  <tbody>\n",
       "    <tr>\n",
       "      <th>ccs</th>\n",
       "      <td>10.0</td>\n",
       "      <td>0.772305</td>\n",
       "      <td>3.834110e-08</td>\n",
       "      <td>0.772305</td>\n",
       "      <td>0.772305</td>\n",
       "      <td>0.772305</td>\n",
       "      <td>0.772305</td>\n",
       "      <td>0.772305</td>\n",
       "    </tr>\n",
       "    <tr>\n",
       "      <th>cid</th>\n",
       "      <td>10.0</td>\n",
       "      <td>0.802977</td>\n",
       "      <td>2.300466e-07</td>\n",
       "      <td>0.802977</td>\n",
       "      <td>0.802978</td>\n",
       "      <td>0.802978</td>\n",
       "      <td>0.802978</td>\n",
       "      <td>0.802978</td>\n",
       "    </tr>\n",
       "    <tr>\n",
       "      <th>csr</th>\n",
       "      <td>10.0</td>\n",
       "      <td>0.779204</td>\n",
       "      <td>1.035210e-06</td>\n",
       "      <td>0.779204</td>\n",
       "      <td>0.779204</td>\n",
       "      <td>0.779204</td>\n",
       "      <td>0.779204</td>\n",
       "      <td>0.779207</td>\n",
       "    </tr>\n",
       "    <tr>\n",
       "      <th>icd10</th>\n",
       "      <td>10.0</td>\n",
       "      <td>0.789484</td>\n",
       "      <td>5.751166e-07</td>\n",
       "      <td>0.789482</td>\n",
       "      <td>0.789484</td>\n",
       "      <td>0.789484</td>\n",
       "      <td>0.789484</td>\n",
       "      <td>0.789484</td>\n",
       "    </tr>\n",
       "    <tr>\n",
       "      <th>icd9</th>\n",
       "      <td>10.0</td>\n",
       "      <td>0.791476</td>\n",
       "      <td>1.170278e-16</td>\n",
       "      <td>0.791476</td>\n",
       "      <td>0.791476</td>\n",
       "      <td>0.791476</td>\n",
       "      <td>0.791476</td>\n",
       "      <td>0.791476</td>\n",
       "    </tr>\n",
       "    <tr>\n",
       "      <th>phe</th>\n",
       "      <td>10.0</td>\n",
       "      <td>0.788668</td>\n",
       "      <td>3.453161e-07</td>\n",
       "      <td>0.788668</td>\n",
       "      <td>0.788668</td>\n",
       "      <td>0.788668</td>\n",
       "      <td>0.788668</td>\n",
       "      <td>0.788669</td>\n",
       "    </tr>\n",
       "    <tr>\n",
       "      <th>uml</th>\n",
       "      <td>10.0</td>\n",
       "      <td>0.805255</td>\n",
       "      <td>2.300466e-07</td>\n",
       "      <td>0.805255</td>\n",
       "      <td>0.805255</td>\n",
       "      <td>0.805255</td>\n",
       "      <td>0.805255</td>\n",
       "      <td>0.805255</td>\n",
       "    </tr>\n",
       "  </tbody>\n",
       "</table>\n",
       "</div>"
      ],
      "text/plain": [
       "      LR_auc                                                                  \\\n",
       "       count      mean           std       min       25%       50%       75%   \n",
       "Term                                                                           \n",
       "ccs     10.0  0.772305  3.834110e-08  0.772305  0.772305  0.772305  0.772305   \n",
       "cid     10.0  0.802977  2.300466e-07  0.802977  0.802978  0.802978  0.802978   \n",
       "csr     10.0  0.779204  1.035210e-06  0.779204  0.779204  0.779204  0.779204   \n",
       "icd10   10.0  0.789484  5.751166e-07  0.789482  0.789484  0.789484  0.789484   \n",
       "icd9    10.0  0.791476  1.170278e-16  0.791476  0.791476  0.791476  0.791476   \n",
       "phe     10.0  0.788668  3.453161e-07  0.788668  0.788668  0.788668  0.788668   \n",
       "uml     10.0  0.805255  2.300466e-07  0.805255  0.805255  0.805255  0.805255   \n",
       "\n",
       "                 \n",
       "            max  \n",
       "Term             \n",
       "ccs    0.772305  \n",
       "cid    0.802978  \n",
       "csr    0.779207  \n",
       "icd10  0.789484  \n",
       "icd9   0.791476  \n",
       "phe    0.788669  \n",
       "uml    0.805255  "
      ]
     },
     "execution_count": 7,
     "metadata": {},
     "output_type": "execute_result"
    }
   ],
   "source": [
    "LR_sum"
   ]
  },
  {
   "cell_type": "code",
   "execution_count": 8,
   "metadata": {},
   "outputs": [
    {
     "data": {
      "text/html": [
       "<div>\n",
       "<style scoped>\n",
       "    .dataframe tbody tr th:only-of-type {\n",
       "        vertical-align: middle;\n",
       "    }\n",
       "\n",
       "    .dataframe tbody tr th {\n",
       "        vertical-align: top;\n",
       "    }\n",
       "\n",
       "    .dataframe thead tr th {\n",
       "        text-align: left;\n",
       "    }\n",
       "\n",
       "    .dataframe thead tr:last-of-type th {\n",
       "        text-align: right;\n",
       "    }\n",
       "</style>\n",
       "<table border=\"1\" class=\"dataframe\">\n",
       "  <thead>\n",
       "    <tr>\n",
       "      <th></th>\n",
       "      <th colspan=\"8\" halign=\"left\">bestTestAuc</th>\n",
       "    </tr>\n",
       "    <tr>\n",
       "      <th></th>\n",
       "      <th>count</th>\n",
       "      <th>mean</th>\n",
       "      <th>std</th>\n",
       "      <th>min</th>\n",
       "      <th>25%</th>\n",
       "      <th>50%</th>\n",
       "      <th>75%</th>\n",
       "      <th>max</th>\n",
       "    </tr>\n",
       "    <tr>\n",
       "      <th>Term</th>\n",
       "      <th></th>\n",
       "      <th></th>\n",
       "      <th></th>\n",
       "      <th></th>\n",
       "      <th></th>\n",
       "      <th></th>\n",
       "      <th></th>\n",
       "      <th></th>\n",
       "    </tr>\n",
       "  </thead>\n",
       "  <tbody>\n",
       "    <tr>\n",
       "      <th>ccs</th>\n",
       "      <td>10.0</td>\n",
       "      <td>0.790253</td>\n",
       "      <td>0.003576</td>\n",
       "      <td>0.784379</td>\n",
       "      <td>0.788432</td>\n",
       "      <td>0.789780</td>\n",
       "      <td>0.792995</td>\n",
       "      <td>0.795501</td>\n",
       "    </tr>\n",
       "    <tr>\n",
       "      <th>cid</th>\n",
       "      <td>10.0</td>\n",
       "      <td>0.814258</td>\n",
       "      <td>0.003709</td>\n",
       "      <td>0.806083</td>\n",
       "      <td>0.813619</td>\n",
       "      <td>0.814369</td>\n",
       "      <td>0.816183</td>\n",
       "      <td>0.820203</td>\n",
       "    </tr>\n",
       "    <tr>\n",
       "      <th>csr</th>\n",
       "      <td>10.0</td>\n",
       "      <td>0.796316</td>\n",
       "      <td>0.003399</td>\n",
       "      <td>0.791040</td>\n",
       "      <td>0.793675</td>\n",
       "      <td>0.797297</td>\n",
       "      <td>0.798358</td>\n",
       "      <td>0.800822</td>\n",
       "    </tr>\n",
       "    <tr>\n",
       "      <th>icd10</th>\n",
       "      <td>10.0</td>\n",
       "      <td>0.792745</td>\n",
       "      <td>0.004447</td>\n",
       "      <td>0.785249</td>\n",
       "      <td>0.790707</td>\n",
       "      <td>0.791960</td>\n",
       "      <td>0.795565</td>\n",
       "      <td>0.800157</td>\n",
       "    </tr>\n",
       "    <tr>\n",
       "      <th>icd9</th>\n",
       "      <td>10.0</td>\n",
       "      <td>0.807835</td>\n",
       "      <td>0.003176</td>\n",
       "      <td>0.800666</td>\n",
       "      <td>0.807104</td>\n",
       "      <td>0.808617</td>\n",
       "      <td>0.809503</td>\n",
       "      <td>0.811513</td>\n",
       "    </tr>\n",
       "    <tr>\n",
       "      <th>phe</th>\n",
       "      <td>10.0</td>\n",
       "      <td>0.811946</td>\n",
       "      <td>0.004960</td>\n",
       "      <td>0.804033</td>\n",
       "      <td>0.808158</td>\n",
       "      <td>0.812742</td>\n",
       "      <td>0.813923</td>\n",
       "      <td>0.820555</td>\n",
       "    </tr>\n",
       "    <tr>\n",
       "      <th>uml</th>\n",
       "      <td>10.0</td>\n",
       "      <td>0.822450</td>\n",
       "      <td>0.002944</td>\n",
       "      <td>0.817076</td>\n",
       "      <td>0.820364</td>\n",
       "      <td>0.823746</td>\n",
       "      <td>0.824035</td>\n",
       "      <td>0.826585</td>\n",
       "    </tr>\n",
       "  </tbody>\n",
       "</table>\n",
       "</div>"
      ],
      "text/plain": [
       "      bestTestAuc                                                              \\\n",
       "            count      mean       std       min       25%       50%       75%   \n",
       "Term                                                                            \n",
       "ccs          10.0  0.790253  0.003576  0.784379  0.788432  0.789780  0.792995   \n",
       "cid          10.0  0.814258  0.003709  0.806083  0.813619  0.814369  0.816183   \n",
       "csr          10.0  0.796316  0.003399  0.791040  0.793675  0.797297  0.798358   \n",
       "icd10        10.0  0.792745  0.004447  0.785249  0.790707  0.791960  0.795565   \n",
       "icd9         10.0  0.807835  0.003176  0.800666  0.807104  0.808617  0.809503   \n",
       "phe          10.0  0.811946  0.004960  0.804033  0.808158  0.812742  0.813923   \n",
       "uml          10.0  0.822450  0.002944  0.817076  0.820364  0.823746  0.824035   \n",
       "\n",
       "                 \n",
       "            max  \n",
       "Term             \n",
       "ccs    0.795501  \n",
       "cid    0.820203  \n",
       "csr    0.800822  \n",
       "icd10  0.800157  \n",
       "icd9   0.811513  \n",
       "phe    0.820555  \n",
       "uml    0.826585  "
      ]
     },
     "execution_count": 8,
     "metadata": {},
     "output_type": "execute_result"
    }
   ],
   "source": [
    "RNN_sum"
   ]
  },
  {
   "cell_type": "markdown",
   "metadata": {},
   "source": [
    "#### Calculate Delong Pvalue"
   ]
  },
  {
   "cell_type": "code",
   "execution_count": 9,
   "metadata": {},
   "outputs": [],
   "source": [
    "##### Results Preparation\n",
    "###RNN results\n",
    "RNN_results_DL=pd.DataFrame(dlcalc_RNN)\n",
    "RNN_results_DL.columns=['Term','Run','Pt_sk','label','RNN_prob']\n",
    "RNN_results_pv=RNN_results_DL[~(RNN_results_DL['Pt_sk'].isin([126988858,196334846,206308992]))].pivot_table(index=['Pt_sk','label'], columns='Term', values='RNN_prob').reset_index()\n",
    "### LR results\n",
    "LR_results_DL = pd.concat([pd.DataFrame(di) for di in dlcalc_LR], axis=0)\n",
    "LR_results_pv=LR_results_DL[~(LR_results_DL['pt_sk'].isin([126988858,196334846,206308992]))].pivot_table(index=['pt_sk','label'], columns='Term', values='lR_prob').reset_index()"
   ]
  },
  {
   "cell_type": "code",
   "execution_count": 10,
   "metadata": {},
   "outputs": [],
   "source": [
    "#RNN_results_pv.isnull().sum()### 1pt in icd 9 [126988858] and 2 in Phe [196334846,206308992](exclude those 3)\n",
    "#RNN_results_pv[RNN_results_pv['phe'].isnull()] "
   ]
  },
  {
   "cell_type": "code",
   "execution_count": 11,
   "metadata": {},
   "outputs": [],
   "source": [
    "import Delong_Calc as dlgc\n",
    "dl_results=[]\n",
    "for term1 in ['csr','cid','icd9','icd10','ccs','uml','phe']:\n",
    "    for term2 in ['csr','cid','icd9','icd10','ccs','uml','phe']:\n",
    "        pval_LR=dlgc.delong_roc_test(LR_results_pv['label'].to_numpy(),LR_results_pv[term1].to_numpy(),LR_results_pv[term2].to_numpy())\n",
    "        pval_RNN=dlgc.delong_roc_test(RNN_results_pv['label'].to_numpy(),RNN_results_pv[term1].to_numpy(),RNN_results_pv[term2].to_numpy())\n",
    "        #print (term1, 'vs', term2,'LR log p-value=', pval_LR[0][0] ,'RNN log p-value=', pval_RNN[0][0])\n",
    "        dl_results.append([term1, term2, pval_LR[0][0], pval_RNN[0][0]])"
   ]
  },
  {
   "cell_type": "code",
   "execution_count": 12,
   "metadata": {},
   "outputs": [
    {
     "data": {
      "text/plain": [
       "'cid vs cid LR log p-value= nan RNN log p-value= nan\\ncid vs icd9 LR log p-value= -4.223370262120469 RNN log p-value= -4.043063612205202\\ncid vs icd10 LR log p-value= -4.834255676332444 RNN log p-value= -3.809331316475661\\ncid vs ccs LR log p-value= -6.618930497528267 RNN log p-value= -11.749515389592565\\ncid vs uml LR log p-value= -0.5411129252816755 RNN log p-value= -0.2880030779515665\\nicd9 vs cid LR log p-value= -4.223370262120469 RNN log p-value= -4.043063612205202\\nicd9 vs icd9 LR log p-value= nan RNN log p-value= nan\\nicd9 vs icd10 LR log p-value= -0.2957389927105521 RNN log p-value= -0.08267607934863302\\nicd9 vs ccs LR log p-value= -3.089835031814745 RNN log p-value= -4.962188184271849\\nicd9 vs uml LR log p-value= -4.801938956218903 RNN log p-value= -2.783956724545916\\nicd10 vs cid LR log p-value= -4.834255676332444 RNN log p-value= -3.809331316475661\\nicd10 vs icd9 LR log p-value= -0.2957389927105521 RNN log p-value= -0.08267607934863302\\nicd10 vs icd10 LR log p-value= nan RNN log p-value= nan\\nicd10 vs ccs LR log p-value= -2.5344256288301414 RNN log p-value= -4.971236424636719\\nicd10 vs uml LR log p-value= -5.548689280926472 RNN log p-value= -2.472776122430077\\nccs vs cid LR log p-value= -6.618930497528267 RNN log p-value= -11.749515389592565\\nccs vs icd9 LR log p-value= -3.089835031814745 RNN log p-value= -4.962188184271849\\nccs vs icd10 LR log p-value= -2.5344256288301414 RNN log p-value= -4.971236424636719\\nccs vs ccs LR log p-value= nan RNN log p-value= nan\\nccs vs uml LR log p-value= -7.831945346986503 RNN log p-value= -11.271779865126106\\numl vs cid LR log p-value= -0.5411129252816755 RNN log p-value= -0.2880030779515665\\numl vs icd9 LR log p-value= -4.801938956218903 RNN log p-value= -2.783956724545916\\numl vs icd10 LR log p-value= -5.548689280926472 RNN log p-value= -2.472776122430077\\numl vs ccs LR log p-value= -7.831945346986503 RNN log p-value= -11.271779865126106\\numl vs uml LR log p-value= nan RNN log p-value= nan\\n'"
      ]
     },
     "execution_count": 12,
     "metadata": {},
     "output_type": "execute_result"
    }
   ],
   "source": [
    "'''cid vs cid LR log p-value= nan RNN log p-value= nan\n",
    "cid vs icd9 LR log p-value= -4.223370262120469 RNN log p-value= -4.043063612205202\n",
    "cid vs icd10 LR log p-value= -4.834255676332444 RNN log p-value= -3.809331316475661\n",
    "cid vs ccs LR log p-value= -6.618930497528267 RNN log p-value= -11.749515389592565\n",
    "cid vs uml LR log p-value= -0.5411129252816755 RNN log p-value= -0.2880030779515665\n",
    "icd9 vs cid LR log p-value= -4.223370262120469 RNN log p-value= -4.043063612205202\n",
    "icd9 vs icd9 LR log p-value= nan RNN log p-value= nan\n",
    "icd9 vs icd10 LR log p-value= -0.2957389927105521 RNN log p-value= -0.08267607934863302\n",
    "icd9 vs ccs LR log p-value= -3.089835031814745 RNN log p-value= -4.962188184271849\n",
    "icd9 vs uml LR log p-value= -4.801938956218903 RNN log p-value= -2.783956724545916\n",
    "icd10 vs cid LR log p-value= -4.834255676332444 RNN log p-value= -3.809331316475661\n",
    "icd10 vs icd9 LR log p-value= -0.2957389927105521 RNN log p-value= -0.08267607934863302\n",
    "icd10 vs icd10 LR log p-value= nan RNN log p-value= nan\n",
    "icd10 vs ccs LR log p-value= -2.5344256288301414 RNN log p-value= -4.971236424636719\n",
    "icd10 vs uml LR log p-value= -5.548689280926472 RNN log p-value= -2.472776122430077\n",
    "ccs vs cid LR log p-value= -6.618930497528267 RNN log p-value= -11.749515389592565\n",
    "ccs vs icd9 LR log p-value= -3.089835031814745 RNN log p-value= -4.962188184271849\n",
    "ccs vs icd10 LR log p-value= -2.5344256288301414 RNN log p-value= -4.971236424636719\n",
    "ccs vs ccs LR log p-value= nan RNN log p-value= nan\n",
    "ccs vs uml LR log p-value= -7.831945346986503 RNN log p-value= -11.271779865126106\n",
    "uml vs cid LR log p-value= -0.5411129252816755 RNN log p-value= -0.2880030779515665\n",
    "uml vs icd9 LR log p-value= -4.801938956218903 RNN log p-value= -2.783956724545916\n",
    "uml vs icd10 LR log p-value= -5.548689280926472 RNN log p-value= -2.472776122430077\n",
    "uml vs ccs LR log p-value= -7.831945346986503 RNN log p-value= -11.271779865126106\n",
    "uml vs uml LR log p-value= nan RNN log p-value= nan\n",
    "'''"
   ]
  },
  {
   "cell_type": "code",
   "execution_count": 13,
   "metadata": {},
   "outputs": [],
   "source": [
    "DL_results_df=pd.DataFrame(dl_results)\n",
    "DL_results_df.columns=['Term1','Term2','LR_log_pv','RNN_log_pv']"
   ]
  },
  {
   "cell_type": "code",
   "execution_count": 14,
   "metadata": {},
   "outputs": [],
   "source": [
    "LR_results_DL.to_csv('PC_LR_testpts_results_r4.csv')\n",
    "RNN_results_DL.to_csv('PC_RNN_testpts_results_r4.csv')\n",
    "DL_results_df.to_csv('PC_Delonglogpvalues_results_r4.csv')"
   ]
  },
  {
   "cell_type": "code",
   "execution_count": 15,
   "metadata": {},
   "outputs": [
    {
     "data": {
      "text/html": [
       "<div>\n",
       "<style scoped>\n",
       "    .dataframe tbody tr th:only-of-type {\n",
       "        vertical-align: middle;\n",
       "    }\n",
       "\n",
       "    .dataframe tbody tr th {\n",
       "        vertical-align: top;\n",
       "    }\n",
       "\n",
       "    .dataframe thead th {\n",
       "        text-align: right;\n",
       "    }\n",
       "</style>\n",
       "<table border=\"1\" class=\"dataframe\">\n",
       "  <thead>\n",
       "    <tr style=\"text-align: right;\">\n",
       "      <th></th>\n",
       "      <th>Term1</th>\n",
       "      <th>Term2</th>\n",
       "      <th>LR_log_pv</th>\n",
       "      <th>RNN_log_pv</th>\n",
       "    </tr>\n",
       "  </thead>\n",
       "  <tbody>\n",
       "    <tr>\n",
       "      <th>0</th>\n",
       "      <td>csr</td>\n",
       "      <td>csr</td>\n",
       "      <td>NaN</td>\n",
       "      <td>NaN</td>\n",
       "    </tr>\n",
       "    <tr>\n",
       "      <th>1</th>\n",
       "      <td>csr</td>\n",
       "      <td>cid</td>\n",
       "      <td>-4.599914</td>\n",
       "      <td>-6.666705</td>\n",
       "    </tr>\n",
       "    <tr>\n",
       "      <th>2</th>\n",
       "      <td>csr</td>\n",
       "      <td>icd9</td>\n",
       "      <td>-1.608384</td>\n",
       "      <td>-3.949753</td>\n",
       "    </tr>\n",
       "    <tr>\n",
       "      <th>3</th>\n",
       "      <td>csr</td>\n",
       "      <td>icd10</td>\n",
       "      <td>-1.218575</td>\n",
       "      <td>-0.724053</td>\n",
       "    </tr>\n",
       "    <tr>\n",
       "      <th>4</th>\n",
       "      <td>csr</td>\n",
       "      <td>ccs</td>\n",
       "      <td>-1.053725</td>\n",
       "      <td>-0.511812</td>\n",
       "    </tr>\n",
       "    <tr>\n",
       "      <th>5</th>\n",
       "      <td>csr</td>\n",
       "      <td>uml</td>\n",
       "      <td>-5.606620</td>\n",
       "      <td>-9.580295</td>\n",
       "    </tr>\n",
       "    <tr>\n",
       "      <th>6</th>\n",
       "      <td>csr</td>\n",
       "      <td>phe</td>\n",
       "      <td>-1.220955</td>\n",
       "      <td>-6.080431</td>\n",
       "    </tr>\n",
       "    <tr>\n",
       "      <th>7</th>\n",
       "      <td>cid</td>\n",
       "      <td>csr</td>\n",
       "      <td>-4.599914</td>\n",
       "      <td>-6.666705</td>\n",
       "    </tr>\n",
       "    <tr>\n",
       "      <th>8</th>\n",
       "      <td>cid</td>\n",
       "      <td>cid</td>\n",
       "      <td>NaN</td>\n",
       "      <td>NaN</td>\n",
       "    </tr>\n",
       "    <tr>\n",
       "      <th>9</th>\n",
       "      <td>cid</td>\n",
       "      <td>icd9</td>\n",
       "      <td>-4.219207</td>\n",
       "      <td>-1.831780</td>\n",
       "    </tr>\n",
       "    <tr>\n",
       "      <th>10</th>\n",
       "      <td>cid</td>\n",
       "      <td>icd10</td>\n",
       "      <td>-4.840569</td>\n",
       "      <td>-6.264431</td>\n",
       "    </tr>\n",
       "    <tr>\n",
       "      <th>11</th>\n",
       "      <td>cid</td>\n",
       "      <td>ccs</td>\n",
       "      <td>-6.604329</td>\n",
       "      <td>-7.280536</td>\n",
       "    </tr>\n",
       "    <tr>\n",
       "      <th>12</th>\n",
       "      <td>cid</td>\n",
       "      <td>uml</td>\n",
       "      <td>-0.544699</td>\n",
       "      <td>-0.740438</td>\n",
       "    </tr>\n",
       "    <tr>\n",
       "      <th>13</th>\n",
       "      <td>cid</td>\n",
       "      <td>phe</td>\n",
       "      <td>-3.093831</td>\n",
       "      <td>-0.778893</td>\n",
       "    </tr>\n",
       "    <tr>\n",
       "      <th>14</th>\n",
       "      <td>icd9</td>\n",
       "      <td>csr</td>\n",
       "      <td>-1.608384</td>\n",
       "      <td>-3.949753</td>\n",
       "    </tr>\n",
       "    <tr>\n",
       "      <th>15</th>\n",
       "      <td>icd9</td>\n",
       "      <td>cid</td>\n",
       "      <td>-4.219207</td>\n",
       "      <td>-1.831780</td>\n",
       "    </tr>\n",
       "    <tr>\n",
       "      <th>16</th>\n",
       "      <td>icd9</td>\n",
       "      <td>icd9</td>\n",
       "      <td>NaN</td>\n",
       "      <td>NaN</td>\n",
       "    </tr>\n",
       "    <tr>\n",
       "      <th>17</th>\n",
       "      <td>icd9</td>\n",
       "      <td>icd10</td>\n",
       "      <td>-0.298659</td>\n",
       "      <td>-2.787034</td>\n",
       "    </tr>\n",
       "    <tr>\n",
       "      <th>18</th>\n",
       "      <td>icd9</td>\n",
       "      <td>ccs</td>\n",
       "      <td>-3.081314</td>\n",
       "      <td>-5.039090</td>\n",
       "    </tr>\n",
       "    <tr>\n",
       "      <th>19</th>\n",
       "      <td>icd9</td>\n",
       "      <td>uml</td>\n",
       "      <td>-4.804820</td>\n",
       "      <td>-2.824736</td>\n",
       "    </tr>\n",
       "    <tr>\n",
       "      <th>20</th>\n",
       "      <td>icd9</td>\n",
       "      <td>phe</td>\n",
       "      <td>-0.310266</td>\n",
       "      <td>-0.354302</td>\n",
       "    </tr>\n",
       "    <tr>\n",
       "      <th>21</th>\n",
       "      <td>icd10</td>\n",
       "      <td>csr</td>\n",
       "      <td>-1.218575</td>\n",
       "      <td>-0.724053</td>\n",
       "    </tr>\n",
       "    <tr>\n",
       "      <th>22</th>\n",
       "      <td>icd10</td>\n",
       "      <td>cid</td>\n",
       "      <td>-4.840569</td>\n",
       "      <td>-6.264431</td>\n",
       "    </tr>\n",
       "    <tr>\n",
       "      <th>23</th>\n",
       "      <td>icd10</td>\n",
       "      <td>icd9</td>\n",
       "      <td>-0.298659</td>\n",
       "      <td>-2.787034</td>\n",
       "    </tr>\n",
       "    <tr>\n",
       "      <th>24</th>\n",
       "      <td>icd10</td>\n",
       "      <td>icd10</td>\n",
       "      <td>NaN</td>\n",
       "      <td>NaN</td>\n",
       "    </tr>\n",
       "    <tr>\n",
       "      <th>25</th>\n",
       "      <td>icd10</td>\n",
       "      <td>ccs</td>\n",
       "      <td>-2.523123</td>\n",
       "      <td>-1.258533</td>\n",
       "    </tr>\n",
       "    <tr>\n",
       "      <th>26</th>\n",
       "      <td>icd10</td>\n",
       "      <td>uml</td>\n",
       "      <td>-5.562221</td>\n",
       "      <td>-7.211438</td>\n",
       "    </tr>\n",
       "    <tr>\n",
       "      <th>27</th>\n",
       "      <td>icd10</td>\n",
       "      <td>phe</td>\n",
       "      <td>-0.077744</td>\n",
       "      <td>-3.029639</td>\n",
       "    </tr>\n",
       "    <tr>\n",
       "      <th>28</th>\n",
       "      <td>ccs</td>\n",
       "      <td>csr</td>\n",
       "      <td>-1.053725</td>\n",
       "      <td>-0.511812</td>\n",
       "    </tr>\n",
       "    <tr>\n",
       "      <th>29</th>\n",
       "      <td>ccs</td>\n",
       "      <td>cid</td>\n",
       "      <td>-6.604329</td>\n",
       "      <td>-7.280536</td>\n",
       "    </tr>\n",
       "    <tr>\n",
       "      <th>30</th>\n",
       "      <td>ccs</td>\n",
       "      <td>icd9</td>\n",
       "      <td>-3.081314</td>\n",
       "      <td>-5.039090</td>\n",
       "    </tr>\n",
       "    <tr>\n",
       "      <th>31</th>\n",
       "      <td>ccs</td>\n",
       "      <td>icd10</td>\n",
       "      <td>-2.523123</td>\n",
       "      <td>-1.258533</td>\n",
       "    </tr>\n",
       "    <tr>\n",
       "      <th>32</th>\n",
       "      <td>ccs</td>\n",
       "      <td>ccs</td>\n",
       "      <td>NaN</td>\n",
       "      <td>NaN</td>\n",
       "    </tr>\n",
       "    <tr>\n",
       "      <th>33</th>\n",
       "      <td>ccs</td>\n",
       "      <td>uml</td>\n",
       "      <td>-7.820040</td>\n",
       "      <td>-10.347433</td>\n",
       "    </tr>\n",
       "    <tr>\n",
       "      <th>34</th>\n",
       "      <td>ccs</td>\n",
       "      <td>phe</td>\n",
       "      <td>-2.626799</td>\n",
       "      <td>-6.989536</td>\n",
       "    </tr>\n",
       "    <tr>\n",
       "      <th>35</th>\n",
       "      <td>uml</td>\n",
       "      <td>csr</td>\n",
       "      <td>-5.606620</td>\n",
       "      <td>-9.580295</td>\n",
       "    </tr>\n",
       "    <tr>\n",
       "      <th>36</th>\n",
       "      <td>uml</td>\n",
       "      <td>cid</td>\n",
       "      <td>-0.544699</td>\n",
       "      <td>-0.740438</td>\n",
       "    </tr>\n",
       "    <tr>\n",
       "      <th>37</th>\n",
       "      <td>uml</td>\n",
       "      <td>icd9</td>\n",
       "      <td>-4.804820</td>\n",
       "      <td>-2.824736</td>\n",
       "    </tr>\n",
       "    <tr>\n",
       "      <th>38</th>\n",
       "      <td>uml</td>\n",
       "      <td>icd10</td>\n",
       "      <td>-5.562221</td>\n",
       "      <td>-7.211438</td>\n",
       "    </tr>\n",
       "    <tr>\n",
       "      <th>39</th>\n",
       "      <td>uml</td>\n",
       "      <td>ccs</td>\n",
       "      <td>-7.820040</td>\n",
       "      <td>-10.347433</td>\n",
       "    </tr>\n",
       "    <tr>\n",
       "      <th>40</th>\n",
       "      <td>uml</td>\n",
       "      <td>uml</td>\n",
       "      <td>NaN</td>\n",
       "      <td>NaN</td>\n",
       "    </tr>\n",
       "    <tr>\n",
       "      <th>41</th>\n",
       "      <td>uml</td>\n",
       "      <td>phe</td>\n",
       "      <td>-3.931164</td>\n",
       "      <td>-1.885755</td>\n",
       "    </tr>\n",
       "    <tr>\n",
       "      <th>42</th>\n",
       "      <td>phe</td>\n",
       "      <td>csr</td>\n",
       "      <td>-1.220955</td>\n",
       "      <td>-6.080431</td>\n",
       "    </tr>\n",
       "    <tr>\n",
       "      <th>43</th>\n",
       "      <td>phe</td>\n",
       "      <td>cid</td>\n",
       "      <td>-3.093831</td>\n",
       "      <td>-0.778893</td>\n",
       "    </tr>\n",
       "    <tr>\n",
       "      <th>44</th>\n",
       "      <td>phe</td>\n",
       "      <td>icd9</td>\n",
       "      <td>-0.310266</td>\n",
       "      <td>-0.354302</td>\n",
       "    </tr>\n",
       "    <tr>\n",
       "      <th>45</th>\n",
       "      <td>phe</td>\n",
       "      <td>icd10</td>\n",
       "      <td>-0.077744</td>\n",
       "      <td>-3.029639</td>\n",
       "    </tr>\n",
       "    <tr>\n",
       "      <th>46</th>\n",
       "      <td>phe</td>\n",
       "      <td>ccs</td>\n",
       "      <td>-2.626799</td>\n",
       "      <td>-6.989536</td>\n",
       "    </tr>\n",
       "    <tr>\n",
       "      <th>47</th>\n",
       "      <td>phe</td>\n",
       "      <td>uml</td>\n",
       "      <td>-3.931164</td>\n",
       "      <td>-1.885755</td>\n",
       "    </tr>\n",
       "    <tr>\n",
       "      <th>48</th>\n",
       "      <td>phe</td>\n",
       "      <td>phe</td>\n",
       "      <td>NaN</td>\n",
       "      <td>NaN</td>\n",
       "    </tr>\n",
       "  </tbody>\n",
       "</table>\n",
       "</div>"
      ],
      "text/plain": [
       "    Term1  Term2  LR_log_pv  RNN_log_pv\n",
       "0     csr    csr        NaN         NaN\n",
       "1     csr    cid  -4.599914   -6.666705\n",
       "2     csr   icd9  -1.608384   -3.949753\n",
       "3     csr  icd10  -1.218575   -0.724053\n",
       "4     csr    ccs  -1.053725   -0.511812\n",
       "5     csr    uml  -5.606620   -9.580295\n",
       "6     csr    phe  -1.220955   -6.080431\n",
       "7     cid    csr  -4.599914   -6.666705\n",
       "8     cid    cid        NaN         NaN\n",
       "9     cid   icd9  -4.219207   -1.831780\n",
       "10    cid  icd10  -4.840569   -6.264431\n",
       "11    cid    ccs  -6.604329   -7.280536\n",
       "12    cid    uml  -0.544699   -0.740438\n",
       "13    cid    phe  -3.093831   -0.778893\n",
       "14   icd9    csr  -1.608384   -3.949753\n",
       "15   icd9    cid  -4.219207   -1.831780\n",
       "16   icd9   icd9        NaN         NaN\n",
       "17   icd9  icd10  -0.298659   -2.787034\n",
       "18   icd9    ccs  -3.081314   -5.039090\n",
       "19   icd9    uml  -4.804820   -2.824736\n",
       "20   icd9    phe  -0.310266   -0.354302\n",
       "21  icd10    csr  -1.218575   -0.724053\n",
       "22  icd10    cid  -4.840569   -6.264431\n",
       "23  icd10   icd9  -0.298659   -2.787034\n",
       "24  icd10  icd10        NaN         NaN\n",
       "25  icd10    ccs  -2.523123   -1.258533\n",
       "26  icd10    uml  -5.562221   -7.211438\n",
       "27  icd10    phe  -0.077744   -3.029639\n",
       "28    ccs    csr  -1.053725   -0.511812\n",
       "29    ccs    cid  -6.604329   -7.280536\n",
       "30    ccs   icd9  -3.081314   -5.039090\n",
       "31    ccs  icd10  -2.523123   -1.258533\n",
       "32    ccs    ccs        NaN         NaN\n",
       "33    ccs    uml  -7.820040  -10.347433\n",
       "34    ccs    phe  -2.626799   -6.989536\n",
       "35    uml    csr  -5.606620   -9.580295\n",
       "36    uml    cid  -0.544699   -0.740438\n",
       "37    uml   icd9  -4.804820   -2.824736\n",
       "38    uml  icd10  -5.562221   -7.211438\n",
       "39    uml    ccs  -7.820040  -10.347433\n",
       "40    uml    uml        NaN         NaN\n",
       "41    uml    phe  -3.931164   -1.885755\n",
       "42    phe    csr  -1.220955   -6.080431\n",
       "43    phe    cid  -3.093831   -0.778893\n",
       "44    phe   icd9  -0.310266   -0.354302\n",
       "45    phe  icd10  -0.077744   -3.029639\n",
       "46    phe    ccs  -2.626799   -6.989536\n",
       "47    phe    uml  -3.931164   -1.885755\n",
       "48    phe    phe        NaN         NaN"
      ]
     },
     "execution_count": 15,
     "metadata": {},
     "output_type": "execute_result"
    }
   ],
   "source": [
    "DL_results_df"
   ]
  },
  {
   "cell_type": "markdown",
   "metadata": {},
   "source": [
    "#### Calculate Unpaired T-Test"
   ]
  },
  {
   "cell_type": "code",
   "execution_count": 16,
   "metadata": {},
   "outputs": [],
   "source": [
    "from scipy import stats\n",
    "\n"
   ]
  },
  {
   "cell_type": "code",
   "execution_count": 17,
   "metadata": {},
   "outputs": [],
   "source": [
    "tt_results=[]\n",
    "for term1 in RNN_sum.index:\n",
    "    mean1=RNN_sum.loc[term1,('bestTestAuc',  'mean')]\n",
    "    std1= RNN_sum.loc[term1,('bestTestAuc',  'std')]\n",
    "    nobs1=RNN_sum.loc[term1,('bestTestAuc',  'count')]\n",
    "    for term2 in RNN_sum.index:\n",
    "        if term1==term2: continue\n",
    "        else:\n",
    "            #mean2=RNN_sum.loc[term2,('bestTestAuc',  'mean')]\n",
    "            #std2= RNN_sum.loc[term2,('bestTestAuc',  'std')]\n",
    "            #nobs2=RNN_sum.loc[term2,('bestTestAuc',  'count')]\n",
    "            sts1,pvalue1=stats.ttest_ind_from_stats(mean1, std1, nobs1 ,RNN_sum.loc[term2,('bestTestAuc',  'mean')],RNN_sum.loc[term2,('bestTestAuc',  'std')], RNN_sum.loc[term2,('bestTestAuc',  'count')], equal_var=True)\n",
    "            sts2,pvalue2=stats.ttest_ind_from_stats(mean1, std1, nobs1 ,RNN_sum.loc[term2,('bestTestAuc',  'mean')],RNN_sum.loc[term2,('bestTestAuc',  'std')], RNN_sum.loc[term2,('bestTestAuc',  'count')], equal_var=False)\n",
    "            tt_results.append([term1 , term2, sts1,pvalue1,sts2,pvalue2])                                                                                                                   "
   ]
  },
  {
   "cell_type": "code",
   "execution_count": 18,
   "metadata": {},
   "outputs": [],
   "source": [
    "tt_df=pd.DataFrame(tt_results)\n",
    "tt_df.columns=['term1' , 'term2', 'sts1','pvalue1','sts2','pvalue2']\n",
    "tt_df.to_csv('PC_RNN_TT_pvalues_results_r4.csv')"
   ]
  },
  {
   "cell_type": "code",
   "execution_count": 19,
   "metadata": {},
   "outputs": [
    {
     "data": {
      "text/html": [
       "<div>\n",
       "<style scoped>\n",
       "    .dataframe tbody tr th:only-of-type {\n",
       "        vertical-align: middle;\n",
       "    }\n",
       "\n",
       "    .dataframe tbody tr th {\n",
       "        vertical-align: top;\n",
       "    }\n",
       "\n",
       "    .dataframe thead tr th {\n",
       "        text-align: left;\n",
       "    }\n",
       "\n",
       "    .dataframe thead tr:last-of-type th {\n",
       "        text-align: right;\n",
       "    }\n",
       "</style>\n",
       "<table border=\"1\" class=\"dataframe\">\n",
       "  <thead>\n",
       "    <tr>\n",
       "      <th></th>\n",
       "      <th colspan=\"8\" halign=\"left\">bestTestAuc</th>\n",
       "    </tr>\n",
       "    <tr>\n",
       "      <th></th>\n",
       "      <th>count</th>\n",
       "      <th>mean</th>\n",
       "      <th>std</th>\n",
       "      <th>min</th>\n",
       "      <th>25%</th>\n",
       "      <th>50%</th>\n",
       "      <th>75%</th>\n",
       "      <th>max</th>\n",
       "    </tr>\n",
       "    <tr>\n",
       "      <th>Term</th>\n",
       "      <th></th>\n",
       "      <th></th>\n",
       "      <th></th>\n",
       "      <th></th>\n",
       "      <th></th>\n",
       "      <th></th>\n",
       "      <th></th>\n",
       "      <th></th>\n",
       "    </tr>\n",
       "  </thead>\n",
       "  <tbody>\n",
       "    <tr>\n",
       "      <th>ccs</th>\n",
       "      <td>10.0</td>\n",
       "      <td>0.790253</td>\n",
       "      <td>0.003576</td>\n",
       "      <td>0.784379</td>\n",
       "      <td>0.788432</td>\n",
       "      <td>0.789780</td>\n",
       "      <td>0.792995</td>\n",
       "      <td>0.795501</td>\n",
       "    </tr>\n",
       "    <tr>\n",
       "      <th>cid</th>\n",
       "      <td>10.0</td>\n",
       "      <td>0.814258</td>\n",
       "      <td>0.003709</td>\n",
       "      <td>0.806083</td>\n",
       "      <td>0.813619</td>\n",
       "      <td>0.814369</td>\n",
       "      <td>0.816183</td>\n",
       "      <td>0.820203</td>\n",
       "    </tr>\n",
       "    <tr>\n",
       "      <th>csr</th>\n",
       "      <td>10.0</td>\n",
       "      <td>0.796316</td>\n",
       "      <td>0.003399</td>\n",
       "      <td>0.791040</td>\n",
       "      <td>0.793675</td>\n",
       "      <td>0.797297</td>\n",
       "      <td>0.798358</td>\n",
       "      <td>0.800822</td>\n",
       "    </tr>\n",
       "    <tr>\n",
       "      <th>icd10</th>\n",
       "      <td>10.0</td>\n",
       "      <td>0.792745</td>\n",
       "      <td>0.004447</td>\n",
       "      <td>0.785249</td>\n",
       "      <td>0.790707</td>\n",
       "      <td>0.791960</td>\n",
       "      <td>0.795565</td>\n",
       "      <td>0.800157</td>\n",
       "    </tr>\n",
       "    <tr>\n",
       "      <th>icd9</th>\n",
       "      <td>10.0</td>\n",
       "      <td>0.807835</td>\n",
       "      <td>0.003176</td>\n",
       "      <td>0.800666</td>\n",
       "      <td>0.807104</td>\n",
       "      <td>0.808617</td>\n",
       "      <td>0.809503</td>\n",
       "      <td>0.811513</td>\n",
       "    </tr>\n",
       "    <tr>\n",
       "      <th>phe</th>\n",
       "      <td>10.0</td>\n",
       "      <td>0.811946</td>\n",
       "      <td>0.004960</td>\n",
       "      <td>0.804033</td>\n",
       "      <td>0.808158</td>\n",
       "      <td>0.812742</td>\n",
       "      <td>0.813923</td>\n",
       "      <td>0.820555</td>\n",
       "    </tr>\n",
       "    <tr>\n",
       "      <th>uml</th>\n",
       "      <td>10.0</td>\n",
       "      <td>0.822450</td>\n",
       "      <td>0.002944</td>\n",
       "      <td>0.817076</td>\n",
       "      <td>0.820364</td>\n",
       "      <td>0.823746</td>\n",
       "      <td>0.824035</td>\n",
       "      <td>0.826585</td>\n",
       "    </tr>\n",
       "  </tbody>\n",
       "</table>\n",
       "</div>"
      ],
      "text/plain": [
       "      bestTestAuc                                                              \\\n",
       "            count      mean       std       min       25%       50%       75%   \n",
       "Term                                                                            \n",
       "ccs          10.0  0.790253  0.003576  0.784379  0.788432  0.789780  0.792995   \n",
       "cid          10.0  0.814258  0.003709  0.806083  0.813619  0.814369  0.816183   \n",
       "csr          10.0  0.796316  0.003399  0.791040  0.793675  0.797297  0.798358   \n",
       "icd10        10.0  0.792745  0.004447  0.785249  0.790707  0.791960  0.795565   \n",
       "icd9         10.0  0.807835  0.003176  0.800666  0.807104  0.808617  0.809503   \n",
       "phe          10.0  0.811946  0.004960  0.804033  0.808158  0.812742  0.813923   \n",
       "uml          10.0  0.822450  0.002944  0.817076  0.820364  0.823746  0.824035   \n",
       "\n",
       "                 \n",
       "            max  \n",
       "Term             \n",
       "ccs    0.795501  \n",
       "cid    0.820203  \n",
       "csr    0.800822  \n",
       "icd10  0.800157  \n",
       "icd9   0.811513  \n",
       "phe    0.820555  \n",
       "uml    0.826585  "
      ]
     },
     "execution_count": 19,
     "metadata": {},
     "output_type": "execute_result"
    }
   ],
   "source": [
    "RNN_sum"
   ]
  },
  {
   "cell_type": "code",
   "execution_count": null,
   "metadata": {},
   "outputs": [],
   "source": []
  }
 ],
 "metadata": {
  "kernelspec": {
   "display_name": "py_37_env",
   "language": "python",
   "name": "py_37_env"
  },
  "language_info": {
   "codemirror_mode": {
    "name": "ipython",
    "version": 3
   },
   "file_extension": ".py",
   "mimetype": "text/x-python",
   "name": "python",
   "nbconvert_exporter": "python",
   "pygments_lexer": "ipython3",
   "version": "3.7.2"
  }
 },
 "nbformat": 4,
 "nbformat_minor": 2
}
